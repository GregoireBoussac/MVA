{
 "cells": [
  {
   "cell_type": "markdown",
   "metadata": {},
   "source": [
    "<h1>Homework 1 - Grégoire Boussac</h1>"
   ]
  },
  {
   "cell_type": "markdown",
   "metadata": {},
   "source": [
    "## 2 - Imports"
   ]
  },
  {
   "cell_type": "code",
   "execution_count": 1,
   "metadata": {},
   "outputs": [],
   "source": [
    "import matplotlib.pyplot as plt\n",
    "import numpy as np\n",
    "%matplotlib inline\n",
    "from tqdm import tqdm"
   ]
  },
  {
   "cell_type": "code",
   "execution_count": 2,
   "metadata": {},
   "outputs": [
    {
     "name": "stderr",
     "output_type": "stream",
     "text": [
      "/anaconda3/lib/python3.6/site-packages/h5py/__init__.py:36: FutureWarning: Conversion of the second argument of issubdtype from `float` to `np.floating` is deprecated. In future, it will be treated as `np.float64 == np.dtype(float).type`.\n",
      "  from ._conv import register_converters as _register_converters\n",
      "Using TensorFlow backend.\n"
     ]
    }
   ],
   "source": [
    "import keras\n",
    "from keras.models import Sequential\n",
    "from keras.layers import Dense, Activation, Convolution2D, Flatten, MaxPooling2D, Dropout\n",
    "from keras import optimizers\n",
    "from keras.utils.np_utils import to_categorical\n",
    "from keras.callbacks import ModelCheckpoint, EarlyStopping"
   ]
  },
  {
   "cell_type": "code",
   "execution_count": 3,
   "metadata": {},
   "outputs": [
    {
     "data": {
      "image/png": "[encoded data removed]",
      "text/plain": [
       "<matplotlib.figure.Figure at 0x1829c14748>"
      ]
     },
     "metadata": {},
     "output_type": "display_data"
    }
   ],
   "source": [
    "# On some implementations of matplotlib, you may need to change this value\n",
    "IMAGE_SIZE = 72\n",
    "\n",
    "def generate_a_drawing(figsize, U, V, noise=0.0):\n",
    "    fig = plt.figure(figsize=(figsize,figsize))\n",
    "    ax = plt.subplot(111)\n",
    "    plt.axis('Off')\n",
    "    ax.set_xlim(0,figsize)\n",
    "    ax.set_ylim(0,figsize)\n",
    "    ax.fill(U, V, \"k\")\n",
    "    fig.canvas.draw()\n",
    "    imdata = np.frombuffer(fig.canvas.tostring_rgb(), dtype=np.uint8)[::3].astype(np.float32)\n",
    "    imdata = imdata + noise * np.random.random(imdata.size)\n",
    "    plt.close(fig)\n",
    "    return imdata\n",
    "\n",
    "def generate_a_rectangle(noise=0.0, free_location=False):\n",
    "    figsize = 1.0    \n",
    "    U = np.zeros(4)\n",
    "    V = np.zeros(4)\n",
    "    if free_location:\n",
    "        corners = np.random.random(4)\n",
    "        top = max(corners[0], corners[1])\n",
    "        bottom = min(corners[0], corners[1])\n",
    "        left = min(corners[2], corners[3])\n",
    "        right = max(corners[2], corners[3])\n",
    "    else:\n",
    "        side = (0.3 + 0.7 * np.random.random()) * figsize\n",
    "        top = figsize/2 + side/2\n",
    "        bottom = figsize/2 - side/2\n",
    "        left = bottom\n",
    "        right = top\n",
    "    U[0] = U[1] = top\n",
    "    U[2] = U[3] = bottom\n",
    "    V[0] = V[3] = left\n",
    "    V[1] = V[2] = right\n",
    "    return generate_a_drawing(figsize, U, V, noise)\n",
    "\n",
    "\n",
    "def generate_a_disk(noise=0.0, free_location=False):\n",
    "    figsize = 1.0\n",
    "    if free_location:\n",
    "        center = np.random.random(2)\n",
    "    else:\n",
    "        center = (figsize/2, figsize/2)\n",
    "    radius = (0.3 + 0.7 * np.random.random()) * figsize/2\n",
    "    N = 50\n",
    "    U = np.zeros(N)\n",
    "    V = np.zeros(N)\n",
    "    i = 0\n",
    "    for t in np.linspace(0, 2*np.pi, N):\n",
    "        U[i] = center[0] + np.cos(t) * radius\n",
    "        V[i] = center[1] + np.sin(t) * radius\n",
    "        i = i + 1\n",
    "    return generate_a_drawing(figsize, U, V, noise)\n",
    "\n",
    "def generate_a_triangle(noise=0.0, free_location=False):\n",
    "    figsize = 1.0\n",
    "    if free_location:\n",
    "        U = np.random.random(3)\n",
    "        V = np.random.random(3)\n",
    "    else:\n",
    "        size = (0.3 + 0.7 * np.random.random())*figsize/2\n",
    "        middle = figsize/2\n",
    "        U = (middle, middle+size, middle-size)\n",
    "        V = (middle+size, middle-size, middle-size)\n",
    "    imdata = generate_a_drawing(figsize, U, V, noise)\n",
    "    return [imdata, [U[0], V[0], U[1], V[1], U[2], V[2]]]\n",
    "\n",
    "\n",
    "im = generate_a_rectangle(10, True)\n",
    "plt.imshow(im.reshape(IMAGE_SIZE,IMAGE_SIZE), cmap='gray')\n",
    "\n",
    "im = generate_a_disk(10)\n",
    "plt.imshow(im.reshape(IMAGE_SIZE,IMAGE_SIZE), cmap='gray')\n",
    "\n",
    "[im, v] = generate_a_triangle(20, False)\n",
    "plt.imshow(im.reshape(IMAGE_SIZE,IMAGE_SIZE), cmap='gray')\n",
    "\n",
    "\n",
    "def generate_dataset_classification(nb_samples, noise=0.0, free_location=False):\n",
    "    # Getting im_size:\n",
    "    im_size = generate_a_rectangle().shape[0]\n",
    "    X = np.zeros([nb_samples,im_size])\n",
    "    Y = np.zeros(nb_samples)\n",
    "    for i in tqdm(range(nb_samples)):\n",
    "        category = np.random.randint(3)\n",
    "        if category == 0:\n",
    "            X[i] = generate_a_rectangle(noise, free_location)\n",
    "        elif category == 1: \n",
    "            X[i] = generate_a_disk(noise, free_location)\n",
    "        else:\n",
    "            [X[i], V] = generate_a_triangle(noise, free_location)\n",
    "        Y[i] = category\n",
    "    X = (X + noise) / (255 + 2 * noise)\n",
    "    return [X, Y]\n",
    "\n",
    "def generate_test_set_classification():\n",
    "    np.random.seed(42)\n",
    "    [X_test, Y_test] = generate_dataset_classification(300, 20, True)\n",
    "    Y_test = to_categorical(Y_test, 3) \n",
    "    return [X_test, Y_test]\n",
    "\n",
    "def generate_dataset_regression(nb_samples, noise=0.0):\n",
    "    # Getting im_size:\n",
    "    im_size = generate_a_triangle()[0].shape[0]\n",
    "    X = np.zeros([nb_samples,im_size])\n",
    "    Y = np.zeros([nb_samples, 6])\n",
    "    for i in tqdm(range(nb_samples)):\n",
    "        [X[i], Y[i]] = generate_a_triangle(noise, True)\n",
    "    X = (X + noise) / (255 + 2 * noise)\n",
    "    return [X, Y]\n",
    "\n",
    "import matplotlib.patches as patches\n",
    "\n",
    "def visualize_prediction(x, y):\n",
    "    fig, ax = plt.subplots(figsize=(5, 5))\n",
    "    I = x.reshape((IMAGE_SIZE,IMAGE_SIZE))\n",
    "    ax.imshow(I, extent=[-0.15,1.15,-0.15,1.15],cmap='gray')\n",
    "    ax.set_xlim([0,1])\n",
    "    ax.set_ylim([0,1])\n",
    "\n",
    "    xy = y.reshape(3,2)\n",
    "    tri = patches.Polygon(xy, closed=True, fill = False, edgecolor = 'r', linewidth = 5, alpha = 0.5)\n",
    "    ax.add_patch(tri)\n",
    "\n",
    "    plt.show()\n",
    "\n",
    "def generate_test_set_regression():\n",
    "    np.random.seed(42)\n",
    "    [X_test, Y_test] = generate_dataset_regression(300, 20)\n",
    "    return [X_test, Y_test]"
   ]
  },
  {
   "cell_type": "markdown",
   "metadata": {},
   "source": [
    "# 3 - Simple classification"
   ]
  },
  {
   "cell_type": "markdown",
   "metadata": {},
   "source": [
    "* Utils"
   ]
  },
  {
   "cell_type": "code",
   "execution_count": 4,
   "metadata": {},
   "outputs": [],
   "source": [
    "def vizualize_weights(model):\n",
    "    W, b = model.get_weights()\n",
    "    \n",
    "    plt.figure()\n",
    "    plt.subplot(1, 3, 1)\n",
    "    plt.imshow(W[:, 0].reshape(IMAGE_SIZE, IMAGE_SIZE), cmap='gray')\n",
    "    plt.title('Rectangle class')\n",
    "    \n",
    "    plt.subplot(1, 3, 2)\n",
    "    plt.imshow(W[:, 1].reshape(IMAGE_SIZE, IMAGE_SIZE), cmap='gray')\n",
    "    plt.title('Circle class')\n",
    "\n",
    "    plt.subplot(1, 3, 3)\n",
    "    plt.imshow(W[:, 2].reshape(IMAGE_SIZE, IMAGE_SIZE), cmap='gray')\n",
    "    plt.title('Triangle class')\n",
    "    plt.show()"
   ]
  },
  {
   "cell_type": "code",
   "execution_count": 5,
   "metadata": {},
   "outputs": [],
   "source": [
    "def test_linear_model(model):\n",
    "    X_test = np.array(generate_a_rectangle())\n",
    "    X_test = X_test.reshape(1, X_test.shape[0])\n",
    "    print(\"Correctly predicted a rectangle : \", model.predict(X_test)[0][0]==1)\n",
    "    \n",
    "    X_test, _ = generate_a_triangle()\n",
    "    X_test = X_test.reshape(1, X_test.shape[0])\n",
    "    print(\"Corrrectly predicted a triangle : \", model.predict(X_test)[0][2]==1)\n",
    "    \n",
    "    X_test = np.array(generate_a_disk())\n",
    "    X_test = X_test.reshape(1, X_test.shape[0])\n",
    "    print(\"Corrrectly predicted a disk : \", model.predict(X_test)[0][1]==1)"
   ]
  },
  {
   "cell_type": "markdown",
   "metadata": {},
   "source": [
    "- Create datasets"
   ]
  },
  {
   "cell_type": "code",
   "execution_count": 6,
   "metadata": {
    "scrolled": true
   },
   "outputs": [
    {
     "name": "stderr",
     "output_type": "stream",
     "text": [
      "100%|██████████| 300/300 [00:18<00:00, 15.94it/s]\n",
      "100%|██████████| 100/100 [00:06<00:00, 16.10it/s]\n"
     ]
    }
   ],
   "source": [
    "[X_train, Y_train] = generate_dataset_classification(300, 20)\n",
    "[X_val, Y_val] = generate_dataset_classification(100, 20)\n",
    "\n",
    "Y_train_cat = keras.utils.to_categorical(Y_train)\n",
    "Y_val_cat = keras.utils.to_categorical(Y_val)\n",
    "\n",
    "nb_classes = len(np.unique(Y_train))"
   ]
  },
  {
   "cell_type": "markdown",
   "metadata": {},
   "source": [
    "## SGD"
   ]
  },
  {
   "cell_type": "markdown",
   "metadata": {},
   "source": [
    "<b>N.B.:</b>\n",
    "\n",
    "During the training of the different models, we will use EarlyStopping.\n",
    "\n",
    "The idea is to stop the training if no improvement is observed during a certain amount of time."
   ]
  },
  {
   "cell_type": "code",
   "execution_count": 7,
   "metadata": {
    "scrolled": true
   },
   "outputs": [
    {
     "name": "stdout",
     "output_type": "stream",
     "text": [
      "Train on 300 samples, validate on 100 samples\n",
      "Epoch 1/50\n",
      "300/300 [==============================] - 0s 386us/step - loss: 1.2312 - val_loss: 1.1102\n",
      "Epoch 2/50\n",
      "300/300 [==============================] - 0s 99us/step - loss: 0.9343 - val_loss: 0.9362\n",
      "Epoch 3/50\n",
      "300/300 [==============================] - 0s 97us/step - loss: 0.8361 - val_loss: 0.9007\n",
      "Epoch 4/50\n",
      "300/300 [==============================] - 0s 113us/step - loss: 0.8547 - val_loss: 0.7553\n",
      "Epoch 5/50\n",
      "300/300 [==============================] - 0s 97us/step - loss: 0.7472 - val_loss: 0.7976\n",
      "Epoch 6/50\n",
      "300/300 [==============================] - 0s 96us/step - loss: 0.7121 - val_loss: 0.7487\n",
      "Epoch 7/50\n",
      "300/300 [==============================] - 0s 101us/step - loss: 0.6698 - val_loss: 0.7124\n",
      "Epoch 8/50\n",
      "300/300 [==============================] - 0s 99us/step - loss: 0.6506 - val_loss: 0.6735\n",
      "Epoch 9/50\n",
      "300/300 [==============================] - 0s 104us/step - loss: 0.5999 - val_loss: 0.6224\n",
      "Epoch 10/50\n",
      "300/300 [==============================] - 0s 156us/step - loss: 0.5928 - val_loss: 0.6968\n",
      "Epoch 11/50\n",
      "300/300 [==============================] - 0s 141us/step - loss: 0.5600 - val_loss: 0.7436\n",
      "Epoch 12/50\n",
      "300/300 [==============================] - 0s 106us/step - loss: 0.5482 - val_loss: 0.6137\n",
      "Epoch 13/50\n",
      "300/300 [==============================] - 0s 136us/step - loss: 0.5213 - val_loss: 0.5523\n",
      "Epoch 14/50\n",
      "300/300 [==============================] - 0s 100us/step - loss: 0.5206 - val_loss: 0.5874\n",
      "Epoch 15/50\n",
      "300/300 [==============================] - 0s 100us/step - loss: 0.5111 - val_loss: 0.5727\n",
      "Epoch 16/50\n",
      "300/300 [==============================] - 0s 94us/step - loss: 0.4821 - val_loss: 0.5692\n",
      "Epoch 17/50\n",
      "300/300 [==============================] - 0s 105us/step - loss: 0.4688 - val_loss: 0.5096\n",
      "Epoch 18/50\n",
      "300/300 [==============================] - 0s 128us/step - loss: 0.4530 - val_loss: 0.5562\n",
      "Epoch 19/50\n",
      "300/300 [==============================] - 0s 99us/step - loss: 0.4436 - val_loss: 0.4929\n",
      "Epoch 20/50\n",
      "300/300 [==============================] - 0s 105us/step - loss: 0.4351 - val_loss: 0.5065\n",
      "Epoch 21/50\n",
      "300/300 [==============================] - 0s 102us/step - loss: 0.4366 - val_loss: 0.5075\n",
      "Epoch 22/50\n",
      "300/300 [==============================] - 0s 110us/step - loss: 0.4076 - val_loss: 0.5319\n",
      "Epoch 23/50\n",
      "300/300 [==============================] - 0s 101us/step - loss: 0.4162 - val_loss: 0.4407\n",
      "Epoch 24/50\n",
      "300/300 [==============================] - 0s 105us/step - loss: 0.4000 - val_loss: 0.4446\n",
      "Epoch 25/50\n",
      "300/300 [==============================] - 0s 99us/step - loss: 0.3900 - val_loss: 0.5631\n",
      "Epoch 26/50\n",
      "300/300 [==============================] - 0s 103us/step - loss: 0.4146 - val_loss: 0.4789\n",
      "Epoch 27/50\n",
      "300/300 [==============================] - 0s 107us/step - loss: 0.3759 - val_loss: 0.4362\n",
      "Epoch 28/50\n",
      "300/300 [==============================] - 0s 100us/step - loss: 0.3713 - val_loss: 0.5132\n",
      "Epoch 29/50\n",
      "300/300 [==============================] - 0s 121us/step - loss: 0.3776 - val_loss: 0.4127\n",
      "Epoch 30/50\n",
      "300/300 [==============================] - 0s 138us/step - loss: 0.3622 - val_loss: 0.4068\n",
      "Epoch 31/50\n",
      "300/300 [==============================] - 0s 117us/step - loss: 0.3468 - val_loss: 0.4060\n",
      "Epoch 32/50\n",
      "300/300 [==============================] - 0s 112us/step - loss: 0.3448 - val_loss: 0.4133\n",
      "Epoch 33/50\n",
      "300/300 [==============================] - 0s 111us/step - loss: 0.3360 - val_loss: 0.3960\n",
      "Epoch 34/50\n",
      "300/300 [==============================] - 0s 116us/step - loss: 0.3474 - val_loss: 0.3973\n",
      "Epoch 35/50\n",
      "300/300 [==============================] - 0s 115us/step - loss: 0.3268 - val_loss: 0.3861\n",
      "Epoch 36/50\n",
      "300/300 [==============================] - 0s 109us/step - loss: 0.3291 - val_loss: 0.4225\n",
      "Epoch 37/50\n",
      "300/300 [==============================] - 0s 106us/step - loss: 0.3188 - val_loss: 0.3858\n",
      "Epoch 38/50\n",
      "300/300 [==============================] - 0s 153us/step - loss: 0.3165 - val_loss: 0.4325\n",
      "Epoch 39/50\n",
      "300/300 [==============================] - 0s 119us/step - loss: 0.3139 - val_loss: 0.4211\n",
      "Epoch 40/50\n",
      "300/300 [==============================] - 0s 113us/step - loss: 0.3133 - val_loss: 0.4211\n",
      "Epoch 41/50\n",
      "300/300 [==============================] - 0s 109us/step - loss: 0.3085 - val_loss: 0.3575\n",
      "Epoch 42/50\n",
      "300/300 [==============================] - 0s 108us/step - loss: 0.2961 - val_loss: 0.4341\n",
      "Epoch 43/50\n",
      "300/300 [==============================] - 0s 125us/step - loss: 0.2983 - val_loss: 0.3418\n",
      "Epoch 44/50\n",
      "300/300 [==============================] - 0s 111us/step - loss: 0.2926 - val_loss: 0.3405\n",
      "Epoch 45/50\n",
      "300/300 [==============================] - 0s 117us/step - loss: 0.2958 - val_loss: 0.3510\n",
      "Epoch 46/50\n",
      "300/300 [==============================] - 0s 111us/step - loss: 0.2861 - val_loss: 0.3533\n",
      "Epoch 47/50\n",
      "300/300 [==============================] - 0s 117us/step - loss: 0.2831 - val_loss: 0.3353\n",
      "Epoch 48/50\n",
      "300/300 [==============================] - 0s 112us/step - loss: 0.2855 - val_loss: 0.3367\n",
      "Epoch 49/50\n",
      "300/300 [==============================] - 0s 115us/step - loss: 0.2733 - val_loss: 0.3622\n",
      "Epoch 50/50\n",
      "300/300 [==============================] - 0s 107us/step - loss: 0.2716 - val_loss: 0.3551\n"
     ]
    }
   ],
   "source": [
    "model = Sequential([\n",
    "    Dense(nb_classes, input_shape=(X_train.shape[1],)),\n",
    "    Activation('softmax')\n",
    "])\n",
    "\n",
    "# Compile the model\n",
    "model.compile(loss='categorical_crossentropy', optimizer=optimizers.SGD(lr=10e-4)) \n",
    "\n",
    "# Fit the model\n",
    "callbacks = [EarlyStopping(monitor='val_loss', patience=10)]\n",
    "history = model.fit(X_train, Y_train_cat, validation_data=(X_val, Y_val_cat), epochs=50, callbacks=callbacks)"
   ]
  },
  {
   "cell_type": "code",
   "execution_count": 8,
   "metadata": {},
   "outputs": [
    {
     "name": "stdout",
     "output_type": "stream",
     "text": [
      "Correctly predicted a rectangle :  False\n",
      "Corrrectly predicted a triangle :  True\n",
      "Corrrectly predicted a disk :  True\n"
     ]
    }
   ],
   "source": [
    "test_linear_model(model)"
   ]
  },
  {
   "cell_type": "code",
   "execution_count": 9,
   "metadata": {},
   "outputs": [
    {
     "data": {
      "image/png": "[encoded data removed]",
      "text/plain": [
       "<matplotlib.figure.Figure at 0x18394fcc50>"
      ]
     },
     "metadata": {},
     "output_type": "display_data"
    }
   ],
   "source": [
    "vizualize_weights(model)"
   ]
  },
  {
   "cell_type": "markdown",
   "metadata": {},
   "source": [
    "* We can note that the model is very to the learning rate.\n",
    "Changing the magnitude of this parameter can lead to very different results.\n",
    "* We can also see that, most of the time, SGD optimizer does not lead to very good results. There is no clear pattern in the weight images."
   ]
  },
  {
   "cell_type": "markdown",
   "metadata": {},
   "source": [
    "## Adam"
   ]
  },
  {
   "cell_type": "code",
   "execution_count": 10,
   "metadata": {
    "scrolled": true
   },
   "outputs": [
    {
     "name": "stdout",
     "output_type": "stream",
     "text": [
      "Train on 300 samples, validate on 100 samples\n",
      "Epoch 1/50\n",
      "300/300 [==============================] - 0s 476us/step - loss: 1.9461 - val_loss: 1.6914\n",
      "Epoch 2/50\n",
      "300/300 [==============================] - 0s 110us/step - loss: 0.8805 - val_loss: 0.6825\n",
      "Epoch 3/50\n",
      "300/300 [==============================] - 0s 104us/step - loss: 0.5030 - val_loss: 0.4400\n",
      "Epoch 4/50\n",
      "300/300 [==============================] - 0s 105us/step - loss: 0.4015 - val_loss: 0.3855\n",
      "Epoch 5/50\n",
      "300/300 [==============================] - 0s 104us/step - loss: 0.3207 - val_loss: 0.3218\n",
      "Epoch 6/50\n",
      "300/300 [==============================] - 0s 103us/step - loss: 0.3005 - val_loss: 0.2724\n",
      "Epoch 7/50\n",
      "300/300 [==============================] - 0s 104us/step - loss: 0.2388 - val_loss: 0.2621\n",
      "Epoch 8/50\n",
      "300/300 [==============================] - 0s 106us/step - loss: 0.2309 - val_loss: 0.2269\n",
      "Epoch 9/50\n",
      "300/300 [==============================] - 0s 107us/step - loss: 0.2190 - val_loss: 0.2212\n",
      "Epoch 10/50\n",
      "300/300 [==============================] - 0s 104us/step - loss: 0.2298 - val_loss: 0.3674\n",
      "Epoch 11/50\n",
      "300/300 [==============================] - 0s 104us/step - loss: 0.2185 - val_loss: 0.3069\n",
      "Epoch 12/50\n",
      "300/300 [==============================] - 0s 102us/step - loss: 0.1767 - val_loss: 0.1627\n",
      "Epoch 13/50\n",
      "300/300 [==============================] - 0s 103us/step - loss: 0.1486 - val_loss: 0.1378\n",
      "Epoch 14/50\n",
      "300/300 [==============================] - 0s 103us/step - loss: 0.1336 - val_loss: 0.1329\n",
      "Epoch 15/50\n",
      "300/300 [==============================] - 0s 125us/step - loss: 0.1259 - val_loss: 0.1564\n",
      "Epoch 16/50\n",
      "300/300 [==============================] - 0s 106us/step - loss: 0.1125 - val_loss: 0.1421\n",
      "Epoch 17/50\n",
      "300/300 [==============================] - 0s 120us/step - loss: 0.1189 - val_loss: 0.1456\n",
      "Epoch 18/50\n",
      "300/300 [==============================] - 0s 139us/step - loss: 0.1148 - val_loss: 0.2111\n",
      "Epoch 19/50\n",
      "300/300 [==============================] - 0s 209us/step - loss: 0.1179 - val_loss: 0.2006\n",
      "Epoch 20/50\n",
      "300/300 [==============================] - 0s 154us/step - loss: 0.0868 - val_loss: 0.1699\n",
      "Epoch 21/50\n",
      "300/300 [==============================] - 0s 141us/step - loss: 0.0798 - val_loss: 0.1627\n",
      "Epoch 22/50\n",
      "300/300 [==============================] - 0s 158us/step - loss: 0.0690 - val_loss: 0.1322\n",
      "Epoch 23/50\n",
      "300/300 [==============================] - 0s 151us/step - loss: 0.0635 - val_loss: 0.1090\n",
      "Epoch 24/50\n",
      "300/300 [==============================] - 0s 126us/step - loss: 0.0547 - val_loss: 0.0934\n",
      "Epoch 25/50\n",
      "300/300 [==============================] - 0s 149us/step - loss: 0.0589 - val_loss: 0.0680\n",
      "Epoch 26/50\n",
      "300/300 [==============================] - 0s 136us/step - loss: 0.0592 - val_loss: 0.0707\n",
      "Epoch 27/50\n",
      "300/300 [==============================] - 0s 134us/step - loss: 0.0448 - val_loss: 0.0729\n",
      "Epoch 28/50\n",
      "300/300 [==============================] - 0s 159us/step - loss: 0.0413 - val_loss: 0.0548\n",
      "Epoch 29/50\n",
      "300/300 [==============================] - 0s 144us/step - loss: 0.0425 - val_loss: 0.0503\n",
      "Epoch 30/50\n",
      "300/300 [==============================] - 0s 143us/step - loss: 0.0387 - val_loss: 0.0538\n",
      "Epoch 31/50\n",
      "300/300 [==============================] - 0s 116us/step - loss: 0.0398 - val_loss: 0.0587\n",
      "Epoch 32/50\n",
      "300/300 [==============================] - 0s 125us/step - loss: 0.0376 - val_loss: 0.0637\n",
      "Epoch 33/50\n",
      "300/300 [==============================] - 0s 114us/step - loss: 0.0353 - val_loss: 0.0508\n",
      "Epoch 34/50\n",
      "300/300 [==============================] - 0s 116us/step - loss: 0.0366 - val_loss: 0.0571\n",
      "Epoch 35/50\n",
      "300/300 [==============================] - 0s 114us/step - loss: 0.0329 - val_loss: 0.0532\n",
      "Epoch 36/50\n",
      "300/300 [==============================] - 0s 127us/step - loss: 0.0330 - val_loss: 0.0396\n",
      "Epoch 37/50\n",
      "300/300 [==============================] - 0s 132us/step - loss: 0.0287 - val_loss: 0.0557\n",
      "Epoch 38/50\n",
      "300/300 [==============================] - 0s 121us/step - loss: 0.0335 - val_loss: 0.0393\n",
      "Epoch 39/50\n",
      "300/300 [==============================] - 0s 133us/step - loss: 0.0346 - val_loss: 0.0516\n",
      "Epoch 40/50\n",
      "300/300 [==============================] - 0s 129us/step - loss: 0.0396 - val_loss: 0.0344\n",
      "Epoch 41/50\n",
      "300/300 [==============================] - 0s 132us/step - loss: 0.0302 - val_loss: 0.0392\n",
      "Epoch 42/50\n",
      "300/300 [==============================] - 0s 128us/step - loss: 0.0251 - val_loss: 0.0595\n",
      "Epoch 43/50\n",
      "300/300 [==============================] - 0s 118us/step - loss: 0.0277 - val_loss: 0.0399\n",
      "Epoch 44/50\n",
      "300/300 [==============================] - 0s 121us/step - loss: 0.0266 - val_loss: 0.0324\n",
      "Epoch 45/50\n",
      "300/300 [==============================] - 0s 122us/step - loss: 0.0237 - val_loss: 0.0297\n",
      "Epoch 46/50\n",
      "300/300 [==============================] - 0s 118us/step - loss: 0.0225 - val_loss: 0.0300\n",
      "Epoch 47/50\n",
      "300/300 [==============================] - 0s 122us/step - loss: 0.0224 - val_loss: 0.0284\n",
      "Epoch 48/50\n",
      "300/300 [==============================] - 0s 114us/step - loss: 0.0217 - val_loss: 0.0289\n",
      "Epoch 49/50\n",
      "300/300 [==============================] - 0s 109us/step - loss: 0.0212 - val_loss: 0.0388\n",
      "Epoch 50/50\n",
      "300/300 [==============================] - 0s 109us/step - loss: 0.0194 - val_loss: 0.0280\n"
     ]
    }
   ],
   "source": [
    "# Create the model\n",
    "model = Sequential([\n",
    "    Dense(nb_classes, input_shape=(X_train.shape[1],)),\n",
    "    Activation('softmax')])\n",
    "\n",
    "# Compile the model\n",
    "model.compile(loss='categorical_crossentropy', optimizer='adam') \n",
    "\n",
    "# Fit the model\n",
    "callbacks = [EarlyStopping(monitor='val_loss', patience=10)]\n",
    "history = model.fit(X_train, Y_train_cat, validation_data=(X_val, Y_val_cat), epochs=50, callbacks=callbacks)"
   ]
  },
  {
   "cell_type": "code",
   "execution_count": 11,
   "metadata": {},
   "outputs": [
    {
     "name": "stdout",
     "output_type": "stream",
     "text": [
      "Correctly predicted a rectangle :  True\n",
      "Corrrectly predicted a triangle :  True\n",
      "Corrrectly predicted a disk :  True\n"
     ]
    }
   ],
   "source": [
    "test_linear_model(model)"
   ]
  },
  {
   "cell_type": "code",
   "execution_count": null,
   "metadata": {},
   "outputs": [
    {
     "data": {
      "image/png": "[encoded data removed]",
      "text/plain": [
       "<matplotlib.figure.Figure at 0x183920e7b8>"
      ]
     },
     "metadata": {},
     "output_type": "display_data"
    }
   ],
   "source": [
    "vizualize_weights(model)"
   ]
  },
  {
   "cell_type": "markdown",
   "metadata": {},
   "source": [
    "* The Adam optimizer leads to better results. the predictions are almost always correct.\n",
    "* We can observe shapes when vizualizing the weights\n",
    "* The Adam optimizer adds a \"momentum\" parameter, which speeds the convergence, at the cost of more computations than the SGD.\n",
    "* We can interprete the weights images :\n",
    "    - a rectangle is detected by the presence of corners (black \"stripes\")\n",
    "    - a circle is detected by the absence of corners (white \"stripes\")\n",
    "    - a triangle is detected by the presence of three corners (black \"stripes\"), and the void around the top corner (white areas)"
   ]
  },
  {
   "cell_type": "markdown",
   "metadata": {},
   "source": [
    "# 5 - A More Difficult Classification Problem"
   ]
  },
  {
   "cell_type": "markdown",
   "metadata": {},
   "source": [
    "- Generating new dataset"
   ]
  },
  {
   "cell_type": "code",
   "execution_count": null,
   "metadata": {
    "scrolled": false
   },
   "outputs": [
    {
     "name": "stderr",
     "output_type": "stream",
     "text": [
      "  4%|▍         | 114/3000 [00:09<04:01, 11.93it/s]"
     ]
    }
   ],
   "source": [
    "[X_train, Y_train] = generate_dataset_classification(3000, 20, True)\n",
    "[X_val, Y_val] = generate_dataset_classification(1000, 20, True)\n",
    "\n",
    "Y_train_cat = keras.utils.to_categorical(Y_train)\n",
    "Y_val_cat = keras.utils.to_categorical(Y_val)\n",
    "\n",
    "nb_classes = len(np.unique(Y_train))"
   ]
  },
  {
   "cell_type": "markdown",
   "metadata": {},
   "source": [
    "- Testing the linear model"
   ]
  },
  {
   "cell_type": "code",
   "execution_count": null,
   "metadata": {
    "scrolled": true
   },
   "outputs": [],
   "source": [
    "# Create the model\n",
    "model = Sequential([\n",
    "    Dense(nb_classes, input_shape=(X_train.shape[1], )),\n",
    "    Activation('softmax')])\n",
    "\n",
    "# Compile the model\n",
    "model.compile(loss='categorical_crossentropy', optimizer='adam', metrics=['accuracy']) \n",
    "\n",
    "# Fit the model\n",
    "callbacks = [EarlyStopping(monitor='val_loss', patience=10)]\n",
    "history = model.fit(X_train, Y_train_cat, validation_data=(X_val, Y_val_cat), epochs=50, callbacks=callbacks)"
   ]
  },
  {
   "cell_type": "code",
   "execution_count": null,
   "metadata": {},
   "outputs": [],
   "source": [
    "[X_test, Y_test] = generate_test_set_classification()\n",
    "[loss, acc] = model.evaluate(X_test, Y_test)\n",
    "print('Loss = {} ; Accuracy = {}'.format(loss, acc))"
   ]
  },
  {
   "cell_type": "markdown",
   "metadata": {},
   "source": [
    "- Buidling a CNN"
   ]
  },
  {
   "cell_type": "code",
   "execution_count": null,
   "metadata": {},
   "outputs": [],
   "source": [
    "X_train = X_train.reshape((X_train.shape[0], IMAGE_SIZE, IMAGE_SIZE, 1))\n",
    "X_val = X_val.reshape((X_val.shape[0], IMAGE_SIZE, IMAGE_SIZE, 1))"
   ]
  },
  {
   "cell_type": "code",
   "execution_count": null,
   "metadata": {
    "scrolled": true
   },
   "outputs": [],
   "source": [
    "# Create the model\n",
    "model = Sequential([\n",
    "    Convolution2D(16, kernel_size=(5, 5), input_shape=(IMAGE_SIZE, IMAGE_SIZE, 1, )),\n",
    "    Activation('relu'),\n",
    "    MaxPooling2D(pool_size=(3, 3)),\n",
    "    Flatten(),\n",
    "    Dense(nb_classes, activation='softmax')\n",
    "])\n",
    "\n",
    "# Compile the model\n",
    "model.compile(loss='categorical_crossentropy', optimizer='adam', metrics=['accuracy']) \n",
    "\n",
    "# Fit the model\n",
    "callbacks = [EarlyStopping(monitor='val_loss', patience=15)]\n",
    "history = model.fit(X_train, Y_train_cat, validation_data=(X_val, Y_val_cat),\n",
    "                    epochs=150, batch_size=32, callbacks=callbacks)"
   ]
  },
  {
   "cell_type": "code",
   "execution_count": null,
   "metadata": {},
   "outputs": [],
   "source": [
    "[X_test, Y_test] = generate_test_set_classification()\n",
    "X_test = X_test.reshape((X_test.shape[0], IMAGE_SIZE, IMAGE_SIZE, 1))\n",
    "[loss, acc] = model.evaluate(X_test, Y_test)\n",
    "print('Loss = {} ; Accuracy = {}'.format(loss, acc))"
   ]
  },
  {
   "cell_type": "markdown",
   "metadata": {},
   "source": [
    "<b>What is the value of the loss function on this test set when using your deep network ?</b>\n",
    "<br/>\n",
    "The crossentropy loss is 0.93, and the accuracy is 0.74 on this test set."
   ]
  },
  {
   "cell_type": "markdown",
   "metadata": {},
   "source": [
    "# 6 - A regression problem"
   ]
  },
  {
   "cell_type": "code",
   "execution_count": null,
   "metadata": {},
   "outputs": [],
   "source": [
    "def sort_vertices(Y):\n",
    "    '''Sort vertices by increasing x-coordinate'''\n",
    "    Y_ = Y.reshape(-1, 3, 2)\n",
    "    U = Y_.copy()\n",
    "    S = np.argsort(Y[:, ::2], axis=1)\n",
    "    for i, e in enumerate(S):\n",
    "        U[i, :] = U[i,e]\n",
    "    \n",
    "    return U.reshape(-1, 6)"
   ]
  },
  {
   "cell_type": "code",
   "execution_count": null,
   "metadata": {},
   "outputs": [],
   "source": [
    "[X_train, Y_train] = generate_dataset_regression(3000, 20)\n",
    "[X_val, Y_val] = generate_dataset_regression(1000, 20)\n",
    "\n",
    "Y_train = sort_vertices(Y_train)\n",
    "Y_val = sort_vertices(Y_val)\n",
    "\n",
    "X_train = X_train.reshape(X_train.shape[0], IMAGE_SIZE, -1, 1)\n",
    "X_val = X_val.reshape(X_val.shape[0], IMAGE_SIZE, -1, 1)"
   ]
  },
  {
   "cell_type": "markdown",
   "metadata": {},
   "source": [
    "- Vizualize one prediction"
   ]
  },
  {
   "cell_type": "code",
   "execution_count": null,
   "metadata": {},
   "outputs": [],
   "source": [
    "visualize_prediction(X_train[0], Y_train[0])"
   ]
  },
  {
   "cell_type": "markdown",
   "metadata": {},
   "source": [
    "- Build the model"
   ]
  },
  {
   "cell_type": "code",
   "execution_count": null,
   "metadata": {},
   "outputs": [],
   "source": [
    "# Build the model\n",
    "model = Sequential([\n",
    "    Convolution2D(filters=16, kernel_size=5, input_shape=(IMAGE_SIZE, IMAGE_SIZE, 1)),\n",
    "    Activation('relu'),\n",
    "    MaxPooling2D(pool_size=3),\n",
    "    Convolution2D(filters=32, kernel_size=4),\n",
    "    Activation('relu'),\n",
    "    MaxPooling2D(pool_size=3),\n",
    "    Convolution2D(filters=64, kernel_size=3),\n",
    "    Activation('relu'),\n",
    "    MaxPooling2D(pool_size=3),\n",
    "    Flatten(),\n",
    "    Dense(500),\n",
    "    Activation('relu'),\n",
    "    Dropout(0.1),\n",
    "    Dense(600),\n",
    "    Activation('relu'),\n",
    "    Dropout(0.15),\n",
    "    Dense(500),\n",
    "    Activation('relu'),\n",
    "    Dropout(0.1),\n",
    "    Dense(6)\n",
    "])\n",
    "\n",
    "# Compile the model\n",
    "model.compile(loss='mse', optimizer='adam')\n",
    "\n",
    "# Fit the model\n",
    "callbacks = [EarlyStopping(monitor='val_loss', patience=5)]\n",
    "model.fit(X_train, Y_train, validation_data=(X_val, Y_val), epochs=10, batch_size=96, callbacks=callbacks)"
   ]
  },
  {
   "cell_type": "markdown",
   "metadata": {},
   "source": [
    "I used 3 convolutional layers, with increasing filter size, decreasing kernel size, and ReLu activation functions.\n",
    "I also added 3 intermediate fully connected layers, with dropout to reduce the overfitting."
   ]
  },
  {
   "cell_type": "markdown",
   "metadata": {},
   "source": [
    "- Evaluating the model"
   ]
  },
  {
   "cell_type": "code",
   "execution_count": null,
   "metadata": {},
   "outputs": [],
   "source": [
    "[X_test, Y_test] = generate_test_set_regression()\n",
    "X_test_reshaped = X_test.reshape(X_test.shape[0], IMAGE_SIZE, -1, 1)\n",
    "Y_test_sorted = sort_vertices(Y_test)\n",
    "model.evaluate(X_test_reshaped, Y_test_sorted)"
   ]
  },
  {
   "cell_type": "markdown",
   "metadata": {},
   "source": [
    "# 7 - Image denoising"
   ]
  },
  {
   "cell_type": "markdown",
   "metadata": {},
   "source": [
    "- Modifying the generate_a_* functions to return pair of images"
   ]
  },
  {
   "cell_type": "code",
   "execution_count": null,
   "metadata": {},
   "outputs": [],
   "source": [
    "np.random.rand()*1000"
   ]
  },
  {
   "cell_type": "code",
   "execution_count": null,
   "metadata": {},
   "outputs": [],
   "source": [
    "MAX_NOISE = 500\n",
    "\n",
    "def generate_a_rectangle(free_location=True, pair=True):\n",
    "    noise = np.random.rand() * MAX_NOISE\n",
    "    figsize = 1.0    \n",
    "    U = np.zeros(4)\n",
    "    V = np.zeros(4)\n",
    "    if free_location:\n",
    "        corners = np.random.random(4)\n",
    "        top = max(corners[0], corners[1])\n",
    "        bottom = min(corners[0], corners[1])\n",
    "        left = min(corners[2], corners[3])\n",
    "        right = max(corners[2], corners[3])\n",
    "    else:\n",
    "        side = (0.3 + 0.7 * np.random.random()) * figsize\n",
    "        top = figsize/2 + side/2\n",
    "        bottom = figsize/2 - side/2\n",
    "        left = bottom\n",
    "        right = top\n",
    "    U[0] = U[1] = top\n",
    "    U[2] = U[3] = bottom\n",
    "    V[0] = V[3] = left\n",
    "    V[1] = V[2] = right\n",
    "\n",
    "    if pair:\n",
    "        return [generate_a_drawing(figsize, U, V, 0), generate_a_drawing(figsize, U, V, noise)]\n",
    "    else:\n",
    "        return generate_a_drawing(figsize, U, V, noise)\n",
    "\n",
    "\n",
    "def generate_a_disk(free_location=True, pair=True):\n",
    "    noise = np.random.rand() * MAX_NOISE\n",
    "    figsize = 1.0\n",
    "    if free_location:\n",
    "        center = np.random.random(2)\n",
    "    else:\n",
    "        center = (figsize/2, figsize/2)\n",
    "    radius = (0.3 + 0.7 * np.random.random()) * figsize/2\n",
    "    N = 50\n",
    "    U = np.zeros(N)\n",
    "    V = np.zeros(N)\n",
    "    i = 0\n",
    "    for t in np.linspace(0, 2*np.pi, N):\n",
    "        U[i] = center[0] + np.cos(t) * radius\n",
    "        V[i] = center[1] + np.sin(t) * radius\n",
    "        i = i + 1\n",
    "        \n",
    "    if pair:\n",
    "        return [generate_a_drawing(figsize, U, V, 0), generate_a_drawing(figsize, U, V, noise)]\n",
    "    else:\n",
    "        return generate_a_drawing(figsize, U, V, noise)\n",
    "\n",
    "def generate_a_triangle(free_location=True, pair=True):\n",
    "    noise = np.random.rand() * MAX_NOISE\n",
    "    figsize = 1.0\n",
    "    if free_location:\n",
    "        U = np.random.random(3)\n",
    "        V = np.random.random(3)\n",
    "    else:\n",
    "        size = (0.3 + 0.7 * np.random.random())*figsize/2\n",
    "        middle = figsize/2\n",
    "        U = (middle, middle+size, middle-size)\n",
    "        V = (middle+size, middle-size, middle-size)\n",
    "    imdata = generate_a_drawing(figsize, U, V, noise)\n",
    "    if pair:\n",
    "        imdata_no_noise = generate_a_drawing(figsize, U, V, 0)\n",
    "        return [imdata_no_noise, imdata, [U[0], V[0], U[1], V[1], U[2], V[2]]]\n",
    "    else:\n",
    "        return [imdata, [U[0], V[0], U[1], V[1], U[2], V[2]]]"
   ]
  },
  {
   "cell_type": "markdown",
   "metadata": {},
   "source": [
    "- Testing the new functions"
   ]
  },
  {
   "cell_type": "code",
   "execution_count": null,
   "metadata": {},
   "outputs": [],
   "source": [
    "img, noisy_img = generate_a_rectangle()\n",
    "plt.subplot(1,2,1)\n",
    "plt.imshow(noisy_img.reshape(IMAGE_SIZE, IMAGE_SIZE), cmap='gray')\n",
    "plt.title('Noisy image')\n",
    "plt.subplot(1, 2, 2)\n",
    "plt.imshow(img.reshape(IMAGE_SIZE, IMAGE_SIZE), cmap='gray')\n",
    "plt.title('Image')\n",
    "plt.show()\n",
    "\n",
    "img, noisy_img = generate_a_disk()\n",
    "plt.subplot(1,2,1)\n",
    "plt.imshow(noisy_img.reshape(IMAGE_SIZE, IMAGE_SIZE), cmap='gray')\n",
    "plt.title('Noisy image')\n",
    "plt.subplot(1, 2, 2)\n",
    "plt.imshow(img.reshape(IMAGE_SIZE, IMAGE_SIZE), cmap='gray')\n",
    "plt.title('Image')\n",
    "plt.show()\n",
    "\n",
    "img, noisy_img, _ = generate_a_triangle()\n",
    "plt.subplot(1,2,1)\n",
    "plt.imshow(noisy_img.reshape(IMAGE_SIZE, IMAGE_SIZE), cmap='gray')\n",
    "plt.title('Noisy image')\n",
    "plt.subplot(1, 2, 2)\n",
    "plt.imshow(img.reshape(IMAGE_SIZE, IMAGE_SIZE), cmap='gray')\n",
    "plt.title('Image')\n",
    "plt.show()"
   ]
  }
 ],
 "metadata": {
  "kernelspec": {
   "display_name": "Python 3",
   "language": "python",
   "name": "python3"
  },
  "language_info": {
   "codemirror_mode": {
    "name": "ipython",
    "version": 3
   },
   "file_extension": ".py",
   "mimetype": "text/x-python",
   "name": "python",
   "nbconvert_exporter": "python",
   "pygments_lexer": "ipython3",
   "version": "3.6.4"
  }
 },
 "nbformat": 4,
 "nbformat_minor": 2
}
