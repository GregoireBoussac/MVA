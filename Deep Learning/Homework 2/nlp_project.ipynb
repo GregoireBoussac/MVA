{
 "cells": [
  {
   "cell_type": "markdown",
   "metadata": {},
   "source": [
    "# Deep Learning for NLP - Project"
   ]
  },
  {
   "cell_type": "markdown",
   "metadata": {},
   "source": [
    "RULES:\n",
    "\n",
    "* Do not create any additional cell\n",
    "\n",
    "* Fill in the blanks\n",
    "\n",
    "* All cells should be runnable (modulo trivial compatibility bugs that we'd fix)\n",
    "\n",
    "* 4 / 20 points will be allocated to the clarity of your code\n",
    "\n",
    "* Efficient code will have a bonus\n",
    "\n",
    "DELIVERABLE:\n",
    "\n",
    "* this notebook\n",
    "* the predictions of the SST test set\n",
    "\n",
    "DO NOT INCLUDE THE DATASETS IN THE DELIVERABLE.."
   ]
  },
  {
   "cell_type": "code",
   "execution_count": 97,
   "metadata": {},
   "outputs": [],
   "source": [
    "import io\n",
    "import os\n",
    "import numpy as np\n",
    "import scipy\n",
    "import pandas as pd\n",
    "from tqdm import tqdm\n",
    "from sklearn.linear_model import LogisticRegression\n",
    "from sklearn.model_selection import StratifiedKFold, RandomizedSearchCV\n",
    "from sklearn.naive_bayes import MultinomialNB, GaussianNB\n",
    "import matplotlib.pyplot as plt"
   ]
  },
  {
   "cell_type": "code",
   "execution_count": 83,
   "metadata": {},
   "outputs": [],
   "source": [
    "PATH_TO_DATA = \"/Users/gregoire/Documents/MVA/Deep Learning/nlp_project/data/\"\n",
    "#PATH_TO_DATA = \"../../data/\""
   ]
  },
  {
   "cell_type": "markdown",
   "metadata": {},
   "source": [
    "# 1) Monolingual (English) word embeddings "
   ]
  },
  {
   "cell_type": "code",
   "execution_count": 84,
   "metadata": {},
   "outputs": [],
   "source": [
    "class Word2vec():\n",
    "    def __init__(self, fname, nmax=100000):\n",
    "        self.load_wordvec(fname, nmax)\n",
    "        self.word2id = dict.fromkeys(self.word2vec.keys())\n",
    "        self.id2word = {v: k for k, v in self.word2id.items()}\n",
    "        self.embeddings = np.array(list(self.word2vec.values()))\n",
    "    \n",
    "    def load_wordvec(self, fname, nmax):\n",
    "        self.word2vec = {}\n",
    "        with io.open(fname, encoding='utf-8') as f:\n",
    "            next(f)\n",
    "            i=0\n",
    "            for line in f:\n",
    "                word, vec = line.split(' ', 1)\n",
    "                word = word.lower() # Lower the word to avoid\n",
    "                \n",
    "                if word not in self.word2vec:\n",
    "                    self.word2vec[word] = np.fromstring(vec, sep=' ')\n",
    "                    i += 1\n",
    "                    \n",
    "                if i == nmax:\n",
    "                    break\n",
    "        print('Loaded %s pretrained word vectors' % (len(self.word2vec)))\n",
    "\n",
    "    def most_similar(self, w, K=5):\n",
    "        # K most similar words: self.score  -  np.argsort \n",
    "        \n",
    "        # List of available words\n",
    "        words = list(self.word2vec.keys())\n",
    "        # Compute similarities\n",
    "        similarities = np.array([self.score(w, word) for word in words])\n",
    "        # Indexes of words by decreasing similarity\n",
    "        #Remove first word, and keep the K following\n",
    "        most_similar_words = np.argsort(-similarities)[1:K+1]\n",
    "        \n",
    "        return [words[idx] for idx in most_similar_words]\n",
    "    \n",
    "    def score(self, w1, w2):\n",
    "        # cosine similarity: np.dot  -  np.linalg.norm\n",
    "        # Get the vectors corresponding to words w1 and w2\n",
    "        vec_w1 = self.word2vec[w1]\n",
    "        vec_w2 = self.word2vec[w2]\n",
    "        \n",
    "        return np.dot(vec_w1, vec_w2) / (np.linalg.norm(vec_w1) * np.linalg.norm(vec_w2))"
   ]
  },
  {
   "cell_type": "code",
   "execution_count": 85,
   "metadata": {},
   "outputs": [
    {
     "name": "stdout",
     "output_type": "stream",
     "text": [
      "Loaded 25000 pretrained word vectors\n",
      "cat dog 0.671683666279249\n",
      "dog pet 0.6842064029669219\n",
      "dogs cats 0.7074389328052404\n",
      "paris france 0.7058595452409975\n",
      "germany berlin 0.7060253015336013\n",
      "['cats', 'kitten', 'feline', 'kitties', 'dog']\n",
      "['dogs', 'puppy', 'doggie', 'canine', 'pup']\n",
      "['dog', 'puppies', 'cats', 'canine', 'pets']\n",
      "['parisian', 'france', 'marseille', 'louvre', 'versailles']\n",
      "['austria', 'bavaria', 'berlin', 'munich', 'german']\n"
     ]
    }
   ],
   "source": [
    "w2v = Word2vec(os.path.join(PATH_TO_DATA, 'crawl-300d-200k.vec'), nmax=25000)\n",
    "\n",
    "# You will be evaluated on the output of the following:\n",
    "for w1, w2 in zip(('cat', 'dog', 'dogs', 'paris', 'germany'), ('dog', 'pet', 'cats', 'france', 'berlin')):\n",
    "    print(w1, w2, w2v.score(w1, w2))\n",
    "for w1 in ['cat', 'dog', 'dogs', 'paris', 'germany']:\n",
    "    print(w2v.most_similar(w1))"
   ]
  },
  {
   "cell_type": "code",
   "execution_count": 86,
   "metadata": {},
   "outputs": [],
   "source": [
    "class BoV():\n",
    "    def __init__(self, w2v):\n",
    "        self.w2v = w2v\n",
    "    \n",
    "    def encode(self, sentences, idf=False):\n",
    "        # takes a list of sentences, outputs a numpy array of sentence embeddings\n",
    "        # see TP1 for help\n",
    "        sentemb = []\n",
    "        dim = list(w2v.word2vec.values())[0].shape\n",
    "\n",
    "        for sent in sentences:\n",
    "            \n",
    "            if idf is False:\n",
    "                # ignore unknowm words\n",
    "                word_vectors = [self.w2v.word2vec[w] for w in sent.split() if w in self.w2v.word2vec]\n",
    "                \n",
    "                if len(word_vectors)==0:\n",
    "                    # If no words are knowm, null vector\n",
    "                    mean = np.zeros(dim)\n",
    "                else:\n",
    "                    # mean of word vectors\n",
    "                    mean = np.mean(word_vectors, axis=0)\n",
    "                    \n",
    "                sentemb.append(mean)\n",
    "            else:\n",
    "                # ignore unknowm words\n",
    "                weighted_word_vectors = [idf[w] * self.w2v.word2vec[w]\n",
    "                                         for w in sent.split() if w in self.w2v.word2vec and w in idf]\n",
    "        \n",
    "                if len(weighted_word_vectors)==0:\n",
    "                    # If no words are knowm, null vector\n",
    "                    weighted_mean = np.zeros(dim)\n",
    "                else:\n",
    "                    # idf-weighted mean of word vectors\n",
    "                    weighted_mean = np.mean(weighted_word_vectors, axis=0)\n",
    "                \n",
    "                sentemb.append(weighted_mean)\n",
    "        return np.vstack(sentemb)\n",
    "\n",
    "    def most_similar(self, s, sentences, idf=False, K=5):\n",
    "        # get most similar sentences and **print** them\n",
    "        keys = self.encode(sentences[:50], idf)\n",
    "        query = self.encode([s], idf).squeeze()\n",
    "\n",
    "        # Compute similarities\n",
    "        similarities = np.array([self.score(query, key) for key in keys])\n",
    "\n",
    "        # Indexes of sentences by decreasing similarity\n",
    "        # Remove first sentence, and keep the K following\n",
    "        indexes_most_similar_sentences = np.argsort(-similarities)[1:K+1]\n",
    "        \n",
    "        most_similar_sentences = [sentences[idx] for idx in indexes_most_similar_sentences]\n",
    "        \n",
    "        print('\\n#{} Most similar sentences to \"{}\" :'.format(K, s))\n",
    "        for i, sent in enumerate(most_similar_sentences):\n",
    "            print('{}) \"{}\"'.format(i+1, sent))\n",
    "        \n",
    "        return most_similar_sentences\n",
    "\n",
    "    def score(self, s1, s2, idf=False):\n",
    "        # cosine similarity: use   np.dot  and  np.linalg.norm\n",
    "        try:\n",
    "            return np.dot(s1, s2) / (np.linalg.norm(s1) * np.linalg.norm(s2))\n",
    "        except:\n",
    "            vec_s1 = self.encode([s1], idf).squeeze()\n",
    "            vec_s2 = self.encode([s2], idf).squeeze()\n",
    "            print(np.linalg.norm(vec_s1), np.linalg.norm(vec_s2))\n",
    "            return np.dot(vec_s1, vec_s2) / (np.linalg.norm(vec_s1) * np.linalg.norm(vec_s2))\n",
    "    \n",
    "    def build_idf(self, sentences):\n",
    "        # build the idf dictionary: associate each word to its idf value\n",
    "        idf = {}\n",
    "        \n",
    "        for sent in sentences:\n",
    "            for w in set(sent):\n",
    "                idf[w] = idf.get(w, 0) + 1\n",
    "        \n",
    "        for w in idf.keys():\n",
    "            idf[w] = max(1, np.log10(len(sentences) / (idf[w])))\n",
    "            \n",
    "        return idf"
   ]
  },
  {
   "cell_type": "code",
   "execution_count": 87,
   "metadata": {
    "scrolled": false
   },
   "outputs": [
    {
     "name": "stdout",
     "output_type": "stream",
     "text": [
      "Loaded 5000 pretrained word vectors\n",
      "\n",
      "#5 Most similar sentences to \"1 smiling african american boy .\" :\n",
      "1) \"2 african adults and 8 african children looking at pictures on a table .\"\n",
      "2) \"2 african american men in a green military uniform of some sort are standing in an archway , while one of the men is giving a thumbs up .\"\n",
      "3) \"2 black children in a foreign country , carrying a jug of water .\"\n",
      "4) \"2 asian men are sweeping flower petals off of some stairs .\"\n",
      "5) \"2 older women and a young girl with a red bike .\"\n",
      "1.6388323539989955 1.6606708154303855\n",
      "\n",
      " 0.6089445116147133\n",
      "\n",
      "#5 Most similar sentences to \"1 smiling african american boy .\" :\n",
      "1) \"2 older women and a young girl with a red bike .\"\n",
      "2) \"2 people with white hats looking over the mountain\"\n",
      "3) \"2 villagers carry a baskets of goods while another follows .\"\n",
      "4) \"2 adult men lying on a floor .\"\n",
      "5) \"2 adults snorkeling in the ocean .\"\n",
      "0.0 0.0\n",
      "\n",
      " nan\n"
     ]
    },
    {
     "name": "stderr",
     "output_type": "stream",
     "text": [
      "/anaconda3/lib/python3.6/site-packages/ipykernel_launcher.py:63: RuntimeWarning: invalid value encountered in double_scalars\n",
      "/anaconda3/lib/python3.6/site-packages/ipykernel_launcher.py:68: RuntimeWarning: invalid value encountered in double_scalars\n"
     ]
    }
   ],
   "source": [
    "w2v = Word2vec(os.path.join(PATH_TO_DATA, 'crawl-300d-200k.vec'), nmax=5000)\n",
    "s2v = BoV(w2v)\n",
    "\n",
    "# Load sentences in \"PATH_TO_DATA/sentences.txt\"\n",
    "with open(os.path.join(PATH_TO_DATA, 'sentences.txt'), 'r') as filehandle:  \n",
    "    sentences = [current_place.rstrip() for current_place in filehandle.readlines()]\n",
    "\n",
    "# Build idf scores for each word\n",
    "idf = s2v.build_idf(sentences)\n",
    "\n",
    "# You will be evaluated on the output of the following:\n",
    "s2v.most_similar('' if not sentences else sentences[10], sentences)  # BoV-mean\n",
    "print('\\n', s2v.score('' if not sentences else sentences[7], '' if not sentences else sentences[13]))\n",
    "\n",
    "idf = {}  \n",
    "s2v.most_similar('' if not sentences else sentences[10], sentences, idf)  # BoV-idf\n",
    "print('\\n', s2v.score('' if not sentences else sentences[7], '' if not sentences else sentences[13], idf))"
   ]
  },
  {
   "cell_type": "markdown",
   "metadata": {},
   "source": [
    "# 2) Multilingual (English-French) word embeddings"
   ]
  },
  {
   "cell_type": "markdown",
   "metadata": {},
   "source": [
    "Let's consider a bilingual dictionary of size V_a (e.g French-English).\n",
    "\n",
    "Let's define **X** and **Y** the **French** and **English** matrices.\n",
    "\n",
    "They contain the embeddings associated to the words in the bilingual dictionary.\n",
    "\n",
    "We want to find a **mapping W** that will project the source word space (e.g French) to the target word space (e.g English).\n",
    "\n",
    "Procrustes : **W\\* = argmin || W.X - Y ||  s.t  W^T.W = Id**\n",
    "has a closed form solution:\n",
    "**W = U.V^T  where  U.Sig.V^T = SVD(Y.X^T)**\n",
    "\n",
    "In what follows, you are asked to: "
   ]
  },
  {
   "cell_type": "code",
   "execution_count": 88,
   "metadata": {},
   "outputs": [
    {
     "name": "stdout",
     "output_type": "stream",
     "text": [
      "Loaded 50000 pretrained word vectors\n",
      "Loaded 50000 pretrained word vectors\n"
     ]
    }
   ],
   "source": [
    "# 1 - Download and load 50k first vectors of\n",
    "#     https://s3-us-west-1.amazonaws.com/fasttext-vectors/wiki.en.vec\n",
    "#     https://s3-us-west-1.amazonaws.com/fasttext-vectors/wiki.fr.vec\n",
    "\n",
    "# TYPE CODE HERE\n",
    "w2v_fr = Word2vec(os.path.join(PATH_TO_DATA, 'wiki.fr.vec'), nmax=50000)\n",
    "w2v_en = Word2vec(os.path.join(PATH_TO_DATA, 'wiki.en.vec'), nmax=50000)"
   ]
  },
  {
   "cell_type": "code",
   "execution_count": 89,
   "metadata": {},
   "outputs": [],
   "source": [
    "# 2 - Get words that appear in both vocabs (= identical character strings)\n",
    "#     Use it to create the matrix X and Y (of aligned embeddings for these words)\n",
    "\n",
    "# TYPE CODE HERE\n",
    "common_words = [w for w in w2v_fr.word2vec if w in w2v_en.word2vec]\n",
    "\n",
    "X = np.vstack([w2v_fr.word2vec[w] for w in common_words]).T\n",
    "Y = np.vstack([w2v_en.word2vec[w] for w in common_words]).T"
   ]
  },
  {
   "cell_type": "code",
   "execution_count": 90,
   "metadata": {},
   "outputs": [],
   "source": [
    "# 3 - Solve the Procrustes using the scipy package and: scipy.linalg.svd() and get the optimal W\n",
    "#     Now W*French_vector is in the same space as English_vector\n",
    "\n",
    "# TYPE CODE HERE\n",
    "from scipy.linalg import svd\n",
    "\n",
    "U, S, V = svd(np.dot(Y, X.T))\n",
    "W = U.dot(V)"
   ]
  },
  {
   "cell_type": "code",
   "execution_count": 91,
   "metadata": {},
   "outputs": [
    {
     "name": "stdout",
     "output_type": "stream",
     "text": [
      "The 5 english neareast neighbors of the french word \"soleil\" are :\n",
      "\t ['sun', 'ecliptic', 'perihelion', 'soleil', 'solstice']\n",
      "The 5 english neareast neighbors of the french word \"loup\" are :\n",
      "\t ['wolf', 'loup', 'boar', 'raccoon', 'ferret']\n",
      "The 5 english neareast neighbors of the french word \"maman\" are :\n",
      "\t ['grandma', 'mom', 'mommy', 'mama', 'baby']\n",
      "=============\n",
      "The 5 french neareast neighbors og the english word \"father\" are :\n",
      "\t ['père', 'fils', 'oncle', 'frère', 'aîné']\n",
      "The 5 french neareast neighbors og the english word \"beer\" are :\n",
      "\t ['bière', 'bières', 'boisson', 'vodka', 'alcoolisée']\n",
      "The 5 french neareast neighbors og the english word \"priest\" are :\n",
      "\t ['prêtre', 'vicaire', 'diacre', 'prêtres', 'évêque']\n"
     ]
    }
   ],
   "source": [
    "# 4 - After alignment with W, give examples of English nearest neighbors of some French words (and vice versa)\n",
    "#     You will be evaluated on that part and the code above\n",
    "\n",
    "# TYPE CODE HERE\n",
    "\n",
    "def score(w1, w2):\n",
    "    return np.dot(w1, w2) / (np.linalg.norm(w1) * np.linalg.norm(w2))\n",
    "        \n",
    "def nearest_neighbors(W, word, w2v_fr, w2v_en, lang_input='fr', K=5):\n",
    "    \n",
    "    if lang_input=='fr':\n",
    "        projection = lambda vec: W.dot(vec)\n",
    "        w2v_input = w2v_fr\n",
    "        w2v_output = w2v_en\n",
    "    elif lang_input=='en':\n",
    "        projection = lambda vec: W.T.dot(vec)\n",
    "        w2v_input = w2v_en\n",
    "        w2v_output = w2v_fr\n",
    "    else:\n",
    "        return 'Error: Unknown language'\n",
    "    \n",
    "    # Get the embedding of the word we want to translate\n",
    "    vec_word_input = w2v_input.word2vec[word]\n",
    "    vec_word_output = projection(vec_word_input)\n",
    "        \n",
    "    # List of available words\n",
    "    words = list(w2v_output.word2vec.keys())\n",
    "    \n",
    "    # Compute similarities \n",
    "    similarities = []\n",
    "    for key in words:\n",
    "        vec_key_output = w2v_output.word2vec[key]\n",
    "        similarities.append(score(vec_word_output, vec_key_output))\n",
    "    \n",
    "    \n",
    "    # Indexes of words by decreasing similarity\n",
    "    #Remove first word, and keep the K following\n",
    "    most_similar_words = np.argsort(-np.array(similarities))[:K]\n",
    "    \n",
    "    return [words[idx] for idx in most_similar_words]\n",
    "\n",
    "K=5\n",
    "\n",
    "for word in ['soleil', 'loup', 'maman']:\n",
    "    print('The {} english neareast neighbors of the french word \"{}\" are :'.format(K, word))\n",
    "    print('\\t', nearest_neighbors(W, word, w2v_fr, w2v_en, 'fr', K))\n",
    "\n",
    "print('=============')          \n",
    "\n",
    "for word in ['father', 'beer', 'priest']:\n",
    "    print('The {} french neareast neighbors og the english word \"{}\" are :'.format(K, word))\n",
    "    print('\\t', nearest_neighbors(W, word, w2v_fr, w2v_en, 'en', K))"
   ]
  },
  {
   "cell_type": "markdown",
   "metadata": {},
   "source": [
    "If you want to dive deeper on this subject: https://github.com/facebookresearch/MUSE"
   ]
  },
  {
   "cell_type": "markdown",
   "metadata": {},
   "source": [
    "# 3) Sentence classification with BoV and scikit-learn"
   ]
  },
  {
   "cell_type": "code",
   "execution_count": 92,
   "metadata": {},
   "outputs": [],
   "source": [
    "# 1 - Load train/dev/test of Stanford Sentiment TreeBank (SST)\n",
    "#     (https://nlp.stanford.edu/~socherr/EMNLP2013_RNTN.pdf)\n",
    "\n",
    "# TYPE CODE HERE\n",
    "PATH_TO_SST = PATH_TO_DATA + 'SST/'\n",
    "\n",
    "def read_sst_file(file_name):\n",
    "    # Initialize datasets\n",
    "    sentences = []\n",
    "    labels = []\n",
    "    \n",
    "    # Create file path and recognize type\n",
    "    file_path = os.path.join(PATH_TO_SST, file_name)\n",
    "    test = ('test' in file_name)\n",
    "    \n",
    "    # Open file and store the sentences (and labels)\n",
    "    with open(file_path, 'r') as file:\n",
    "        for line in file: \n",
    "            if test:\n",
    "                sentence = line\n",
    "            else:\n",
    "                label, sentence = line.split(' ', 1)\n",
    "                labels.append(int(label))\n",
    "            sentences.append(sentence)\n",
    "            \n",
    "    return sentences, labels\n",
    "                \n",
    "\n",
    "S_train, y_train = read_sst_file('stsa.fine.train')\n",
    "S_dev, y_dev = read_sst_file('stsa.fine.dev')\n",
    "S_test, _ = read_sst_file('stsa.fine.test.X')"
   ]
  },
  {
   "cell_type": "code",
   "execution_count": 93,
   "metadata": {},
   "outputs": [
    {
     "name": "stdout",
     "output_type": "stream",
     "text": [
      "Loaded 146559 pretrained word vectors\n"
     ]
    }
   ],
   "source": [
    "# 2 - Encode sentences with the BoV model above\n",
    "\n",
    "# TYPE CODE HERE\n",
    "w2v = Word2vec(os.path.join(PATH_TO_DATA, 'crawl-300d-200k.vec'), nmax=-1)\n",
    "s2v = BoV(w2v)\n",
    "\n",
    "# Build idf scores for each word\n",
    "idf = s2v.build_idf(S_train)\n",
    "\n",
    "# Encode with idf\n",
    "X_train_idf = s2v.encode(S_train, idf)\n",
    "X_dev_idf = s2v.encode(S_dev, idf)\n",
    "X_test_idf = s2v.encode(S_test, idf)\n",
    "\n",
    "# Encode without idf\n",
    "X_train = s2v.encode(S_train)\n",
    "X_dev = s2v.encode(S_dev)\n",
    "X_test = s2v.encode(S_test)"
   ]
  },
  {
   "cell_type": "code",
   "execution_count": 94,
   "metadata": {},
   "outputs": [
    {
     "name": "stdout",
     "output_type": "stream",
     "text": [
      "Without idf :\n",
      ">> Fitting the model...\n",
      "... Done\n",
      "Train score:  0.48911516853932585\n",
      "Test score:  0.4359673024523161\n",
      "\n",
      "With idf :\n",
      ">> Fitting the model...\n",
      "... Done\n",
      "Train score:  0.29084737827715357\n",
      "Test score:  0.3006357856494096\n"
     ]
    }
   ],
   "source": [
    "# 3 - Learn Logistic Regression on top of sentence embeddings using scikit-learn\n",
    "#     (consider tuning the L2 regularization on the dev set)\n",
    "\n",
    "# TYPE CODE HERE\n",
    "\n",
    "def evaluate_logistic_regression(X_train, y_train, X_dev, y_dev, cross_validation=False):\n",
    "    cross_validation = False\n",
    "\n",
    "    if cross_validation:\n",
    "        lr = LogisticRegression(solver='lbfgs', multi_class='multinomial')\n",
    "        grid = {\n",
    "            'C': np.logspace(-1.5, 1.5, 100),\n",
    "            'max_iter': randint(50, 1000)\n",
    "        }\n",
    "\n",
    "        print('>> Doing cross validation...')\n",
    "        sk = StratifiedKFold(n_splits=3, shuffle=True)\n",
    "        cv = RandomizedSearchCV(estimator=lr, cv=sk, n_jobs=-1, n_iter=50, param_distributions=grid, verbose=2)\n",
    "        cv.fit(X_train, y_train)\n",
    "        model = cv.best_estimator_\n",
    "        print('... Done')\n",
    "\n",
    "    else:\n",
    "        print('>> Fitting the model...')\n",
    "        model = LogisticRegression(solver='lbfgs', multi_class='multinomial', C=0.38986037025490716, max_iter=500, random_state=42)\n",
    "        model.fit(X_train, y_train)\n",
    "        print('... Done')\n",
    "    \n",
    "        print('Train score: ', model.score(X_train, y_train))\n",
    "        print('Test score: ', model.score(X_dev, y_dev))\n",
    "        \n",
    "    return model\n",
    "        \n",
    "print('Without idf :')\n",
    "model = evaluate_logistic_regression(X_train, y_train, X_dev, y_dev)\n",
    "print('\\nWith idf :')\n",
    "_ = evaluate_logistic_regression(X_train_idf, y_train, X_dev_idf, y_dev)"
   ]
  },
  {
   "cell_type": "code",
   "execution_count": 95,
   "metadata": {},
   "outputs": [],
   "source": [
    "# 4 - Produce 2210 predictions for the test set (in the same order). One line = one prediction (=0,1,2,3,4).\n",
    "#     Attach the output file \"logreg_bov_y_test_sst.txt\" to your deliverable.\n",
    "#     You will be evaluated on the results of the test set.\n",
    "\n",
    "# TYPE CODE HERE\n",
    "y_pred = model.predict(X_test).astype(int)\n",
    "np.savetxt('logreg_bov_y_test_sst.txt', y_pred, fmt='%d')"
   ]
  },
  {
   "cell_type": "code",
   "execution_count": 98,
   "metadata": {},
   "outputs": [],
   "source": [
    "# BONUS!\n",
    "# 5 - Try to improve performance with another classifier\n",
    "#     Attach the output file \"XXX_bov_y_test_sst.txt\" to your deliverable (where XXX = the name of the classifier)\n",
    "\n",
    "# TYPE CODE HERE\n",
    "\n",
    "# The best performance that I achieved was 0.40 in test with Gaussian Naive Bayes\n",
    "gnb = GaussianNB()\n",
    "gnb.fit(X_train, y_train)\n",
    "y_pred = gnb.predict(X_test).astype(int)\n",
    "np.savetxt('gaussian_bov_y_test_sst.txt', y_pred, fmt='%d')"
   ]
  },
  {
   "cell_type": "markdown",
   "metadata": {},
   "source": [
    "# 4) Sentence classification with LSTMs in Keras"
   ]
  },
  {
   "cell_type": "markdown",
   "metadata": {},
   "source": [
    "## 4.1 - Preprocessing"
   ]
  },
  {
   "cell_type": "code",
   "execution_count": 14,
   "metadata": {},
   "outputs": [],
   "source": [
    "import keras"
   ]
  },
  {
   "cell_type": "code",
   "execution_count": 73,
   "metadata": {},
   "outputs": [],
   "source": [
    "# 1 - Load train/dev/test sets of SST\n",
    "PATH_TO_DATA = \"../../data/\"\n",
    "\n",
    "# TYPE CODE HERE\n",
    "S_train, y_train = read_sst_file('stsa.fine.train')\n",
    "S_dev, y_dev = read_sst_file('stsa.fine.dev')\n",
    "S_test, _ = read_sst_file('stsa.fine.test.X')"
   ]
  },
  {
   "cell_type": "code",
   "execution_count": 74,
   "metadata": {},
   "outputs": [],
   "source": [
    "# 2 - Transform text to integers using keras.preprocessing.text.one_hot function\n",
    "#     https://keras.io/preprocessing/text/\n",
    "\n",
    "# TYPE CODE HERE\n",
    "from keras.preprocessing.text import one_hot\n",
    "nb_max_words = 1000\n",
    "\n",
    "S_train = [one_hot(s, nb_max_words) for s in S_train]\n",
    "S_dev = [one_hot(s, nb_max_words) for s in S_dev]\n",
    "S_test = [one_hot(s, nb_max_words) for s in S_test]"
   ]
  },
  {
   "cell_type": "markdown",
   "metadata": {},
   "source": [
    "**Padding input data**\n",
    "\n",
    "Models in Keras (and elsewhere) take batches of sentences of the same length as input. It is because Deep Learning framework have been designed to handle well Tensors, which are particularly suited for fast computation on the GPU.\n",
    "\n",
    "Since sentences have different sizes, we \"pad\" them. That is, we add dummy \"padding\" tokens so that they all have the same length.\n",
    "\n",
    "The input to a Keras model thus has this size : (batchsize, maxseqlen) where maxseqlen is the maximum length of a sentence in the batch."
   ]
  },
  {
   "cell_type": "code",
   "execution_count": 75,
   "metadata": {},
   "outputs": [],
   "source": [
    "# 3 - Pad your sequences using keras.preprocessing.sequence.pad_sequences\n",
    "#     https://keras.io/preprocessing/sequence/\n",
    "\n",
    "# TYPE CODE HERE\n",
    "from keras.preprocessing.sequence import pad_sequences\n",
    "\n",
    "max_length = max(max(S_train, key=len))\n",
    "\n",
    "S_train = pad_sequences(S_train, max_length)\n",
    "S_dev = pad_sequences(S_dev, max_length)\n",
    "S_test = pad_sequences(S_test, max_length)"
   ]
  },
  {
   "cell_type": "markdown",
   "metadata": {},
   "source": [
    "## 4.2 - Design and train your model"
   ]
  },
  {
   "cell_type": "code",
   "execution_count": 76,
   "metadata": {},
   "outputs": [
    {
     "name": "stderr",
     "output_type": "stream",
     "text": [
      "/anaconda3/lib/python3.6/site-packages/ipykernel_launcher.py:19: UserWarning: Update your `LSTM` call to the Keras 2 API: `LSTM(64, dropout=0.25, recurrent_dropout=0.3)`\n"
     ]
    }
   ],
   "source": [
    "# 4 - Design your encoder + classifier using keras.layers\n",
    "#     In Keras, Torch and other deep learning framework, we create a \"container\" which is the Sequential() module.\n",
    "#     Then we add components to this container : the lookuptable, the LSTM, the classifier etc.\n",
    "#     All of these components are contained in the Sequential() and are trained together.\n",
    "\n",
    "\n",
    "# ADAPT CODE BELOW\n",
    "\n",
    "from keras.models import Sequential\n",
    "from keras.layers import Embedding, LSTM, Dense, Activation\n",
    "\n",
    "embed_dim  = 32  # word embedding dimension\n",
    "nhid       = 64  # number of hidden units in the LSTM\n",
    "vocab_size = nb_max_words  # size of the vocabulary\n",
    "n_classes  = 5\n",
    "\n",
    "model = Sequential()\n",
    "model.add(Embedding(vocab_size, embed_dim))\n",
    "model.add(LSTM(nhid, dropout_W=0.25, dropout_U=0.3))\n",
    "model.add(Dense(n_classes, activation='sigmoid'))\n"
   ]
  },
  {
   "cell_type": "code",
   "execution_count": 77,
   "metadata": {
    "scrolled": false
   },
   "outputs": [
    {
     "name": "stdout",
     "output_type": "stream",
     "text": [
      "_________________________________________________________________\n",
      "Layer (type)                 Output Shape              Param #   \n",
      "=================================================================\n",
      "embedding_10 (Embedding)     (None, None, 32)          32000     \n",
      "_________________________________________________________________\n",
      "lstm_10 (LSTM)               (None, 64)                24832     \n",
      "_________________________________________________________________\n",
      "dense_13 (Dense)             (None, 5)                 325       \n",
      "=================================================================\n",
      "Total params: 57,157\n",
      "Trainable params: 57,157\n",
      "Non-trainable params: 0\n",
      "_________________________________________________________________\n",
      "None\n"
     ]
    }
   ],
   "source": [
    "# 5 - Define your loss/optimizer/metrics\n",
    "\n",
    "# MODIFY CODE BELOW\n",
    "\n",
    "loss_classif     =  'categorical_crossentropy' # find the right loss for multi-class classification\n",
    "optimizer        =  'adam' # find the right optimizer\n",
    "metrics_classif  =  ['accuracy']\n",
    "\n",
    "# Observe how easy (but blackboxed) this is in Keras\n",
    "model.compile(loss=loss_classif,\n",
    "              optimizer=optimizer,\n",
    "              metrics=metrics_classif)\n",
    "print(model.summary())"
   ]
  },
  {
   "cell_type": "code",
   "execution_count": 78,
   "metadata": {},
   "outputs": [
    {
     "name": "stderr",
     "output_type": "stream",
     "text": [
      "/anaconda3/lib/python3.6/site-packages/ipykernel_launcher.py:21: UserWarning: The `nb_epoch` argument in `fit` has been renamed `epochs`.\n"
     ]
    },
    {
     "name": "stdout",
     "output_type": "stream",
     "text": [
      "Train on 8544 samples, validate on 1101 samples\n",
      "Epoch 1/10\n",
      "8544/8544 [==============================] - 242s 28ms/step - loss: 1.5780 - acc: 0.2674 - val_loss: 1.5726 - val_acc: 0.2534\n",
      "Epoch 2/10\n",
      "8544/8544 [==============================] - 227s 27ms/step - loss: 1.5585 - acc: 0.2816 - val_loss: 1.5543 - val_acc: 0.2952\n",
      "Epoch 3/10\n",
      "8544/8544 [==============================] - 229s 27ms/step - loss: 1.4935 - acc: 0.3352 - val_loss: 1.4904 - val_acc: 0.3497\n",
      "Epoch 4/10\n",
      "8544/8544 [==============================] - 214s 25ms/step - loss: 1.4104 - acc: 0.3825 - val_loss: 1.4903 - val_acc: 0.3506\n",
      "Epoch 5/10\n",
      "8544/8544 [==============================] - 231s 27ms/step - loss: 1.3618 - acc: 0.4029 - val_loss: 1.4892 - val_acc: 0.3524\n",
      "Epoch 6/10\n",
      "8544/8544 [==============================] - 253s 30ms/step - loss: 1.3263 - acc: 0.4216 - val_loss: 1.5152 - val_acc: 0.3551\n",
      "Epoch 7/10\n",
      "8544/8544 [==============================] - 241s 28ms/step - loss: 1.2942 - acc: 0.4311 - val_loss: 1.5334 - val_acc: 0.3442\n"
     ]
    },
    {
     "data": {
      "image/png": "[encoded data removed]",
      "text/plain": [
       "<matplotlib.figure.Figure at 0x1403e4588>"
      ]
     },
     "metadata": {},
     "output_type": "display_data"
    },
    {
     "data": {
      "image/png": "[encoded data removed]",
      "text/plain": [
       "<matplotlib.figure.Figure at 0x1441d62e8>"
      ]
     },
     "metadata": {},
     "output_type": "display_data"
    }
   ],
   "source": [
    "# 6 - Train your model and find the best hyperparameters for your dev set\n",
    "#     you will be evaluated on the quality of your predictions on the test set\n",
    "\n",
    "# ADAPT CODE BELOW\n",
    "from keras.utils import to_categorical\n",
    "from keras.callbacks import EarlyStopping\n",
    "\n",
    "bs = 64\n",
    "n_epochs = 10\n",
    "\n",
    "y_train = to_categorical(y_train, num_classes=n_classes)\n",
    "y_dev = to_categorical(y_dev, num_classes=n_classes)\n",
    "\n",
    "callbacks = [EarlyStopping(monitor='val_loss', patience=2)]\n",
    "\n",
    "history = model.fit(S_train, y_train,\n",
    "                    batch_size=bs,\n",
    "                    nb_epoch=n_epochs,\n",
    "                    validation_data=(S_dev, y_dev),\n",
    "                    verbose=1,\n",
    "                    callbacks=callbacks)\n",
    "\n",
    "# Plot the categorical Cross-entropy\n",
    "plt.figure(1)\n",
    "plt.plot(history.history['loss'], label='Train')\n",
    "plt.plot(history.history['val_loss'], label='Dev')\n",
    "plt.title('Model loss')\n",
    "plt.ylabel('Categorical cross-entropy')\n",
    "plt.xlabel('Epoch')\n",
    "plt.legend()\n",
    "plt.show()\n",
    "\n",
    "# Plot the accuracy\n",
    "plt.figure(2)\n",
    "plt.plot(history.history['acc'], label='Train')\n",
    "plt.plot(history.history['val_acc'], label='Dev')\n",
    "plt.title('Model accuracy')\n",
    "plt.ylabel('Accuracy')\n",
    "plt.xlabel('Epoch')\n",
    "plt.legend()\n",
    "plt.show()"
   ]
  },
  {
   "cell_type": "code",
   "execution_count": 54,
   "metadata": {},
   "outputs": [],
   "source": [
    "# 7 - Generate your predictions on the test set using model.predict(x_test)\n",
    "#     https://keras.io/models/model/\n",
    "#     Log your predictions in a file (one line = one integer: 0,1,2,3,4)\n",
    "#     Attach the output file \"logreg_lstm_y_test_sst.txt\" to your deliverable.\n",
    "\n",
    "# TYPE CODE HERE\n",
    "y_pred = model.predict(S_test).astype(int)\n",
    "np.savetxt('logreg_lstm_y_test_sst.txt', y_pred, fmt='%dt')"
   ]
  },
  {
   "cell_type": "markdown",
   "metadata": {},
   "source": [
    "## 4.3 -- innovate !"
   ]
  },
  {
   "cell_type": "code",
   "execution_count": null,
   "metadata": {},
   "outputs": [],
   "source": [
    "# 8 - Open question: find a model that is better on your dev set\n",
    "#     (e.g: use a 1D ConvNet, use a better classifier, pretrain your lookup tables ..)\n",
    "#     you will get point if the results on the test set are better: be careful of not overfitting your dev set too much..\n",
    "#     Attach the output file \"XXX_XXX_y_test_sst.txt\" to your deliverable.\n",
    "\n",
    "# TYPE CODE HERE\n"
   ]
  }
 ],
 "metadata": {
  "kernelspec": {
   "display_name": "Python 3",
   "language": "python",
   "name": "python3"
  },
  "language_info": {
   "codemirror_mode": {
    "name": "ipython",
    "version": 3
   },
   "file_extension": ".py",
   "mimetype": "text/x-python",
   "name": "python",
   "nbconvert_exporter": "python",
   "pygments_lexer": "ipython3",
   "version": "3.6.4"
  }
 },
 "nbformat": 4,
 "nbformat_minor": 1
}
