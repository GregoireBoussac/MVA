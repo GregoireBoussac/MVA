{
 "cells": [
  {
   "cell_type": "markdown",
   "metadata": {},
   "source": [
    "**You may need to install [OpenCV](https://pypi.python.org/pypi/opencv-python) and [scikit-video](http://www.scikit-video.org/stable/).**"
   ]
  },
  {
   "cell_type": "code",
   "execution_count": 1,
   "metadata": {},
   "outputs": [],
   "source": [
    "user = 'gregoire'"
   ]
  },
  {
   "cell_type": "code",
   "execution_count": 2,
   "metadata": {},
   "outputs": [
    {
     "name": "stderr",
     "output_type": "stream",
     "text": [
      "/anaconda3/lib/python3.6/site-packages/h5py/__init__.py:36: FutureWarning: Conversion of the second argument of issubdtype from `float` to `np.floating` is deprecated. In future, it will be treated as `np.float64 == np.dtype(float).type`.\n",
      "  from ._conv import register_converters as _register_converters\n",
      "Using TensorFlow backend.\n"
     ]
    }
   ],
   "source": [
    "import keras\n",
    "import numpy as np\n",
    "import io\n",
    "import base64\n",
    "from IPython.display import HTML\n",
    "import skvideo\n",
    "if user=='gregoire':\n",
    "    skvideo.setFFmpegPath(\"/Users/gregoire/Desktop/ffmepg/\")\n",
    "import skvideo.io\n",
    "import cv2\n",
    "import json\n",
    "\n",
    "from keras.models import Sequential,model_from_json\n",
    "from keras.layers.core import Dense\n",
    "from keras.optimizers import sgd\n",
    "from keras.layers import Conv2D, MaxPooling2D, Activation, AveragePooling2D, Reshape, BatchNormalization\n",
    "from keras.layers import LeakyReLU"
   ]
  },
  {
   "cell_type": "markdown",
   "metadata": {},
   "source": [
    "# MiniProject #3: Deep Reinforcement Learning"
   ]
  },
  {
   "cell_type": "markdown",
   "metadata": {},
   "source": [
    "__Notations__: $E_p$ is the expectation under probability $p$. Please justify each of your answer and widely comment your code."
   ]
  },
  {
   "cell_type": "markdown",
   "metadata": {},
   "source": [
    "# Context"
   ]
  },
  {
   "cell_type": "markdown",
   "metadata": {},
   "source": [
    "In a reinforcement learning algorithm, we modelize each step $t$ as an action $a_t$ obtained from a state $s_t$, i.e. $\\{(a_{t},s_{t})_{t\\leq T}\\}$ having the Markov property. We consider a discount factor $\\gamma \\in [0,1]$ that ensures convergence. The goal is to find among all the policies $\\pi$, one that maximizes the expected reward:\n",
    "\n",
    "\\begin{equation*}\n",
    "R(\\pi)=\\sum_{t\\leq T}E_{p^{\\pi}}[\\gamma^t r(s_{t},a_{t})] \\> ,\n",
    "\\end{equation*}\n",
    "\n",
    "where: \n",
    "\\begin{equation*}p^{\\pi}(a_{0},a_{1},s_{1},...,a_{T},s_{T})=p(a_{0})\\prod_{t=1}^{T}\\pi(a_{t}|s_{t})p(s_{t+1}|s_{t},a_{t}) \\> .\n",
    "\\end{equation*}\n",
    "\n",
    "We note the $Q$-function:\n",
    "\n",
    "\\begin{equation*}Q^\\pi(s,a)=E_{p^{\\pi}}[\\sum_{t\\leq T}\\gamma^{t}r(s_{t},a_{t})|s_{0}=s,a_{0}=a] \\> .\n",
    "\\end{equation*}\n",
    "\n",
    "Thus, the optimal Q function is:\n",
    "\\begin{equation*}\n",
    "Q^*(s,a)=\\max_{\\pi}Q^\\pi(s,a) \\> .\n",
    "\\end{equation*}\n",
    "\n",
    "In this project, we will apply the deep reinforcement learning techniques to a simple game: an agent will have to learn from scratch a policy that will permit it maximizing a reward."
   ]
  },
  {
   "cell_type": "markdown",
   "metadata": {},
   "source": [
    "## The environment, the agent and the game"
   ]
  },
  {
   "cell_type": "markdown",
   "metadata": {},
   "source": [
    "### The environment"
   ]
  },
  {
   "cell_type": "markdown",
   "metadata": {},
   "source": [
    "```Environment``` is an abstract class that represents the states, rewards, and actions to obtain the new state."
   ]
  },
  {
   "cell_type": "code",
   "execution_count": 3,
   "metadata": {},
   "outputs": [],
   "source": [
    "class Environment(object):\n",
    "    def __init__(self):\n",
    "        pass\n",
    "\n",
    "    def act(self, act):\n",
    "        \"\"\"\n",
    "        One can act on the environment and obtain its reaction:\n",
    "        - the new state\n",
    "        - the reward of the new state\n",
    "        - should we continue the game?\n",
    "\n",
    "        :return: state, reward, game_over\n",
    "        \"\"\"\n",
    "        pass\n",
    "\n",
    "\n",
    "    def reset(self):\n",
    "        \"\"\"\n",
    "        Reinitialize the environment to a random state and returns\n",
    "        the original state\n",
    "\n",
    "        :return: state\n",
    "        \"\"\"\n",
    "        pass\n",
    "    \n",
    "    def draw(self):\n",
    "        \"\"\"\n",
    "        Visualize in the console or graphically the current state\n",
    "        \"\"\"\n",
    "        pass"
   ]
  },
  {
   "cell_type": "markdown",
   "metadata": {},
   "source": [
    "The method ```act``` allows to act on the environment at a given state $s_t$ (stored internally), via action $a_t$. The method will return the new state $s_{t+1}$, the reward $r(s_{t},a_{t})$ and determines if $t\\leq T$ (*game_over*).\n",
    "\n",
    "The method ```reset``` simply reinitializes the environment to a random state $s_0$.\n",
    "\n",
    "The method ```draw``` displays the current state $s_t$ (this is useful to check the behavior of the Agent).\n",
    "\n",
    "We modelize $s_t$ as a tensor, while $a_t$ is an integer."
   ]
  },
  {
   "cell_type": "markdown",
   "metadata": {},
   "source": [
    "### The Agent"
   ]
  },
  {
   "cell_type": "markdown",
   "metadata": {},
   "source": [
    "The goal of the ```Agent``` is to interact with the ```Environment``` by proposing actions $a_t$ obtained from a given state $s_t$ to attempt to maximize its __reward__ $r(s_t,a_t)$. We propose the following abstract class:"
   ]
  },
  {
   "cell_type": "code",
   "execution_count": 4,
   "metadata": {},
   "outputs": [],
   "source": [
    "class Agent(object):\n",
    "    def __init__(self, epsilon=0.1, n_action=4):\n",
    "        self.epsilon = epsilon\n",
    "        self.n_action = n_action\n",
    "    \n",
    "    def set_epsilon(self,e):\n",
    "        self.epsilon = e\n",
    "\n",
    "    def act(self, s, train=True):\n",
    "        \"\"\" This function should return the next action to do:\n",
    "        an integer between 0 and 4 (not included) with a random exploration of epsilon\"\"\"\n",
    "        if train:\n",
    "            if np.random.rand() <= self.epsilon:\n",
    "                a = np.random.randint(0, self.n_action, size=1)[0]\n",
    "            else:\n",
    "                a = self.learned_act(s)\n",
    "        else: # in some cases, this can improve the performance. remove it if poor performances\n",
    "            a = self.learned_act(s)\n",
    "\n",
    "        return a\n",
    "\n",
    "    def learned_act(self, s):\n",
    "        \"\"\" Act via the policy of the agent, from a given state s\n",
    "        it proposes an action a\"\"\"\n",
    "        pass\n",
    "\n",
    "    def reinforce(self, s, n_s, a, r, game_over_):\n",
    "        \"\"\" This function is the core of the learning algorithm. \n",
    "        It takes as an input the current state s_, the next state n_s_\n",
    "        the action a_ used to move from s_ to n_s_ and the reward r_.\n",
    "        \n",
    "        Its goal is to learn a policy.\n",
    "        \"\"\"\n",
    "        pass\n",
    "\n",
    "    def save(self):\n",
    "        \"\"\" This function returns basic stats if applicable: the\n",
    "        loss and/or the model\"\"\"\n",
    "        pass\n",
    "\n",
    "    def load(self):\n",
    "        \"\"\" This function allows to restore a model\"\"\"\n",
    "        pass"
   ]
  },
  {
   "cell_type": "markdown",
   "metadata": {},
   "source": [
    "***\n",
    "__Question 1__:\n",
    "Explain the function act. Why is ```epsilon``` essential?"
   ]
  },
  {
   "cell_type": "markdown",
   "metadata": {},
   "source": [
    "The function ```act``` takes as input a state, and returns an action. The goal of this function is to choose an action to execute given the current state.\n",
    "\n",
    "There are two main parts in the funciton ```act```.\n",
    "\n",
    "The first one corresponds to the case when we are training the agent.\n",
    "When training the agent, we follow an $\\epsilon$-greedy policy. It means that with a probability $\\epsilon$ we choose a random action (exploration), and with a  probability $1-\\epsilon$ we choose the best action according to the learned policy (exploitation). This is a way to do both exploration and exploitation.\n",
    "\n",
    "The second one corresponds to the case when the agent has been trained, and we want to use it to explore the state space. Then we only use exploitation to choose the \"best\" action."
   ]
  },
  {
   "cell_type": "markdown",
   "metadata": {},
   "source": [
    "***\n",
    "### The Game"
   ]
  },
  {
   "cell_type": "markdown",
   "metadata": {},
   "source": [
    "The ```Agent``` and the ```Environment``` work in an interlaced way as in the following (take some time to understand this code as it is the core of the project)\n",
    "\n",
    "```python\n",
    "\n",
    "epoch = 300\n",
    "env = Environment()\n",
    "agent = Agent()\n",
    "\n",
    "\n",
    "# Number of won games\n",
    "score = 0\n",
    "loss = 0\n",
    "\n",
    "\n",
    "for e in range(epoch):\n",
    "    # At each epoch, we restart to a fresh game and get the initial state\n",
    "    state = env.reset()\n",
    "    # This assumes that the games will end\n",
    "    game_over = False\n",
    "\n",
    "    win = 0\n",
    "    lose = 0\n",
    "    \n",
    "    while not game_over:\n",
    "        # The agent performs an action\n",
    "        action = agent.act(state)\n",
    "\n",
    "        # Apply an action to the environment, get the next state, the reward\n",
    "        # and if the games end\n",
    "        prev_state = state\n",
    "        state, reward, game_over = env.act(action)\n",
    "\n",
    "        # Update the counters\n",
    "        if reward > 0:\n",
    "            win = win + reward\n",
    "        if reward < 0:\n",
    "            lose = lose - reward\n",
    "\n",
    "        # Apply the reinforcement strategy\n",
    "        loss = agent.reinforce(prev_state, state,  action, reward, game_over)\n",
    "\n",
    "    # Save as a mp4\n",
    "    if e % 10 == 0:\n",
    "        env.draw(e)\n",
    "\n",
    "    # Update stats\n",
    "    score += win-lose\n",
    "\n",
    "    print(\"Epoch {:03d}/{:03d} | Loss {:.4f} | Win/lose count {}/{} ({})\"\n",
    "          .format(e, epoch, loss, win, lose, win-lose))\n",
    "    agent.save()\n",
    "```"
   ]
  },
  {
   "cell_type": "markdown",
   "metadata": {},
   "source": [
    "# The game, *eat cheese*"
   ]
  },
  {
   "cell_type": "markdown",
   "metadata": {},
   "source": [
    "A rat runs on an island and tries to eat as much as possible. The island is subdivided into $N\\times N$ cells, in which there are cheese (+0.5) and poisonous cells (-1). The rat has a visibility of 2 cells (thus it can see $5^2$ cells). The rat is given a time $T$ to accumulate as much food as possible. It can perform 4 actions: going up, down, left, right. \n",
    "\n",
    "The goal is to code an agent to solve this task that will learn by trial and error. We propose the following environment:"
   ]
  },
  {
   "cell_type": "code",
   "execution_count": 5,
   "metadata": {},
   "outputs": [],
   "source": [
    "class Environment(object):\n",
    "    def __init__(self, grid_size=10, max_time=500, temperature=0.1):\n",
    "        grid_size = grid_size+4\n",
    "        self.grid_size = grid_size\n",
    "        self.max_time = max_time\n",
    "        self.temperature = temperature\n",
    "\n",
    "        #board on which one plays\n",
    "        self.board = np.zeros((grid_size,grid_size))\n",
    "        self.position = np.zeros((grid_size,grid_size))\n",
    "\n",
    "        # coordinate of the cat\n",
    "        self.x = 0\n",
    "        self.y = 1\n",
    "\n",
    "        # self time\n",
    "        self.t = 0\n",
    "\n",
    "        self.scale=16\n",
    "\n",
    "        self.to_draw = np.zeros((max_time+2, grid_size*self.scale, grid_size*self.scale, 3))\n",
    "\n",
    "\n",
    "    def draw(self,e):\n",
    "        skvideo.io.vwrite(str(e) + '.mp4', self.to_draw)\n",
    "\n",
    "    def get_frame(self,t):\n",
    "        b = np.zeros((self.grid_size,self.grid_size,3))+128\n",
    "        b[self.board>0,0] = 256 # red = cheese\n",
    "        b[self.board < 0, 2] = 256 # blue = poison\n",
    "        b[self.x,self.y,:]=256\n",
    "        b[-2:,:,:]=0\n",
    "        b[:,-2:,:]=0\n",
    "        b[:2,:,:]=0\n",
    "        b[:,:2,:]=0\n",
    "        \n",
    "        b =  cv2.resize(b, None, fx=self.scale, fy=self.scale, interpolation=cv2.INTER_NEAREST)\n",
    "\n",
    "        self.to_draw[t,:,:,:]=b\n",
    "\n",
    "\n",
    "    def act(self, action):\n",
    "        \"\"\"This function returns the new state, reward and decides if the\n",
    "        game ends.\"\"\"\n",
    "\n",
    "        self.get_frame(int(self.t))\n",
    "\n",
    "        self.position = np.zeros((self.grid_size, self.grid_size))\n",
    "\n",
    "        self.position[0:2,:]= -1\n",
    "        self.position[:,0:2] = -1\n",
    "        self.position[-2:, :] = -1\n",
    "        self.position[-2:, :] = -1\n",
    "\n",
    "        self.position[self.x, self.y] = 1\n",
    "        if action == 0:\n",
    "            if self.x == self.grid_size-3:\n",
    "                self.x = self.x-1\n",
    "            else:\n",
    "                self.x = self.x + 1\n",
    "        elif action == 1:\n",
    "            if self.x == 2:\n",
    "                self.x = self.x+1\n",
    "            else:\n",
    "                self.x = self.x-1\n",
    "        elif action == 2:\n",
    "            if self.y == self.grid_size - 3:\n",
    "                self.y = self.y - 1\n",
    "            else:\n",
    "                self.y = self.y + 1\n",
    "        elif action == 3:\n",
    "            if self.y == 2:\n",
    "                self.y = self.y + 1\n",
    "            else:\n",
    "                self.y = self.y - 1\n",
    "        else:\n",
    "            RuntimeError('Error: action not recognized')\n",
    "\n",
    "        self.t = self.t + 1\n",
    "        reward = self.board[self.x, self.y]\n",
    "        self.board[self.x, self.y] = 0\n",
    "        game_over = self.t > self.max_time\n",
    "        state = np.concatenate((self.board.reshape(self.grid_size, self.grid_size,1),\n",
    "                        self.position.reshape(self.grid_size, self.grid_size,1)),axis=2)\n",
    "        state = state[self.x-2:self.x+3,self.y-2:self.y+3,:]\n",
    "\n",
    "        return state, reward, game_over\n",
    "\n",
    "    def reset(self):\n",
    "        \"\"\"This function resets the game and returns the initial state\"\"\"\n",
    "\n",
    "        self.x = np.random.randint(3, self.grid_size-3, size=1)[0]\n",
    "        self.y = np.random.randint(3, self.grid_size-3, size=1)[0]\n",
    "\n",
    "\n",
    "        bonus = 0.5 * np.random.binomial(1,self.temperature,size=self.grid_size**2)\n",
    "        bonus = bonus.reshape(self.grid_size,self.grid_size)\n",
    "\n",
    "        malus = -1.0 * np.random.binomial(1,self.temperature,size=self.grid_size**2)\n",
    "        malus = malus.reshape(self.grid_size, self.grid_size)\n",
    "\n",
    "        self.to_draw = np.zeros((self.max_time+2, self.grid_size*self.scale, self.grid_size*self.scale, 3))\n",
    "\n",
    "\n",
    "        malus[bonus>0]=0\n",
    "\n",
    "        self.board = bonus + malus\n",
    "\n",
    "        self.position = np.zeros((self.grid_size, self.grid_size))\n",
    "        self.position[0:2,:]= -1\n",
    "        self.position[:,0:2] = -1\n",
    "        self.position[-2:, :] = -1\n",
    "        self.position[-2:, :] = -1\n",
    "        self.board[self.x,self.y] = 0\n",
    "        self.t = 0\n",
    "\n",
    "        state = np.concatenate((\n",
    "                               self.board.reshape(self.grid_size, self.grid_size,1),\n",
    "                        self.position.reshape(self.grid_size, self.grid_size,1)),axis=2)\n",
    "\n",
    "        state = state[self.x - 2:self.x + 3, self.y - 2:self.y + 3, :]\n",
    "        return state"
   ]
  },
  {
   "cell_type": "markdown",
   "metadata": {},
   "source": [
    "The following elements are important because they correspond to the hyper parameters for this project:"
   ]
  },
  {
   "cell_type": "code",
   "execution_count": 18,
   "metadata": {},
   "outputs": [],
   "source": [
    "# parameters\n",
    "size = 13\n",
    "T=200\n",
    "temperature=0.3\n",
    "epochs_train=80 # set small when debugging\n",
    "epochs_test=30 # set small when debugging\n",
    "\n",
    "# display videos\n",
    "def display_videos(name):\n",
    "    video = io.open(name, 'r+b').read()\n",
    "    encoded = base64.b64encode(video)\n",
    "    return '''<video alt=\"test\" controls>\n",
    "                <source src=\"data:video/mp4;base64,{0}\" type=\"video/mp4\" />\n",
    "             </video>'''.format(encoded.decode('ascii'))"
   ]
  },
  {
   "cell_type": "markdown",
   "metadata": {},
   "source": [
    "__Question 2__ Explain the use of the arrays ```position``` and ```board```."
   ]
  },
  {
   "cell_type": "markdown",
   "metadata": {},
   "source": [
    "```board``` corresponds to the value of the rewards positionned on the grid (cheese vs poison). It is an array of size NxN. When the rat visits a cell, the board value corresponding to the cell is set to zero, because the rat has collected the reward.\n",
    "\n",
    "```position``` corresponds to the position of the rat and the boarders on the grid. The position of the rat on the grid is marked as $1$. The position of the boarder is marked as -1. The other cells are marked as 0. It is an arrat of size NxN."
   ]
  },
  {
   "cell_type": "markdown",
   "metadata": {},
   "source": [
    "## Random Agent"
   ]
  },
  {
   "cell_type": "markdown",
   "metadata": {},
   "source": [
    "***\n",
    "__Question 3__ Implement a random Agent (only ```learned_act``` needs to be implemented):"
   ]
  },
  {
   "cell_type": "code",
   "execution_count": 8,
   "metadata": {},
   "outputs": [],
   "source": [
    "class RandomAgent(Agent):\n",
    "    def __init__(self):\n",
    "        super(RandomAgent, self).__init__()\n",
    "        pass\n",
    "\n",
    "    def learned_act(self, s):\n",
    "        return np.random.randint(0, self.n_action)"
   ]
  },
  {
   "cell_type": "markdown",
   "metadata": {},
   "source": [
    "***\n",
    "***\n",
    "__Question 4__ Visualize the game moves. You need to fill in the following function for the evaluation:"
   ]
  },
  {
   "cell_type": "code",
   "execution_count": 9,
   "metadata": {},
   "outputs": [],
   "source": [
    "def test(agent,env,epochs,prefix=''):\n",
    "    # Number of won games\n",
    "    score = 0\n",
    "        \n",
    "    for e in range(epochs):\n",
    "        \n",
    "        ##### FILL IN HERE\n",
    "        state = env.reset()\n",
    "        \n",
    "        # This assumes that the games will end\n",
    "        game_over = False\n",
    "\n",
    "        win = 0\n",
    "        lose = 0\n",
    "\n",
    "        while not game_over:\n",
    "            # The agent performs an action\n",
    "            action = agent.act(state)\n",
    "\n",
    "            # Apply an action to the environment, get the next state, the reward\n",
    "            # and if the games end\n",
    "            prev_state = state\n",
    "            state, reward, game_over = env.act(action)\n",
    "\n",
    "            # Update the counters\n",
    "            if reward > 0:\n",
    "                win = win + reward\n",
    "            if reward < 0:\n",
    "                lose = lose - reward\n",
    "        \n",
    "        # Save as a mp4\n",
    "        env.draw(prefix+str(e))\n",
    "\n",
    "        # Update stats\n",
    "        score = score + win - lose\n",
    "\n",
    "        print(\"Win/lose count {}/{}. Average score ({})\"\n",
    "              .format(win, lose, score/(1+e)))\n",
    "    print('Final score: '+str(score/epochs))"
   ]
  },
  {
   "cell_type": "code",
   "execution_count": 10,
   "metadata": {
    "scrolled": false
   },
   "outputs": [
    {
     "name": "stdout",
     "output_type": "stream",
     "text": [
      "Win/lose count 8.5/18.0. Average score (-9.5)\n",
      "Win/lose count 5.0/10.0. Average score (-7.25)\n",
      "Win/lose count 11.5/10.0. Average score (-4.333333333333333)\n",
      "Win/lose count 11.0/13.0. Average score (-3.75)\n",
      "Win/lose count 10.0/15.0. Average score (-4.0)\n",
      "Win/lose count 12.0/18.0. Average score (-4.333333333333333)\n",
      "Win/lose count 9.5/11.0. Average score (-3.9285714285714284)\n",
      "Win/lose count 11.5/15.0. Average score (-3.875)\n",
      "Win/lose count 10.0/6.0. Average score (-3.0)\n",
      "Win/lose count 13.5/15.0. Average score (-2.85)\n",
      "Win/lose count 14.5/11.0. Average score (-2.272727272727273)\n",
      "Win/lose count 10.5/15.0. Average score (-2.4583333333333335)\n",
      "Win/lose count 6.0/9.0. Average score (-2.5)\n",
      "Win/lose count 7.5/17.0. Average score (-3.0)\n",
      "Win/lose count 8.0/13.0. Average score (-3.1333333333333333)\n",
      "Win/lose count 11.0/17.0. Average score (-3.3125)\n",
      "Win/lose count 17.5/21.0. Average score (-3.323529411764706)\n",
      "Win/lose count 12.0/8.0. Average score (-2.9166666666666665)\n",
      "Win/lose count 11.5/16.0. Average score (-3.0)\n",
      "Win/lose count 12.5/14.0. Average score (-2.925)\n",
      "Win/lose count 13.0/10.0. Average score (-2.642857142857143)\n",
      "Win/lose count 11.5/10.0. Average score (-2.4545454545454546)\n",
      "Win/lose count 6.5/20.0. Average score (-2.9347826086956523)\n",
      "Win/lose count 8.5/11.0. Average score (-2.9166666666666665)\n",
      "Win/lose count 9.0/21.0. Average score (-3.28)\n",
      "Win/lose count 5.5/15.0. Average score (-3.519230769230769)\n",
      "Win/lose count 6.5/13.0. Average score (-3.6296296296296298)\n",
      "Win/lose count 9.5/16.0. Average score (-3.732142857142857)\n",
      "Win/lose count 13.5/11.0. Average score (-3.5172413793103448)\n",
      "Win/lose count 8.0/18.0. Average score (-3.7333333333333334)\n",
      "Final score: -3.7333333333333334\n"
     ]
    },
    {
     "data": {
      "text/html": [
       "<video alt=\"test\" controls>\n",
       "                <source src=\"data:video/mp4;base64,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\" type=\"video/mp4\" />\n",
       "             </video>"
      ],
      "text/plain": [
       "<IPython.core.display.HTML object>"
      ]
     },
     "execution_count": 10,
     "metadata": {},
     "output_type": "execute_result"
    }
   ],
   "source": [
    "# Initialize the game\n",
    "env = Environment(grid_size=size, max_time=T, temperature=temperature)\n",
    "\n",
    "# Initialize the agent!\n",
    "agent = RandomAgent()\n",
    "\n",
    "test(agent, env, epochs_test, prefix='random')\n",
    "HTML(display_videos('random0.mp4'))"
   ]
  },
  {
   "cell_type": "markdown",
   "metadata": {},
   "source": [
    "***\n",
    "## DQN"
   ]
  },
  {
   "cell_type": "markdown",
   "metadata": {},
   "source": [
    "Let us assume here that $T=\\infty$.\n",
    "\n",
    "***\n",
    "__Question 5__ Let $\\pi$ be a policy, show that:\n",
    "\n",
    "\\begin{equation*}\n",
    "Q^{\\pi}(s,a)=E_{(s',a')\\sim p(.|s,a)}[r(s,a)+\\gamma Q^{\\pi}(s',a')]\n",
    "\\end{equation*}\n",
    "\n",
    "Then, show that for the optimal policy $\\pi^*$ (we assume its existence), the following holds: \n",
    "\n",
    "\\begin{equation*}\n",
    "Q^{*}(s,a)=E_{s'\\sim \\pi^*(.|s,a)}[r(s,a)+\\gamma\\max_{a'}Q^{*}(s',a')].\n",
    "\\end{equation*}\n",
    "Finally, deduce that a plausible objective is:\n",
    "\n",
    "\\begin{equation*}\n",
    "\\mathcal{L}(\\theta)=E_{s' \\sim \\pi^*(.|s,a)}\\Vert r+\\gamma\\max\\max_{a'}Q(s',a',\\theta)-Q(s,a,\\theta)\\Vert^{2}.\n",
    "\\end{equation*}"
   ]
  },
  {
   "cell_type": "markdown",
   "metadata": {},
   "source": [
    "```Proof :```"
   ]
  },
  {
   "cell_type": "markdown",
   "metadata": {},
   "source": [
    "* $Q^\\pi(s,a) = E_{p^{\\pi}}[\\sum_{t=0}^\\infty \\gamma^{t}r(s_{t},a_{t})|s_{0}=s,a_{0}=a]$\n",
    "\n",
    "$Q^\\pi(s,a) = E_{p^{\\pi}}[r(s_0, a_0) + \\gamma \\sum_{t=0}^\\infty \\gamma^{t}r(s_t,a_t)|s_{0}=s,a_{0}=a]$\n",
    "\n",
    "$Q^\\pi(s,a) = E_{(s',a') \\sim p(.|s,a)}[r(s, a) + \\gamma Q^\\pi(s',a')]$"
   ]
  },
  {
   "cell_type": "markdown",
   "metadata": {},
   "source": [
    "* $Q^*(s,a)=\\max_{\\pi} Q^\\pi(s,a)$\n",
    "\n",
    "By definition, for the optimal policy $\\pi^*$, $Q^{\\pi^*}(s',a') = \\max_{a'}Q^{*}(s',a')$, $a' = argmax_{a'}Q^{*}(s',a')$ and the probaility of transition $p(.|s,a)$ is replaces by $\\pi^*$.\n",
    "\n",
    "Thus, $Q^{*}(s,a)=E_{s'\\sim \\pi^*(.|s,a)}[r(s,a)+\\gamma\\max_{a'}Q^{*}(s',a')]$"
   ]
  },
  {
   "cell_type": "markdown",
   "metadata": {},
   "source": [
    "* A good loss function minimizes the disance between the current Q-value and the optimal Q-value function. Thus, based on the calculations that we derived above, a plausible objective function is $\\mathcal{L}(\\theta)=E_{s' \\sim \\pi^*(.|s,a)}\\Vert r+\\gamma\\max\\max_{a'}Q(s',a',\\theta)-Q(s,a,\\theta)\\Vert^{2}$"
   ]
  },
  {
   "cell_type": "markdown",
   "metadata": {},
   "source": [
    "```End proof```"
   ]
  },
  {
   "cell_type": "markdown",
   "metadata": {},
   "source": [
    "***\n",
    "The DQN-learning algorithm relies on these derivations to train the parameters $\\theta$ of a Deep Neural Network:\n",
    "\n",
    "1. At the state $s_t$, select the action $a_t$ with best reward using $Q_t$ and store the results;\n",
    "\n",
    "2. Obtain the new state $s_{t+1}$ from the environment $p$;\n",
    "\n",
    "3. Store $(s_t,a_t,s_{t+1})$;\n",
    "\n",
    "4. Obtain $Q_{t+1}$ by minimizing  $\\mathcal{L}$ from a recovered batch from the previously stored results.\n",
    "\n",
    "***\n",
    "__Question 6__ Implement the class ```Memory``` that stores moves (in a replay buffer) via ```remember``` and provides a ```random_access``` to these. Specify a maximum memory size to avoid side effects. You can for example use a ```list()``` and set by default ```max_memory=100```."
   ]
  },
  {
   "cell_type": "code",
   "execution_count": 11,
   "metadata": {},
   "outputs": [],
   "source": [
    "class Memory(object):\n",
    "    def __init__(self, max_memory=100):\n",
    "        self.max_memory = max_memory\n",
    "        self.memory = list()\n",
    "\n",
    "    def remember(self, m):\n",
    "        self.memory.append(m)\n",
    "        if len(self.memory) > self.max_memory:\n",
    "            self.memory = self.memory[1:]\n",
    "\n",
    "    def random_access(self):\n",
    "        random_idx = np.random.randint(0, len(self.memory))\n",
    "        return self.memory[random_idx]"
   ]
  },
  {
   "cell_type": "markdown",
   "metadata": {},
   "source": [
    "***\n",
    "The pipeline we will use for training is given below:"
   ]
  },
  {
   "cell_type": "code",
   "execution_count": 12,
   "metadata": {},
   "outputs": [],
   "source": [
    "def train(agent,env,epoch,prefix=''):\n",
    "    # Number of won games\n",
    "    score = 0\n",
    "    loss = 0\n",
    "\n",
    "    for e in range(epoch):\n",
    "        # At each epoch, we restart to a fresh game and get the initial state\n",
    "        state = env.reset()\n",
    "        # This assumes that the games will terminate\n",
    "        game_over = False\n",
    "\n",
    "        win = 0\n",
    "        lose = 0\n",
    "\n",
    "        while not game_over:\n",
    "            # The agent performs an action\n",
    "            action = agent.act(state)\n",
    "\n",
    "            # Apply an action to the environment, get the next state, the reward\n",
    "            # and if the games end\n",
    "            prev_state = state\n",
    "            state, reward, game_over = env.act(action)\n",
    "\n",
    "            # Update the counters\n",
    "            if reward > 0:\n",
    "                win = win + reward\n",
    "            if reward < 0:\n",
    "                lose = lose -reward\n",
    "\n",
    "            # Apply the reinforcement strategy\n",
    "            loss = agent.reinforce(prev_state, state,  action, reward, game_over)\n",
    "\n",
    "        # Save as a mp4\n",
    "        if e % 10 == 0:\n",
    "            env.draw(prefix+str(e))\n",
    "\n",
    "        # Update stats\n",
    "        score += win-lose\n",
    "\n",
    "        print(\"Epoch {:03d}/{:03d} | Loss {:.4f} | Win/lose count {}/{} ({})\"\n",
    "              .format(e, epoch, loss, win, lose, win-lose))\n",
    "        agent.save(name_weights=prefix+'model.h5',name_model=prefix+'model.json')"
   ]
  },
  {
   "cell_type": "markdown",
   "metadata": {},
   "source": [
    "***\n",
    "__Question 7__ Implement the DQN training algorithm using a cascade of fully connected layers. You can use different learning rate, batch size or memory size parameters. In particular, the loss might oscillate while the player will start to win the games. You have to find a good criterium."
   ]
  },
  {
   "cell_type": "code",
   "execution_count": 29,
   "metadata": {},
   "outputs": [],
   "source": [
    "class DQN(Agent):\n",
    "    def __init__(self, grid_size,  epsilon = 0.1, memory_size=100, batch_size = 16,n_state=2):\n",
    "        super(DQN, self).__init__(epsilon = epsilon)\n",
    "\n",
    "        # Discount for Q learning\n",
    "        self.discount = 0.99\n",
    "        \n",
    "        self.grid_size = grid_size\n",
    "        \n",
    "        # number of state\n",
    "        self.n_state = n_state\n",
    "\n",
    "        # Memory\n",
    "        self.memory = Memory(memory_size)\n",
    "        \n",
    "        # Batch size when learning\n",
    "        self.batch_size = batch_size\n",
    "\n",
    "    def learned_act(self, s):\n",
    "        pred = self.model.predict(np.expand_dims(s, 0))[0]\n",
    "        return np.argmax(pred)\n",
    "\n",
    "    def reinforce(self, s_, n_s_, a_, r_, game_over_):\n",
    "        # Two steps: first memorize the states, second learn from the pool\n",
    "\n",
    "        self.memory.remember([s_, n_s_, a_, r_, game_over_])\n",
    "        \n",
    "        input_states = np.zeros((self.batch_size, 5, 5, self.n_state))\n",
    "        target_q = np.zeros((self.batch_size, 4))\n",
    "        \n",
    "        for i in range(self.batch_size):\n",
    "            ######## FILL IN\n",
    "            s, n_s, a, r, game_over = self.memory.random_access()\n",
    "            target_q[i] = self.model.predict(np.expand_dims(s, 0))[0]\n",
    "            input_states[i] = s\n",
    "            \n",
    "            if game_over_:\n",
    "                ######## FILL IN\n",
    "                target_q[i, a] = r\n",
    "            else:\n",
    "                ######## FILL IN\n",
    "                pred = self.model.predict(np.expand_dims(n_s, 0))[0]\n",
    "                target_q[i, a] = r + self.discount * np.max(pred)\n",
    "                \n",
    "        ######## FILL IN\n",
    "        # HINT: Clip the target to avoid exploiding gradients.. -- clipping is a bit tighter\n",
    "        target_q = np.clip(target_q, -3, 3)\n",
    "\n",
    "        l = self.model.train_on_batch(input_states, target_q)\n",
    "\n",
    "\n",
    "        return l\n",
    "\n",
    "    def save(self,name_weights='model.h5',name_model='model.json'):\n",
    "        self.model.save_weights(name_weights, overwrite=True)\n",
    "        with open(name_model, \"w\") as outfile:\n",
    "            json.dump(self.model.to_json(), outfile)\n",
    "            \n",
    "    def load(self,name_weights='model.h5',name_model='model.json'):\n",
    "        with open(name_model, \"r\") as jfile:\n",
    "            model = model_from_json(json.load(jfile))\n",
    "        model.load_weights(name_weights)\n",
    "        model.compile(\"sgd\", \"mse\")\n",
    "        self.model = model\n",
    "\n",
    "            \n",
    "class DQN_FC(DQN):\n",
    "    def __init__(self, *args, lr=0.1,**kwargs):\n",
    "        super(DQN_FC, self).__init__( *args,**kwargs)\n",
    "        \n",
    "        # NN Model\n",
    "        \n",
    "        ####### FILL IN\n",
    "        model = Sequential()\n",
    "        model.add(Reshape((-1,)))\n",
    "        model.add(Dense(45))\n",
    "        model.add(LeakyReLU())\n",
    "        model.add(Dense(15))\n",
    "        model.add(LeakyReLU())\n",
    "        model.add(Dense(4))\n",
    "        \n",
    "        model.compile(sgd(lr=lr, decay=1e-4, momentum=0.0), \"mse\")\n",
    "        self.model = model\n",
    "        "
   ]
  },
  {
   "cell_type": "code",
   "execution_count": null,
   "metadata": {
    "scrolled": false
   },
   "outputs": [
    {
     "name": "stdout",
     "output_type": "stream",
     "text": [
      "Epoch 000/080 | Loss 0.0307 | Win/lose count 5.0/5.0 (0.0)\n",
      "Epoch 001/080 | Loss 0.0152 | Win/lose count 2.0/4.0 (-2.0)\n",
      "Epoch 002/080 | Loss 0.0514 | Win/lose count 6.5/4.0 (2.5)\n",
      "Epoch 003/080 | Loss 0.0883 | Win/lose count 4.5/5.0 (-0.5)\n",
      "Epoch 004/080 | Loss 0.1039 | Win/lose count 5.0/2.0 (3.0)\n",
      "Epoch 005/080 | Loss 0.1809 | Win/lose count 2.5/0 (2.5)\n",
      "Epoch 006/080 | Loss 0.1354 | Win/lose count 3.5/4.0 (-0.5)\n",
      "Epoch 007/080 | Loss 0.1264 | Win/lose count 1.5/2.0 (-0.5)\n",
      "Epoch 008/080 | Loss 0.1332 | Win/lose count 4.0/3.0 (1.0)\n",
      "Epoch 009/080 | Loss 0.1827 | Win/lose count 4.0/4.0 (0.0)\n",
      "Epoch 010/080 | Loss 0.2163 | Win/lose count 2.0/3.0 (-1.0)\n",
      "Epoch 011/080 | Loss 0.2306 | Win/lose count 3.0/4.0 (-1.0)\n",
      "Epoch 012/080 | Loss 0.2417 | Win/lose count 5.0/2.0 (3.0)\n",
      "Epoch 013/080 | Loss 0.3630 | Win/lose count 8.5/4.0 (4.5)\n",
      "Epoch 014/080 | Loss 0.2978 | Win/lose count 3.5/3.0 (0.5)\n",
      "Epoch 015/080 | Loss 0.4493 | Win/lose count 5.5/6.0 (-0.5)\n",
      "Epoch 016/080 | Loss 0.6042 | Win/lose count 2.5/3.0 (-0.5)\n",
      "Epoch 017/080 | Loss 0.5584 | Win/lose count 3.0/4.0 (-1.0)\n",
      "Epoch 018/080 | Loss 0.6350 | Win/lose count 4.5/3.0 (1.5)\n",
      "Epoch 019/080 | Loss 0.5248 | Win/lose count 2.0/3.0 (-1.0)\n",
      "Epoch 020/080 | Loss 0.5333 | Win/lose count 0.5/0 (0.5)\n",
      "Epoch 021/080 | Loss 0.5035 | Win/lose count 6.0/6.0 (0.0)\n",
      "Epoch 022/080 | Loss 0.4203 | Win/lose count 2.5/4.0 (-1.5)\n",
      "Epoch 023/080 | Loss 0.4419 | Win/lose count 2.0/2.0 (0.0)\n",
      "Epoch 024/080 | Loss 0.5158 | Win/lose count 4.0/1.0 (3.0)\n",
      "Epoch 025/080 | Loss 0.5499 | Win/lose count 4.0/4.0 (0.0)\n",
      "Epoch 026/080 | Loss 0.9332 | Win/lose count 7.5/5.0 (2.5)\n",
      "Epoch 027/080 | Loss 0.6065 | Win/lose count 2.0/6.0 (-4.0)\n",
      "Epoch 028/080 | Loss 0.6411 | Win/lose count 3.0/2.0 (1.0)\n",
      "Epoch 029/080 | Loss 0.6641 | Win/lose count 4.5/4.0 (0.5)\n",
      "Epoch 030/080 | Loss 0.6387 | Win/lose count 3.5/3.0 (0.5)\n",
      "Epoch 031/080 | Loss 0.7854 | Win/lose count 4.0/7.0 (-3.0)\n",
      "Epoch 032/080 | Loss 0.6082 | Win/lose count 6.5/5.0 (1.5)\n",
      "Epoch 033/080 | Loss 0.5257 | Win/lose count 3.0/3.0 (0.0)\n",
      "Epoch 034/080 | Loss 0.6167 | Win/lose count 4.0/6.0 (-2.0)\n",
      "Epoch 035/080 | Loss 0.8712 | Win/lose count 5.0/1.0 (4.0)\n",
      "Epoch 036/080 | Loss 0.8038 | Win/lose count 7.0/3.0 (4.0)\n",
      "Epoch 037/080 | Loss 0.7892 | Win/lose count 2.5/0 (2.5)\n",
      "Epoch 038/080 | Loss 1.1525 | Win/lose count 3.0/2.0 (1.0)\n",
      "Epoch 039/080 | Loss 1.0085 | Win/lose count 11.0/6.0 (5.0)\n",
      "Epoch 040/080 | Loss 1.0673 | Win/lose count 3.0/1.0 (2.0)\n",
      "Epoch 041/080 | Loss 1.3931 | Win/lose count 5.0/0 (5.0)\n"
     ]
    }
   ],
   "source": [
    "env = Environment(grid_size=size, max_time=T, temperature=0.3)\n",
    "agent = DQN_FC(size, lr=.05, epsilon = 0.1, memory_size=200, batch_size = 32)\n",
    "train(agent, env, epochs_train, prefix='fc_train')\n",
    "HTML(display_videos('fc_train10.mp4'))"
   ]
  },
  {
   "cell_type": "markdown",
   "metadata": {},
   "source": [
    "***\n",
    "***\n",
    "__Question 8__ Implement the DQN training algorithm using a CNN (for example, 2 convolutional layers and one final fully connected layer)."
   ]
  },
  {
   "cell_type": "code",
   "execution_count": 20,
   "metadata": {},
   "outputs": [],
   "source": [
    "class DQN_CNN(DQN):\n",
    "    def __init__(self, *args,lr=0.1,**kwargs):\n",
    "        super(DQN_CNN, self).__init__(*args,**kwargs)\n",
    "        \n",
    "        ###### FILL IN\n",
    "        model = Sequential()\n",
    "        model.add(Conv2D(45, (2, 2), input_shape=(5, 5, self.n_state,)))\n",
    "        model.add(LeakyReLU())\n",
    "        model.add(Conv2D(15, (2, 2)))\n",
    "        model.add(LeakyReLU())\n",
    "        model.add(Reshape((-1, )))\n",
    "        model.add(Dense(4))\n",
    "        \n",
    "        model.compile(sgd(lr=lr, decay=1e-4, momentum=0.0), \"mse\")\n",
    "        self.model = model"
   ]
  },
  {
   "cell_type": "code",
   "execution_count": 22,
   "metadata": {},
   "outputs": [
    {
     "name": "stdout",
     "output_type": "stream",
     "text": [
      "Epoch 000/080 | Loss 0.0128 | Win/lose count 3.0/3.0 (0.0)\n",
      "Epoch 001/080 | Loss 0.0104 | Win/lose count 3.5/1.0 (2.5)\n",
      "Epoch 002/080 | Loss 0.0297 | Win/lose count 5.5/1.0 (4.5)\n",
      "Epoch 003/080 | Loss 0.0421 | Win/lose count 0.5/0 (0.5)\n",
      "Epoch 004/080 | Loss 0.0812 | Win/lose count 3.5/3.0 (0.5)\n",
      "Epoch 005/080 | Loss 0.0502 | Win/lose count 4.0/4.0 (0.0)\n",
      "Epoch 006/080 | Loss 0.1192 | Win/lose count 6.0/4.0 (2.0)\n",
      "Epoch 007/080 | Loss 0.0994 | Win/lose count 2.0/2.0 (0.0)\n",
      "Epoch 008/080 | Loss 0.1357 | Win/lose count 3.5/3.0 (0.5)\n",
      "Epoch 009/080 | Loss 0.1649 | Win/lose count 2.0/1.0 (1.0)\n",
      "Epoch 010/080 | Loss 0.1948 | Win/lose count 2.0/4.0 (-2.0)\n",
      "Epoch 011/080 | Loss 0.1508 | Win/lose count 4.5/4.0 (0.5)\n",
      "Epoch 012/080 | Loss 0.2313 | Win/lose count 4.0/5.0 (-1.0)\n",
      "Epoch 013/080 | Loss 0.3077 | Win/lose count 5.5/2.0 (3.5)\n",
      "Epoch 014/080 | Loss 0.4740 | Win/lose count 1.5/1.0 (0.5)\n",
      "Epoch 015/080 | Loss 0.6211 | Win/lose count 6.0/6.0 (0.0)\n",
      "Epoch 016/080 | Loss 1.5165 | Win/lose count 8.0/7.0 (1.0)\n",
      "Epoch 017/080 | Loss 1.8951 | Win/lose count 8.0/2.0 (6.0)\n",
      "Epoch 018/080 | Loss 1.7907 | Win/lose count 8.0/1.0 (7.0)\n",
      "Epoch 019/080 | Loss 1.6374 | Win/lose count 10.0/4.0 (6.0)\n",
      "Epoch 020/080 | Loss 1.6250 | Win/lose count 3.0/2.0 (1.0)\n",
      "Epoch 021/080 | Loss 1.7975 | Win/lose count 4.0/2.0 (2.0)\n",
      "Epoch 022/080 | Loss 1.9439 | Win/lose count 11.5/4.0 (7.5)\n",
      "Epoch 023/080 | Loss 1.6427 | Win/lose count 7.5/2.0 (5.5)\n",
      "Epoch 024/080 | Loss 1.7881 | Win/lose count 8.5/4.0 (4.5)\n",
      "Epoch 025/080 | Loss 1.7569 | Win/lose count 15.0/2.0 (13.0)\n",
      "Epoch 026/080 | Loss 1.8027 | Win/lose count 9.0/1.0 (8.0)\n",
      "Epoch 027/080 | Loss 1.7551 | Win/lose count 11.5/4.0 (7.5)\n",
      "Epoch 028/080 | Loss 1.5621 | Win/lose count 7.0/0 (7.0)\n",
      "Epoch 029/080 | Loss 1.4347 | Win/lose count 2.5/1.0 (1.5)\n",
      "Epoch 030/080 | Loss 1.8101 | Win/lose count 12.5/1.0 (11.5)\n",
      "Epoch 031/080 | Loss 1.8047 | Win/lose count 6.0/2.0 (4.0)\n",
      "Epoch 032/080 | Loss 1.6503 | Win/lose count 11.5/6.0 (5.5)\n",
      "Epoch 033/080 | Loss 1.7678 | Win/lose count 8.0/0 (8.0)\n",
      "Epoch 034/080 | Loss 1.8366 | Win/lose count 14.0/2.0 (12.0)\n",
      "Epoch 035/080 | Loss 1.7518 | Win/lose count 13.0/3.0 (10.0)\n",
      "Epoch 036/080 | Loss 1.7479 | Win/lose count 8.0/1.0 (7.0)\n",
      "Epoch 037/080 | Loss 1.0649 | Win/lose count 4.0/3.0 (1.0)\n",
      "Epoch 038/080 | Loss 1.3229 | Win/lose count 5.0/3.0 (2.0)\n",
      "Epoch 039/080 | Loss 1.6298 | Win/lose count 7.5/0 (7.5)\n",
      "Epoch 040/080 | Loss 1.8487 | Win/lose count 18.5/4.0 (14.5)\n",
      "Epoch 041/080 | Loss 1.8076 | Win/lose count 10.5/0 (10.5)\n",
      "Epoch 042/080 | Loss 1.6762 | Win/lose count 11.5/2.0 (9.5)\n",
      "Epoch 043/080 | Loss 1.8345 | Win/lose count 10.5/2.0 (8.5)\n",
      "Epoch 044/080 | Loss 1.8180 | Win/lose count 10.0/1.0 (9.0)\n",
      "Epoch 045/080 | Loss 1.7508 | Win/lose count 10.5/4.0 (6.5)\n",
      "Epoch 046/080 | Loss 1.6091 | Win/lose count 9.5/4.0 (5.5)\n",
      "Epoch 047/080 | Loss 1.7140 | Win/lose count 16.0/3.0 (13.0)\n",
      "Epoch 048/080 | Loss 1.7792 | Win/lose count 14.5/2.0 (12.5)\n",
      "Epoch 049/080 | Loss 1.5390 | Win/lose count 12.5/3.0 (9.5)\n",
      "Epoch 050/080 | Loss 1.8646 | Win/lose count 15.0/4.0 (11.0)\n",
      "Epoch 051/080 | Loss 1.8171 | Win/lose count 14.0/0 (14.0)\n",
      "Epoch 052/080 | Loss 1.8704 | Win/lose count 22.0/1.0 (21.0)\n",
      "Epoch 053/080 | Loss 1.8054 | Win/lose count 8.0/3.0 (5.0)\n",
      "Epoch 054/080 | Loss 1.8287 | Win/lose count 10.5/2.0 (8.5)\n",
      "Epoch 055/080 | Loss 1.5000 | Win/lose count 12.5/1.0 (11.5)\n",
      "Epoch 056/080 | Loss 1.6563 | Win/lose count 11.0/1.0 (10.0)\n",
      "Epoch 057/080 | Loss 1.5511 | Win/lose count 5.5/2.0 (3.5)\n",
      "Epoch 058/080 | Loss 1.6302 | Win/lose count 8.0/4.0 (4.0)\n",
      "Epoch 059/080 | Loss 1.6960 | Win/lose count 8.0/2.0 (6.0)\n",
      "Epoch 060/080 | Loss 1.7591 | Win/lose count 19.0/4.0 (15.0)\n",
      "Epoch 061/080 | Loss 1.5960 | Win/lose count 4.5/2.0 (2.5)\n",
      "Epoch 062/080 | Loss 1.4841 | Win/lose count 7.5/3.0 (4.5)\n",
      "Epoch 063/080 | Loss 1.6329 | Win/lose count 7.5/3.0 (4.5)\n",
      "Epoch 064/080 | Loss 1.7441 | Win/lose count 15.5/6.0 (9.5)\n",
      "Epoch 065/080 | Loss 1.7405 | Win/lose count 9.5/2.0 (7.5)\n",
      "Epoch 066/080 | Loss 1.6329 | Win/lose count 4.5/1.0 (3.5)\n",
      "Epoch 067/080 | Loss 1.5321 | Win/lose count 10.5/2.0 (8.5)\n",
      "Epoch 068/080 | Loss 1.8743 | Win/lose count 13.5/2.0 (11.5)\n",
      "Epoch 069/080 | Loss 1.8382 | Win/lose count 13.0/2.0 (11.0)\n",
      "Epoch 070/080 | Loss 1.5817 | Win/lose count 7.5/2.0 (5.5)\n",
      "Epoch 071/080 | Loss 1.5288 | Win/lose count 8.0/4.0 (4.0)\n",
      "Epoch 072/080 | Loss 1.8065 | Win/lose count 15.5/3.0 (12.5)\n",
      "Epoch 073/080 | Loss 1.8164 | Win/lose count 21.0/2.0 (19.0)\n",
      "Epoch 074/080 | Loss 1.6910 | Win/lose count 18.5/1.0 (17.5)\n",
      "Epoch 075/080 | Loss 1.8204 | Win/lose count 13.5/0 (13.5)\n",
      "Epoch 076/080 | Loss 1.8188 | Win/lose count 16.0/2.0 (14.0)\n",
      "Epoch 077/080 | Loss 1.7018 | Win/lose count 8.0/3.0 (5.0)\n",
      "Epoch 078/080 | Loss 1.6394 | Win/lose count 6.5/3.0 (3.5)\n",
      "Epoch 079/080 | Loss 1.5724 | Win/lose count 4.0/3.0 (1.0)\n"
     ]
    },
    {
     "data": {
      "text/html": [
       "<video alt=\"test\" controls>\n",
       "                <source src=\"data:video/mp4;base64,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\" type=\"video/mp4\" />\n",
       "             </video>"
      ],
      "text/plain": [
       "<IPython.core.display.HTML object>"
      ]
     },
     "execution_count": 22,
     "metadata": {},
     "output_type": "execute_result"
    }
   ],
   "source": [
    "env = Environment(grid_size=size, max_time=T, temperature=0.3)\n",
    "agent = DQN_CNN(size, lr=.05, epsilon = 0.1, memory_size=150, batch_size=32)\n",
    "train(agent, env, epochs_train, prefix='cnn_train')\n",
    "HTML(display_videos('cnn_train10.mp4'))"
   ]
  },
  {
   "cell_type": "markdown",
   "metadata": {},
   "source": [
    "***\n",
    "***\n",
    "__Question 9__ Test both algorithms and compare their performances. Which issue(s) do you observe? Observe also different behaviors by changing the temperature."
   ]
  },
  {
   "cell_type": "code",
   "execution_count": 26,
   "metadata": {},
   "outputs": [
    {
     "name": "stdout",
     "output_type": "stream",
     "text": [
      "Test of the CNN\n",
      "Win/lose count 9.5/2.0. Average score (7.5)\n",
      "Win/lose count 9.0/5.0. Average score (5.75)\n",
      "Win/lose count 13.5/5.0. Average score (6.666666666666667)\n",
      "Win/lose count 16.0/6.0. Average score (7.5)\n",
      "Win/lose count 11.0/2.0. Average score (7.8)\n",
      "Win/lose count 8.5/6.0. Average score (6.916666666666667)\n",
      "Win/lose count 13.0/10.0. Average score (6.357142857142857)\n",
      "Win/lose count 5.5/2.0. Average score (6.0)\n",
      "Win/lose count 7.5/3.0. Average score (5.833333333333333)\n",
      "Win/lose count 11.5/4.0. Average score (6.0)\n",
      "Win/lose count 7.5/2.0. Average score (5.954545454545454)\n",
      "Win/lose count 12.5/6.0. Average score (6.0)\n",
      "Win/lose count 11.0/2.0. Average score (6.230769230769231)\n",
      "Win/lose count 4.5/2.0. Average score (5.964285714285714)\n",
      "Win/lose count 6.0/2.0. Average score (5.833333333333333)\n",
      "Win/lose count 13.5/5.0. Average score (6.0)\n",
      "Win/lose count 16.5/5.0. Average score (6.323529411764706)\n",
      "Win/lose count 13.0/2.0. Average score (6.583333333333333)\n",
      "Win/lose count 6.0/2.0. Average score (6.447368421052632)\n",
      "Win/lose count 7.0/4.0. Average score (6.275)\n",
      "Win/lose count 6.0/3.0. Average score (6.119047619047619)\n",
      "Win/lose count 8.5/2.0. Average score (6.136363636363637)\n",
      "Win/lose count 6.5/6.0. Average score (5.891304347826087)\n",
      "Win/lose count 7.5/3.0. Average score (5.833333333333333)\n",
      "Win/lose count 11.0/3.0. Average score (5.92)\n",
      "Win/lose count 14.5/6.0. Average score (6.019230769230769)\n",
      "Win/lose count 10.0/2.0. Average score (6.092592592592593)\n",
      "Win/lose count 5.5/5.0. Average score (5.892857142857143)\n",
      "Win/lose count 4.5/3.0. Average score (5.741379310344827)\n",
      "Win/lose count 8.5/1.0. Average score (5.8)\n",
      "Final score: 5.8\n",
      "Test of the FC\n",
      "Win/lose count 11.0/12.0. Average score (-1.0)\n",
      "Win/lose count 8.5/9.0. Average score (-0.75)\n",
      "Win/lose count 5.5/5.0. Average score (-0.3333333333333333)\n",
      "Win/lose count 3.0/7.0. Average score (-1.25)\n",
      "Win/lose count 4.0/7.0. Average score (-1.6)\n",
      "Win/lose count 2.0/4.0. Average score (-1.6666666666666667)\n",
      "Win/lose count 5.0/9.0. Average score (-2.0)\n",
      "Win/lose count 11.0/5.0. Average score (-1.0)\n",
      "Win/lose count 2.0/5.0. Average score (-1.2222222222222223)\n",
      "Win/lose count 5.0/4.0. Average score (-1.0)\n",
      "Win/lose count 7.0/13.0. Average score (-1.4545454545454546)\n",
      "Win/lose count 9.0/7.0. Average score (-1.1666666666666667)\n",
      "Win/lose count 7.5/8.0. Average score (-1.1153846153846154)\n",
      "Win/lose count 1.5/2.0. Average score (-1.0714285714285714)\n",
      "Win/lose count 5.5/9.0. Average score (-1.2333333333333334)\n",
      "Win/lose count 8.5/7.0. Average score (-1.0625)\n",
      "Win/lose count 5.5/6.0. Average score (-1.0294117647058822)\n",
      "Win/lose count 1.5/3.0. Average score (-1.0555555555555556)\n",
      "Win/lose count 6.0/9.0. Average score (-1.1578947368421053)\n",
      "Win/lose count 9.5/14.0. Average score (-1.325)\n",
      "Win/lose count 3.0/4.0. Average score (-1.3095238095238095)\n",
      "Win/lose count 7.0/9.0. Average score (-1.3409090909090908)\n",
      "Win/lose count 9.0/11.0. Average score (-1.3695652173913044)\n",
      "Win/lose count 7.0/11.0. Average score (-1.4791666666666667)\n",
      "Win/lose count 5.0/12.0. Average score (-1.7)\n",
      "Win/lose count 8.0/10.0. Average score (-1.7115384615384615)\n",
      "Win/lose count 9.0/17.0. Average score (-1.9444444444444444)\n",
      "Win/lose count 4.5/5.0. Average score (-1.8928571428571428)\n",
      "Win/lose count 6.5/9.0. Average score (-1.9137931034482758)\n",
      "Win/lose count 8.0/15.0. Average score (-2.0833333333333335)\n",
      "Final score: -2.0833333333333335\n"
     ]
    }
   ],
   "source": [
    "env = Environment(grid_size=size, max_time=T, temperature=0.4)\n",
    "agent_cnn = DQN_CNN(size, lr=.05, epsilon = 0.2, memory_size=150, batch_size = 32)\n",
    "agent_cnn.load(name_weights='cnn_trainmodel.h5',name_model='cnn_trainmodel.json')\n",
    "\n",
    "agent_fc = DQN_FC(size, lr=.05, epsilon = 0.2, memory_size=150, batch_size = 32)\n",
    "agent_cnn.load(name_weights='fc_trainmodel.h5', name_model='fc_trainmodel.json')\n",
    "print('Test of the CNN')\n",
    "test(agent_cnn, env, epochs_test, prefix='cnn_test')\n",
    "print('Test of the FC')\n",
    "test(agent_fc, env, epochs_test, prefix='fc_test')"
   ]
  },
  {
   "cell_type": "code",
   "execution_count": 27,
   "metadata": {},
   "outputs": [
    {
     "data": {
      "text/html": [
       "<video alt=\"test\" controls>\n",
       "                <source src=\"data:video/mp4;base64,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\" type=\"video/mp4\" />\n",
       "             </video>"
      ],
      "text/plain": [
       "<IPython.core.display.HTML object>"
      ]
     },
     "execution_count": 27,
     "metadata": {},
     "output_type": "execute_result"
    }
   ],
   "source": [
    "HTML(display_videos('cnn_test10.mp4'))"
   ]
  },
  {
   "cell_type": "code",
   "execution_count": 28,
   "metadata": {},
   "outputs": [
    {
     "data": {
      "text/html": [
       "<video alt=\"test\" controls>\n",
       "                <source src=\"data:video/mp4;base64,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\" type=\"video/mp4\" />\n",
       "             </video>"
      ],
      "text/plain": [
       "<IPython.core.display.HTML object>"
      ]
     },
     "execution_count": 28,
     "metadata": {},
     "output_type": "execute_result"
    }
   ],
   "source": [
    "HTML(display_videos('fc_test10.mp4'))"
   ]
  },
  {
   "cell_type": "markdown",
   "metadata": {},
   "source": [
    "We can note several things:\n",
    "- The overall performances of the algorithm using CNN layers are better than the one using Fully Connected layers \n",
    "- The agent usually gets stuck in an area and reproduces the same paths as before. The agent over-exploits the paths that he already explored. We need to find a better way to explore the environment\n",
    "- Increasing the temperature leads to better scores\n",
    "- Reducing the size of the memory leads to better results. A too large memory implies more exploitation and less exploration. A memory size equal to 200 leads to far better performances than a memory size equal to 2000\n",
    "- Even when the agent gets stuck in an area of the map, it seems that it has learned better to avoid poison than to find cheese. It might be because the reward associated to poison is twice the reward associated to cheese (in absolute value)"
   ]
  },
  {
   "cell_type": "markdown",
   "metadata": {},
   "source": [
    "***\n",
    "\n",
    "The algorithm tends to not explore the map which can be an issue. We propose two ideas in order to encourage exploration:\n",
    "1. Incorporating a decreasing $\\epsilon$-greedy exploration. You can use the method ```set_epsilon```\n",
    "2. Append via the environment a new state that describes if a cell has been visited or not\n",
    "\n",
    "***\n",
    "__Question 10__ Design a new ```train_explore``` function and environment class ```EnvironmentExploring``` to tackle the issue of exploration.\n",
    "\n"
   ]
  },
  {
   "cell_type": "code",
   "execution_count": null,
   "metadata": {},
   "outputs": [],
   "source": [
    "def train_explore(agent, env, epoch, prefix=''):\n",
    "    # Number of won games\n",
    "    score = 0\n",
    "    loss = 0\n",
    "    decay_rate = 0.1 # Decay rate\n",
    "\n",
    "    for e in range(epoch):\n",
    "        # At each epoch, we restart to a fresh game and get the initial state\n",
    "        state = env.reset()\n",
    "        # This assumes that the games will terminate\n",
    "        game_over = False\n",
    "\n",
    "        win = 0\n",
    "        lose = 0\n",
    "        # Ensures that epsilon\n",
    "        agent.set_epsilon(agent.epsilon*(1 - decay_rate))\n",
    "        \n",
    "        while not game_over:\n",
    "            # The agent performs an action\n",
    "            action = agent.act(state)\n",
    "\n",
    "            # Apply an action to the environment, get the next state, the reward\n",
    "            # and if the games end\n",
    "            prev_state = state\n",
    "            state, reward, game_over = env.act(action, train=True)\n",
    "\n",
    "            # Update the counters\n",
    "            if reward > 0:\n",
    "                win = win + reward\n",
    "            if reward < 0:\n",
    "                lose = lose -reward\n",
    "\n",
    "            # Apply the reinforcement strategy\n",
    "            loss = agent.reinforce(prev_state, state,  action, reward, game_over)\n",
    "\n",
    "        # Save as a mp4\n",
    "        if e % 10 == 0:\n",
    "            env.draw(prefix+str(e))\n",
    "\n",
    "        # Update stats\n",
    "        score += win-lose\n",
    "        \n",
    "        print(\"Epoch {:03d}/{:03d} | Loss {:.4f} | Win/lose count {}/{} ({})\"\n",
    "              .format(e, epoch, loss, win, lose, win-lose))\n",
    "        agent.save(name_weights=prefix+'model.h5',name_model=prefix+'model.json')\n",
    "        \n",
    "class EnvironmentExploring(object):\n",
    "    def __init__(self, grid_size=10, max_time=500, temperature=0.1):\n",
    "        def __init__(self, grid_size=10, max_time=500, temperature=0.1, weight_visited = .1):\n",
    "        grid_size = grid_size+4\n",
    "        self.grid_size = grid_size\n",
    "        self.max_time = max_time\n",
    "        self.temperature = temperature\n",
    "        self.weight_visited = weight_visited\n",
    "\n",
    "        #board on which one plays\n",
    "        self.board = np.zeros((grid_size,grid_size))\n",
    "        self.position = np.zeros((grid_size,grid_size))\n",
    "        self.visited = np.zeros((grid_size,grid_size))\n",
    "        \n",
    "        # coordinate of the cat\n",
    "        self.x = 0\n",
    "        self.y = 1\n",
    "\n",
    "        # self time\n",
    "        self.t = 0\n",
    "\n",
    "        self.scale=16\n",
    "\n",
    "        self.to_draw = np.zeros((max_time+2, grid_size*self.scale, grid_size*self.scale, 3))\n",
    "\n",
    "\n",
    "    def draw(self,e):\n",
    "        skvideo.io.vwrite(str(e) + '.mp4', self.to_draw)\n",
    "\n",
    "    def get_frame(self,t):\n",
    "        b = np.zeros((self.grid_size,self.grid_size,3))+128\n",
    "        b[self.board>0,0] = 256\n",
    "        b[self.board < 0, 2] = 256\n",
    "        b[self.x,self.y,:]=256\n",
    "        b[-2:,:,:]=0\n",
    "        b[:,-2:,:]=0\n",
    "        b[:2,:,:]=0\n",
    "        b[:,:2,:]=0\n",
    "        \n",
    "        b =  cv2.resize(b, None, fx=self.scale, fy=self.scale, interpolation=cv2.INTER_NEAREST)\n",
    "\n",
    "        self.to_draw[t,:,:,:]=b\n",
    "\n",
    "\n",
    "    def act(self, action, train = True):\n",
    "        \"\"\"This function returns the new state, reward and decides if the\n",
    "        game ends.\"\"\"\n",
    "\n",
    "        self.get_frame(int(self.t))\n",
    "\n",
    "        self.position = np.zeros((self.grid_size, self.grid_size))\n",
    "\n",
    "        self.position[0:2,:]= -1\n",
    "        self.position[:,0:2] = -1\n",
    "        self.position[-2:, :] = -1\n",
    "        self.position[-2:, :] = -1\n",
    "\n",
    "        self.position[self.x, self.y] = 1\n",
    "        if action == 0:\n",
    "            if self.x == self.grid_size-3:\n",
    "                self.x = self.x-1\n",
    "            else:\n",
    "                self.x = self.x + 1\n",
    "        elif action == 1:\n",
    "            if self.x == 2:\n",
    "                self.x = self.x+1\n",
    "            else:\n",
    "                self.x = self.x-1\n",
    "        elif action == 2:\n",
    "            if self.y == self.grid_size - 3:\n",
    "                self.y = self.y - 1\n",
    "            else:\n",
    "                self.y = self.y + 1\n",
    "        elif action == 3:\n",
    "            if self.y == 2:\n",
    "                self.y = self.y + 1\n",
    "            else:\n",
    "                self.y = self.y - 1\n",
    "        else:\n",
    "            RuntimeError('Error: action not recognized')\n",
    "            \n",
    "        self.t = self.t + 1\n",
    "        reward = 0\n",
    "        if train:\n",
    "            reward = -self.malus_position[self.x, self.y]\n",
    "        self.malus_position[self.x, self.y] = 0.1\n",
    "\n",
    "        reward = reward + self.board[self.x, self.y]\n",
    "        # 3 \"feature\" states instead of 2\n",
    "        state = np.concatenate((self.malus_position.reshape(self.grid_size, self.grid_size,1),\n",
    "                                        self.board.reshape(self.grid_size, self.grid_size,1),\n",
    "                                self.position.reshape(self.grid_size, self.grid_size,1)),axis=2)\n",
    "        state = state[self.x-2:self.x+3,self.y-2:self.y+3,:]\n",
    "\n",
    "        return state, reward, game_over\n",
    "\n",
    "    def reset(self):\n",
    "        \"\"\"This function resets the game and returns the initial state\"\"\"\n",
    "\n",
    "        self.x = np.random.randint(3, self.grid_size-3, size=1)[0]\n",
    "        self.y = np.random.randint(3, self.grid_size-3, size=1)[0]\n",
    "\n",
    "\n",
    "        bonus = 0.5*np.random.binomial(1,self.temperature,size=self.grid_size**2)\n",
    "        bonus = bonus.reshape(self.grid_size,self.grid_size)\n",
    "\n",
    "        malus = -1.0*np.random.binomial(1,self.temperature,size=self.grid_size**2)\n",
    "        malus = malus.reshape(self.grid_size, self.grid_size)\n",
    "\n",
    "        self.to_draw = np.zeros((self.max_time+2, self.grid_size*self.scale, self.grid_size*self.scale, 3))\n",
    "\n",
    "\n",
    "        malus[bonus>0]=0\n",
    "\n",
    "        self.board = bonus + malus\n",
    "        self.visited = np.zeros((self.grid_size, self.grid_size))\n",
    "        self.position = np.zeros((self.grid_size, self.grid_size))\n",
    "        self.position[0:2,:]= -1\n",
    "        self.position[:,0:2] = -1\n",
    "        self.position[-2:, :] = -1\n",
    "        self.position[-2:, :] = -1\n",
    "        self.board[self.x,self.y] = 0\n",
    "        self.t = 0\n",
    "\n",
    "        state = np.concatenate((self.board.reshape(self.grid_size, self.grid_size,1),\n",
    "                                self.position.reshape(self.grid_size, self.grid_size,1),\n",
    "                                self.visited.reshape(self.grid_size, self.grid_size,1)), axis=2)\n",
    "\n",
    "        state = state[self.x - 2:self.x + 3, self.y - 2:self.y + 3, :]\n",
    "        return state"
   ]
  },
  {
   "cell_type": "code",
   "execution_count": null,
   "metadata": {},
   "outputs": [],
   "source": [
    "# Training\n",
    "env = EnvironmentExploring(grid_size=size, max_time=T, temperature=0.3)\n",
    "agent = DQN_CNN(size, lr=.1, epsilon = 0.1, memory_size=2000, batch_size = 32,n_state=3)\n",
    "train_explore(agent, env, epochs_train, prefix='cnn_train_explore')\n",
    "HTML(display_videos('cnn_train_explore10.mp4'))"
   ]
  },
  {
   "cell_type": "code",
   "execution_count": null,
   "metadata": {},
   "outputs": [],
   "source": [
    "# Evaluation\n",
    "test(agent,env,epochs_test,prefix='cnn_test_explore')\n",
    "HTML(display_videos('cnn_test_explore10.mp4'))"
   ]
  },
  {
   "cell_type": "markdown",
   "metadata": {},
   "source": [
    "***\n",
    "***\n",
    "__BONUS question__ Use the expert DQN from the previous question to generate some winning games. Train a model that mimicks its behavior. Compare the performances."
   ]
  },
  {
   "cell_type": "markdown",
   "metadata": {},
   "source": []
  },
  {
   "cell_type": "markdown",
   "metadata": {},
   "source": [
    "***"
   ]
  }
 ],
 "metadata": {
  "kernelspec": {
   "display_name": "Python 3",
   "language": "python",
   "name": "python3"
  },
  "language_info": {
   "codemirror_mode": {
    "name": "ipython",
    "version": 3
   },
   "file_extension": ".py",
   "mimetype": "text/x-python",
   "name": "python",
   "nbconvert_exporter": "python",
   "pygments_lexer": "ipython3",
   "version": "3.6.8"
  }
 },
 "nbformat": 4,
 "nbformat_minor": 2
}
