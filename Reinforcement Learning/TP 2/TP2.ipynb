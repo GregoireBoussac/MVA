{
 "cells": [
  {
   "cell_type": "markdown",
   "metadata": {},
   "source": [
    "<h1>TP2 - Grégoire BOUSSAC</h1>"
   ]
  },
  {
   "cell_type": "code",
   "execution_count": 1,
   "metadata": {},
   "outputs": [],
   "source": [
    "import numpy as np\n",
    "import matplotlib.pyplot as plt\n",
    "import sys\n",
    "import pandas as pd\n",
    "from tqdm import tqdm\n",
    "import time"
   ]
  },
  {
   "cell_type": "code",
   "execution_count": 2,
   "metadata": {},
   "outputs": [],
   "source": [
    "sys.path.append('TP2_python/')"
   ]
  },
  {
   "cell_type": "code",
   "execution_count": 3,
   "metadata": {},
   "outputs": [],
   "source": [
    "import arms"
   ]
  },
  {
   "cell_type": "markdown",
   "metadata": {},
   "source": [
    "## Tools"
   ]
  },
  {
   "cell_type": "code",
   "execution_count": 20,
   "metadata": {},
   "outputs": [],
   "source": [
    "def kl(x, y):\n",
    "    return x*np.log(x/y) + (1-x)*np.log((1-x)/(1-y))"
   ]
  },
  {
   "cell_type": "markdown",
   "metadata": {},
   "source": [
    "<h2>1) Stochastic Multi-Armed Bandits on Simulated Data</h2>"
   ]
  },
  {
   "cell_type": "code",
   "execution_count": 21,
   "metadata": {},
   "outputs": [],
   "source": [
    "class MAB():\n",
    "    \n",
    "    def __init__(self, list_arms):\n",
    "        self.nb_arms = len(list_arms)\n",
    "        self.list_arms = list_arms\n",
    "\n",
    "        self.means = [arm.mean for arm in self.list_arms]\n",
    "        \n",
    "        self.nb_draws = np.zeros(self.nb_arms)\n",
    "        self.sum_rewards = np.zeros(self.nb_arms)\n",
    "        self.hist_rewards = []\n",
    "        self.hist_draws = []\n",
    "        \n",
    "    def get_empirical_mean(self, arm_index):\n",
    "        if self.nb_draws[arm_index] > 0:\n",
    "            return self.sum_rewards[arm_index]/self.nb_draws[arm_index]\n",
    "        else:\n",
    "            return 0\n",
    "    \n",
    "    def pull_arm(self, arm_index):\n",
    "        reward = self.sample_reward(arm_index)\n",
    "        self.sum_rewards[arm_index] += reward\n",
    "        self.nb_draws[arm_index] += 1\n",
    "        self.hist_draws.append(arm_index)\n",
    "        self.hist_rewards.append(reward)\n",
    "    \n",
    "    def sample_reward(self, arm_index):\n",
    "        sample = float(self.list_arms[arm_index].sample())\n",
    "        \n",
    "        if type(self.list_arms[arm_index])==arms.ArmBernoulli:\n",
    "            return sample\n",
    "        else:\n",
    "            # Perform a Bernoulli trial with probability of success = sample\n",
    "            p = np.random.rand()\n",
    "            reward = (p >= sample) * 1\n",
    "            self.sum_rewards[arm_index] += reward\n",
    "            self.nb_draws[arm_index] += 1\n",
    "            return reward\n",
    "\n",
    "    def compute_complexity(self):\n",
    "        p_star = np.max(self.means)\n",
    "        return sum((p_star - p)/kl(p, p_star) for p in self.means if p<p_star)\n",
    "    \n",
    "    def reset(self):\n",
    "        self.__init__(self.list_arms)"
   ]
  },
  {
   "cell_type": "markdown",
   "metadata": {},
   "source": [
    "## UCB1"
   ]
  },
  {
   "cell_type": "code",
   "execution_count": 22,
   "metadata": {},
   "outputs": [],
   "source": [
    "def UCB1(T, mab, alpha=0.2):\n",
    "\n",
    "    nb_arms = mab.nb_arms\n",
    "    assert (T > nb_arms)\n",
    "    \n",
    "    # Initialization\n",
    "    for t in range(nb_arms):\n",
    "        mab.pull_arm(t)\n",
    "            \n",
    "    for t in range(nb_arms, T):\n",
    "        S, N = np.array(mab.sum_rewards), np.array(mab.nb_draws)\n",
    "        upper_bounds = S/N + alpha * np.sqrt(np.log(t)/(2*N))\n",
    "        arm_to_pull = np.argmax(upper_bounds)\n",
    "    \n",
    "        mab.pull_arm(arm_to_pull)\n",
    "        \n",
    "    return mab"
   ]
  },
  {
   "cell_type": "markdown",
   "metadata": {},
   "source": [
    "## Thompson Sampling"
   ]
  },
  {
   "cell_type": "code",
   "execution_count": 23,
   "metadata": {},
   "outputs": [],
   "source": [
    "def ThomsonSampling(T, mab):\n",
    "\n",
    "    nb_arms = mab.nb_arms\n",
    "    assert (T > nb_arms)\n",
    "    \n",
    "    for t in range(0, T):\n",
    "        S, N = np.array(mab.sum_rewards), np.array(mab.nb_draws)\n",
    "        theta = np.random.beta(S+1, N-S+1)\n",
    "        arm_to_pull = np.argmax(theta)\n",
    "    \n",
    "        mab.pull_arm(arm_to_pull)\n",
    "        \n",
    "    return mab"
   ]
  },
  {
   "cell_type": "markdown",
   "metadata": {},
   "source": [
    "### Naïve strategy"
   ]
  },
  {
   "cell_type": "code",
   "execution_count": 24,
   "metadata": {},
   "outputs": [],
   "source": [
    "# Naive strategy = epsilon-greedy\n",
    "def NaiveStrategy(T, mab):\n",
    "    return UCB1(T, mab, alpha=0)"
   ]
  },
  {
   "cell_type": "markdown",
   "metadata": {},
   "source": [
    "# Q1) Bernoulli bandit models - Experiments"
   ]
  },
  {
   "cell_type": "code",
   "execution_count": 25,
   "metadata": {},
   "outputs": [],
   "source": [
    "# Easy problem\n",
    "\n",
    "means_easy = [0.8, 0.4, 0.3, 0.2]\n",
    "types_easy = [arms.ArmBernoulli for m in means_easy]\n",
    "     \n",
    "list_arms_easy = [arm_type(mean, random_state)\n",
    "             for mean, arm_type in zip(means_easy, types_easy)]\n",
    "\n",
    "mab_easy = MAB(list_arms_easy)"
   ]
  },
  {
   "cell_type": "code",
   "execution_count": 26,
   "metadata": {},
   "outputs": [],
   "source": [
    "# Difficult problem\n",
    "\n",
    "means_hard = [0.51, 0.48, 0.46, 0.3, 0.28]\n",
    "types_hard = [arms.ArmBernoulli for m in means_hard]\n",
    "     \n",
    "list_arms_hard = [arm_type(mean, random_state)\n",
    "             for mean, arm_type in zip(means_hard, types_hard)]\n",
    "\n",
    "mab_hard = MAB(list_arms_hard)"
   ]
  },
  {
   "cell_type": "code",
   "execution_count": 27,
   "metadata": {},
   "outputs": [],
   "source": [
    "algorithms = {\n",
    "        'NaiveStrategy': NaiveStrategy,\n",
    "        'UCB1': UCB1,\n",
    "        'ThomsonSampling': ThomsonSampling\n",
    "}\n",
    "\n",
    "nb_simuls = 100"
   ]
  },
  {
   "cell_type": "code",
   "execution_count": 28,
   "metadata": {
    "scrolled": false
   },
   "outputs": [
    {
     "name": "stderr",
     "output_type": "stream",
     "text": [
      "  2%|▏         | 2/100 [00:00<00:05, 17.07it/s]"
     ]
    },
    {
     "name": "stdout",
     "output_type": "stream",
     "text": [
      ">> Simulating NaiveStrategy...\n"
     ]
    },
    {
     "name": "stderr",
     "output_type": "stream",
     "text": [
      "100%|██████████| 100/100 [00:05<00:00, 18.43it/s]\n",
      "  2%|▏         | 2/100 [00:00<00:06, 15.31it/s]"
     ]
    },
    {
     "name": "stdout",
     "output_type": "stream",
     "text": [
      ">> Simulating UCB1...\n"
     ]
    },
    {
     "name": "stderr",
     "output_type": "stream",
     "text": [
      "100%|██████████| 100/100 [00:05<00:00, 18.10it/s]\n",
      "  2%|▏         | 2/100 [00:00<00:07, 12.57it/s]"
     ]
    },
    {
     "name": "stdout",
     "output_type": "stream",
     "text": [
      ">> Simulating ThomsonSampling...\n"
     ]
    },
    {
     "name": "stderr",
     "output_type": "stream",
     "text": [
      "100%|██████████| 100/100 [00:08<00:00, 12.39it/s]\n"
     ]
    },
    {
     "data": {
      "image/png": "[encoded data removed]",
      "text/plain": [
       "<matplotlib.figure.Figure at 0x10e7e4390>"
      ]
     },
     "metadata": {},
     "output_type": "display_data"
    },
    {
     "name": "stderr",
     "output_type": "stream",
     "text": [
      "\r",
      "  0%|          | 0/100 [00:00<?, ?it/s]"
     ]
    },
    {
     "name": "stdout",
     "output_type": "stream",
     "text": [
      ">> Simulating NaiveStrategy...\n"
     ]
    },
    {
     "name": "stderr",
     "output_type": "stream",
     "text": [
      "100%|██████████| 100/100 [00:50<00:00,  1.99it/s]\n",
      "  0%|          | 0/100 [00:00<?, ?it/s]"
     ]
    },
    {
     "name": "stdout",
     "output_type": "stream",
     "text": [
      ">> Simulating UCB1...\n"
     ]
    },
    {
     "name": "stderr",
     "output_type": "stream",
     "text": [
      "100%|██████████| 100/100 [00:49<00:00,  2.04it/s]\n",
      "  0%|          | 0/100 [00:00<?, ?it/s]"
     ]
    },
    {
     "name": "stdout",
     "output_type": "stream",
     "text": [
      ">> Simulating ThomsonSampling...\n"
     ]
    },
    {
     "name": "stderr",
     "output_type": "stream",
     "text": [
      " 26%|██▌       | 26/100 [00:21<01:01,  1.20it/s]"
     ]
    },
    {
     "ename": "KeyboardInterrupt",
     "evalue": "",
     "output_type": "error",
     "traceback": [
      "\u001b[0;31m---------------------------------------------------------------------------\u001b[0m",
      "\u001b[0;31mKeyboardInterrupt\u001b[0m                         Traceback (most recent call last)",
      "\u001b[0;32m<ipython-input-28-ef0430e8aaa6>\u001b[0m in \u001b[0;36m<module>\u001b[0;34m()\u001b[0m\n\u001b[1;32m     20\u001b[0m         \u001b[0;32mfor\u001b[0m \u001b[0msimul\u001b[0m \u001b[0;32min\u001b[0m \u001b[0mtqdm\u001b[0m\u001b[0;34m(\u001b[0m\u001b[0mrange\u001b[0m\u001b[0;34m(\u001b[0m\u001b[0mnb_simuls\u001b[0m\u001b[0;34m)\u001b[0m\u001b[0;34m)\u001b[0m\u001b[0;34m:\u001b[0m\u001b[0;34m\u001b[0m\u001b[0m\n\u001b[1;32m     21\u001b[0m             \u001b[0mmab\u001b[0m\u001b[0;34m.\u001b[0m\u001b[0mreset\u001b[0m\u001b[0;34m(\u001b[0m\u001b[0;34m)\u001b[0m\u001b[0;34m\u001b[0m\u001b[0m\n\u001b[0;32m---> 22\u001b[0;31m             \u001b[0malgorithm\u001b[0m\u001b[0;34m(\u001b[0m\u001b[0mT\u001b[0m\u001b[0;34m,\u001b[0m \u001b[0mmab\u001b[0m\u001b[0;34m)\u001b[0m\u001b[0;34m\u001b[0m\u001b[0m\n\u001b[0m\u001b[1;32m     23\u001b[0m             \u001b[0mcumulative_regret\u001b[0m \u001b[0;34m+=\u001b[0m \u001b[0mnp\u001b[0m\u001b[0;34m.\u001b[0m\u001b[0mcumsum\u001b[0m\u001b[0;34m(\u001b[0m\u001b[0mmab\u001b[0m\u001b[0;34m.\u001b[0m\u001b[0mhist_rewards\u001b[0m\u001b[0;34m)\u001b[0m\u001b[0;34m\u001b[0m\u001b[0m\n\u001b[1;32m     24\u001b[0m \u001b[0;34m\u001b[0m\u001b[0m\n",
      "\u001b[0;32m<ipython-input-23-631aaa370486>\u001b[0m in \u001b[0;36mThomsonSampling\u001b[0;34m(T, mab)\u001b[0m\n\u001b[1;32m      6\u001b[0m     \u001b[0;32mfor\u001b[0m \u001b[0mt\u001b[0m \u001b[0;32min\u001b[0m \u001b[0mrange\u001b[0m\u001b[0;34m(\u001b[0m\u001b[0;36m0\u001b[0m\u001b[0;34m,\u001b[0m \u001b[0mT\u001b[0m\u001b[0;34m)\u001b[0m\u001b[0;34m:\u001b[0m\u001b[0;34m\u001b[0m\u001b[0m\n\u001b[1;32m      7\u001b[0m         \u001b[0mS\u001b[0m\u001b[0;34m,\u001b[0m \u001b[0mN\u001b[0m \u001b[0;34m=\u001b[0m \u001b[0mnp\u001b[0m\u001b[0;34m.\u001b[0m\u001b[0marray\u001b[0m\u001b[0;34m(\u001b[0m\u001b[0mmab\u001b[0m\u001b[0;34m.\u001b[0m\u001b[0msum_rewards\u001b[0m\u001b[0;34m)\u001b[0m\u001b[0;34m,\u001b[0m \u001b[0mnp\u001b[0m\u001b[0;34m.\u001b[0m\u001b[0marray\u001b[0m\u001b[0;34m(\u001b[0m\u001b[0mmab\u001b[0m\u001b[0;34m.\u001b[0m\u001b[0mnb_draws\u001b[0m\u001b[0;34m)\u001b[0m\u001b[0;34m\u001b[0m\u001b[0m\n\u001b[0;32m----> 8\u001b[0;31m         \u001b[0mtheta\u001b[0m \u001b[0;34m=\u001b[0m \u001b[0mnp\u001b[0m\u001b[0;34m.\u001b[0m\u001b[0mrandom\u001b[0m\u001b[0;34m.\u001b[0m\u001b[0mbeta\u001b[0m\u001b[0;34m(\u001b[0m\u001b[0mS\u001b[0m\u001b[0;34m+\u001b[0m\u001b[0;36m1\u001b[0m\u001b[0;34m,\u001b[0m \u001b[0mN\u001b[0m\u001b[0;34m-\u001b[0m\u001b[0mS\u001b[0m\u001b[0;34m+\u001b[0m\u001b[0;36m1\u001b[0m\u001b[0;34m)\u001b[0m\u001b[0;34m\u001b[0m\u001b[0m\n\u001b[0m\u001b[1;32m      9\u001b[0m         \u001b[0marm_to_pull\u001b[0m \u001b[0;34m=\u001b[0m \u001b[0mnp\u001b[0m\u001b[0;34m.\u001b[0m\u001b[0margmax\u001b[0m\u001b[0;34m(\u001b[0m\u001b[0mtheta\u001b[0m\u001b[0;34m)\u001b[0m\u001b[0;34m\u001b[0m\u001b[0m\n\u001b[1;32m     10\u001b[0m \u001b[0;34m\u001b[0m\u001b[0m\n",
      "\u001b[0;32mmtrand.pyx\u001b[0m in \u001b[0;36mmtrand.RandomState.beta (numpy/random/mtrand/mtrand.c:21362)\u001b[0;34m()\u001b[0m\n",
      "\u001b[0;32m/anaconda3/lib/python3.6/site-packages/numpy/core/fromnumeric.py\u001b[0m in \u001b[0;36many\u001b[0;34m(a, axis, out, keepdims)\u001b[0m\n\u001b[1;32m   1944\u001b[0m \u001b[0;34m\u001b[0m\u001b[0m\n\u001b[1;32m   1945\u001b[0m     \"\"\"\n\u001b[0;32m-> 1946\u001b[0;31m     \u001b[0marr\u001b[0m \u001b[0;34m=\u001b[0m \u001b[0masanyarray\u001b[0m\u001b[0;34m(\u001b[0m\u001b[0ma\u001b[0m\u001b[0;34m)\u001b[0m\u001b[0;34m\u001b[0m\u001b[0m\n\u001b[0m\u001b[1;32m   1947\u001b[0m     \u001b[0mkwargs\u001b[0m \u001b[0;34m=\u001b[0m \u001b[0;34m{\u001b[0m\u001b[0;34m}\u001b[0m\u001b[0;34m\u001b[0m\u001b[0m\n\u001b[1;32m   1948\u001b[0m     \u001b[0;32mif\u001b[0m \u001b[0mkeepdims\u001b[0m \u001b[0;32mis\u001b[0m \u001b[0;32mnot\u001b[0m \u001b[0mnp\u001b[0m\u001b[0;34m.\u001b[0m\u001b[0m_NoValue\u001b[0m\u001b[0;34m:\u001b[0m\u001b[0;34m\u001b[0m\u001b[0m\n",
      "\u001b[0;32m/anaconda3/lib/python3.6/site-packages/numpy/core/numeric.py\u001b[0m in \u001b[0;36masanyarray\u001b[0;34m(a, dtype, order)\u001b[0m\n\u001b[1;32m    581\u001b[0m \u001b[0;34m\u001b[0m\u001b[0m\n\u001b[1;32m    582\u001b[0m     \"\"\"\n\u001b[0;32m--> 583\u001b[0;31m     \u001b[0;32mreturn\u001b[0m \u001b[0marray\u001b[0m\u001b[0;34m(\u001b[0m\u001b[0ma\u001b[0m\u001b[0;34m,\u001b[0m \u001b[0mdtype\u001b[0m\u001b[0;34m,\u001b[0m \u001b[0mcopy\u001b[0m\u001b[0;34m=\u001b[0m\u001b[0;32mFalse\u001b[0m\u001b[0;34m,\u001b[0m \u001b[0morder\u001b[0m\u001b[0;34m=\u001b[0m\u001b[0morder\u001b[0m\u001b[0;34m,\u001b[0m \u001b[0msubok\u001b[0m\u001b[0;34m=\u001b[0m\u001b[0;32mTrue\u001b[0m\u001b[0;34m)\u001b[0m\u001b[0;34m\u001b[0m\u001b[0m\n\u001b[0m\u001b[1;32m    584\u001b[0m \u001b[0;34m\u001b[0m\u001b[0m\n\u001b[1;32m    585\u001b[0m \u001b[0;34m\u001b[0m\u001b[0m\n",
      "\u001b[0;31mKeyboardInterrupt\u001b[0m: "
     ]
    },
    {
     "data": {
      "image/png": "[encoded data removed]",
      "text/plain": [
       "<matplotlib.figure.Figure at 0x10e118be0>"
      ]
     },
     "metadata": {},
     "output_type": "display_data"
    }
   ],
   "source": [
    "algorithms = {\n",
    "        'NaiveStrategy': NaiveStrategy,\n",
    "        'UCB1': UCB1,\n",
    "        'ThomsonSampling': ThomsonSampling\n",
    "}\n",
    "\n",
    "\n",
    "for mab, T in zip([mab_easy, mab_hard], [2000, 20000]):\n",
    "    \n",
    "    p_star = np.max(mab.means)\n",
    "    complexity = mab.compute_complexity()\n",
    "\n",
    "    plt.figure(figsize=(10, 6))\n",
    "\n",
    "    for name, algorithm in algorithms.items():\n",
    "        print('>> Simulating {}...'.format(name))\n",
    "\n",
    "        cumulative_regret = np.zeros(T)\n",
    "\n",
    "        for simul in tqdm(range(nb_simuls)):\n",
    "            mab.reset()\n",
    "            algorithm(T, mab)\n",
    "            cumulative_regret += np.cumsum(mab.hist_rewards)\n",
    "\n",
    "        expected_cumulative_regret = p_star*np.arange(1, T+1) - cumulative_regret / nb_simuls\n",
    "\n",
    "        plt.plot(expected_cumulative_regret, label=name)\n",
    "\n",
    "    plt.plot(complexity*np.log(np.arange(1, T + 1)), label='Oracle')    \n",
    "\n",
    "    plt.legend()\n",
    "    plt.title('Complexity = {}'.format(complexity))\n",
    "    plt.show()"
   ]
  },
  {
   "cell_type": "markdown",
   "metadata": {},
   "source": [
    "# Q2) Non-parametric bandits - Experiments"
   ]
  },
  {
   "cell_type": "code",
   "execution_count": 29,
   "metadata": {},
   "outputs": [],
   "source": [
    "# Easy problem\n",
    "     \n",
    "list_arms_non_param = [arms.ArmBernoulli(0.8),\n",
    "                  arms.ArmBeta(2,3),\n",
    "                  arms.ArmExp(1.5),\n",
    "                  arms.ArmFinite(np.array([0.2, 0.4, 0.6, 0.8, 1]),\n",
    "                                 np.array([0.1, 0.3, 0.25, 0.25, 0.1]))\n",
    "                 ]\n",
    "\n",
    "mab = MAB(list_arms_non_param)\n",
    "\n",
    "T=5000"
   ]
  },
  {
   "cell_type": "code",
   "execution_count": 30,
   "metadata": {
    "scrolled": false
   },
   "outputs": [
    {
     "name": "stderr",
     "output_type": "stream",
     "text": [
      "\n",
      "  0%|          | 0/100 [00:00<?, ?it/s]\u001b[A\n",
      "  1%|          | 1/100 [00:00<00:14,  6.71it/s]\u001b[A"
     ]
    },
    {
     "name": "stdout",
     "output_type": "stream",
     "text": [
      ">> Simulating NaiveStrategy...\n"
     ]
    },
    {
     "name": "stderr",
     "output_type": "stream",
     "text": [
      "\n",
      "  2%|▏         | 2/100 [00:00<00:16,  6.10it/s]\u001b[A\n",
      "  3%|▎         | 3/100 [00:00<00:15,  6.12it/s]\u001b[A\n",
      "  4%|▍         | 4/100 [00:00<00:17,  5.53it/s]\u001b[A\n",
      "  5%|▌         | 5/100 [00:00<00:16,  5.70it/s]\u001b[A\n",
      "  6%|▌         | 6/100 [00:01<00:17,  5.36it/s]\u001b[A\n",
      "  7%|▋         | 7/100 [00:01<00:16,  5.53it/s]\u001b[A\n",
      "  8%|▊         | 8/100 [00:01<00:16,  5.62it/s]\u001b[A\n",
      "  9%|▉         | 9/100 [00:01<00:15,  5.70it/s]\u001b[A\n",
      " 10%|█         | 10/100 [00:01<00:15,  5.76it/s]\u001b[A\n",
      " 11%|█         | 11/100 [00:01<00:16,  5.56it/s]\u001b[A\n",
      " 12%|█▏        | 12/100 [00:02<00:16,  5.40it/s]\u001b[A\n",
      " 13%|█▎        | 13/100 [00:02<00:15,  5.45it/s]\u001b[A\n",
      " 14%|█▍        | 14/100 [00:02<00:15,  5.52it/s]\u001b[A\n",
      " 15%|█▌        | 15/100 [00:02<00:15,  5.58it/s]\u001b[A\n",
      " 16%|█▌        | 16/100 [00:02<00:14,  5.65it/s]\u001b[A\n",
      " 17%|█▋        | 17/100 [00:02<00:14,  5.68it/s]\u001b[A\n",
      " 18%|█▊        | 18/100 [00:03<00:14,  5.57it/s]\u001b[A\n",
      " 19%|█▉        | 19/100 [00:03<00:14,  5.63it/s]\u001b[A\n",
      " 20%|██        | 20/100 [00:03<00:14,  5.67it/s]\u001b[A\n",
      " 21%|██        | 21/100 [00:03<00:13,  5.69it/s]\u001b[A\n",
      " 22%|██▏       | 22/100 [00:03<00:13,  5.69it/s]\u001b[A\n",
      " 23%|██▎       | 23/100 [00:04<00:13,  5.68it/s]\u001b[A\n",
      " 24%|██▍       | 24/100 [00:04<00:13,  5.65it/s]\u001b[A\n",
      " 25%|██▌       | 25/100 [00:04<00:13,  5.67it/s]\u001b[A\n",
      " 26%|██▌       | 26/100 [00:04<00:13,  5.60it/s]\u001b[A\n",
      " 27%|██▋       | 27/100 [00:04<00:12,  5.62it/s]\u001b[A\n",
      " 28%|██▊       | 28/100 [00:04<00:12,  5.65it/s]\u001b[A\n",
      " 29%|██▉       | 29/100 [00:05<00:12,  5.66it/s]\u001b[A\n",
      " 30%|███       | 30/100 [00:05<00:12,  5.67it/s]\u001b[A\n",
      " 31%|███       | 31/100 [00:05<00:12,  5.68it/s]\u001b[A\n",
      " 32%|███▏      | 32/100 [00:05<00:12,  5.60it/s]\u001b[A\n",
      " 33%|███▎      | 33/100 [00:05<00:12,  5.51it/s]\u001b[A\n",
      " 34%|███▍      | 34/100 [00:06<00:12,  5.46it/s]\u001b[A"
     ]
    },
    {
     "ename": "KeyboardInterrupt",
     "evalue": "",
     "output_type": "error",
     "traceback": [
      "\u001b[0;31m---------------------------------------------------------------------------\u001b[0m",
      "\u001b[0;31mKeyboardInterrupt\u001b[0m                         Traceback (most recent call last)",
      "\u001b[0;32m<ipython-input-30-64330c971a84>\u001b[0m in \u001b[0;36m<module>\u001b[0;34m()\u001b[0m\n\u001b[1;32m     16\u001b[0m     \u001b[0;32mfor\u001b[0m \u001b[0msimul\u001b[0m \u001b[0;32min\u001b[0m \u001b[0mtqdm\u001b[0m\u001b[0;34m(\u001b[0m\u001b[0mrange\u001b[0m\u001b[0;34m(\u001b[0m\u001b[0mnb_simuls\u001b[0m\u001b[0;34m)\u001b[0m\u001b[0;34m)\u001b[0m\u001b[0;34m:\u001b[0m\u001b[0;34m\u001b[0m\u001b[0m\n\u001b[1;32m     17\u001b[0m         \u001b[0mmab\u001b[0m\u001b[0;34m.\u001b[0m\u001b[0mreset\u001b[0m\u001b[0;34m(\u001b[0m\u001b[0;34m)\u001b[0m\u001b[0;34m\u001b[0m\u001b[0m\n\u001b[0;32m---> 18\u001b[0;31m         \u001b[0malgorithm\u001b[0m\u001b[0;34m(\u001b[0m\u001b[0mT\u001b[0m\u001b[0;34m,\u001b[0m \u001b[0mmab\u001b[0m\u001b[0;34m)\u001b[0m\u001b[0;34m\u001b[0m\u001b[0m\n\u001b[0m\u001b[1;32m     19\u001b[0m         \u001b[0mcumulative_regret\u001b[0m \u001b[0;34m+=\u001b[0m \u001b[0mnp\u001b[0m\u001b[0;34m.\u001b[0m\u001b[0mcumsum\u001b[0m\u001b[0;34m(\u001b[0m\u001b[0mmab\u001b[0m\u001b[0;34m.\u001b[0m\u001b[0mhist_rewards\u001b[0m\u001b[0;34m)\u001b[0m\u001b[0;34m\u001b[0m\u001b[0m\n\u001b[1;32m     20\u001b[0m \u001b[0;34m\u001b[0m\u001b[0m\n",
      "\u001b[0;32m<ipython-input-24-0818691c7c8c>\u001b[0m in \u001b[0;36mNaiveStrategy\u001b[0;34m(T, mab)\u001b[0m\n\u001b[1;32m      1\u001b[0m \u001b[0;31m# Naive strategy = epsilon-greedy\u001b[0m\u001b[0;34m\u001b[0m\u001b[0;34m\u001b[0m\u001b[0m\n\u001b[1;32m      2\u001b[0m \u001b[0;32mdef\u001b[0m \u001b[0mNaiveStrategy\u001b[0m\u001b[0;34m(\u001b[0m\u001b[0mT\u001b[0m\u001b[0;34m,\u001b[0m \u001b[0mmab\u001b[0m\u001b[0;34m)\u001b[0m\u001b[0;34m:\u001b[0m\u001b[0;34m\u001b[0m\u001b[0m\n\u001b[0;32m----> 3\u001b[0;31m     \u001b[0;32mreturn\u001b[0m \u001b[0mUCB1\u001b[0m\u001b[0;34m(\u001b[0m\u001b[0mT\u001b[0m\u001b[0;34m,\u001b[0m \u001b[0mmab\u001b[0m\u001b[0;34m,\u001b[0m \u001b[0malpha\u001b[0m\u001b[0;34m=\u001b[0m\u001b[0;36m0\u001b[0m\u001b[0;34m)\u001b[0m\u001b[0;34m\u001b[0m\u001b[0m\n\u001b[0m",
      "\u001b[0;32m<ipython-input-22-f11b03183757>\u001b[0m in \u001b[0;36mUCB1\u001b[0;34m(T, mab, alpha)\u001b[0m\n\u001b[1;32m     10\u001b[0m     \u001b[0;32mfor\u001b[0m \u001b[0mt\u001b[0m \u001b[0;32min\u001b[0m \u001b[0mrange\u001b[0m\u001b[0;34m(\u001b[0m\u001b[0mnb_arms\u001b[0m\u001b[0;34m,\u001b[0m \u001b[0mT\u001b[0m\u001b[0;34m)\u001b[0m\u001b[0;34m:\u001b[0m\u001b[0;34m\u001b[0m\u001b[0m\n\u001b[1;32m     11\u001b[0m         \u001b[0mS\u001b[0m\u001b[0;34m,\u001b[0m \u001b[0mN\u001b[0m \u001b[0;34m=\u001b[0m \u001b[0mnp\u001b[0m\u001b[0;34m.\u001b[0m\u001b[0marray\u001b[0m\u001b[0;34m(\u001b[0m\u001b[0mmab\u001b[0m\u001b[0;34m.\u001b[0m\u001b[0msum_rewards\u001b[0m\u001b[0;34m)\u001b[0m\u001b[0;34m,\u001b[0m \u001b[0mnp\u001b[0m\u001b[0;34m.\u001b[0m\u001b[0marray\u001b[0m\u001b[0;34m(\u001b[0m\u001b[0mmab\u001b[0m\u001b[0;34m.\u001b[0m\u001b[0mnb_draws\u001b[0m\u001b[0;34m)\u001b[0m\u001b[0;34m\u001b[0m\u001b[0m\n\u001b[0;32m---> 12\u001b[0;31m         \u001b[0mupper_bounds\u001b[0m \u001b[0;34m=\u001b[0m \u001b[0mS\u001b[0m\u001b[0;34m/\u001b[0m\u001b[0mN\u001b[0m \u001b[0;34m+\u001b[0m \u001b[0malpha\u001b[0m \u001b[0;34m*\u001b[0m \u001b[0mnp\u001b[0m\u001b[0;34m.\u001b[0m\u001b[0msqrt\u001b[0m\u001b[0;34m(\u001b[0m\u001b[0mnp\u001b[0m\u001b[0;34m.\u001b[0m\u001b[0mlog\u001b[0m\u001b[0;34m(\u001b[0m\u001b[0mt\u001b[0m\u001b[0;34m)\u001b[0m\u001b[0;34m/\u001b[0m\u001b[0;34m(\u001b[0m\u001b[0;36m2\u001b[0m\u001b[0;34m*\u001b[0m\u001b[0mN\u001b[0m\u001b[0;34m)\u001b[0m\u001b[0;34m)\u001b[0m\u001b[0;34m\u001b[0m\u001b[0m\n\u001b[0m\u001b[1;32m     13\u001b[0m         \u001b[0marm_to_pull\u001b[0m \u001b[0;34m=\u001b[0m \u001b[0mnp\u001b[0m\u001b[0;34m.\u001b[0m\u001b[0margmax\u001b[0m\u001b[0;34m(\u001b[0m\u001b[0mupper_bounds\u001b[0m\u001b[0;34m)\u001b[0m\u001b[0;34m\u001b[0m\u001b[0m\n\u001b[1;32m     14\u001b[0m \u001b[0;34m\u001b[0m\u001b[0m\n",
      "\u001b[0;31mKeyboardInterrupt\u001b[0m: "
     ]
    },
    {
     "data": {
      "text/plain": [
       "<matplotlib.figure.Figure at 0x10edf42b0>"
      ]
     },
     "metadata": {},
     "output_type": "display_data"
    }
   ],
   "source": [
    "algorithms = {\n",
    "        'NaiveStrategy': NaiveStrategy,\n",
    "        'UCB1': UCB1,\n",
    "        'ThomsonSampling': ThomsonSampling\n",
    "}\n",
    "    \n",
    "p_star = np.max(mab.means)\n",
    "\n",
    "plt.figure(figsize=(10, 6))\n",
    "\n",
    "for name, algorithm in algorithms.items():\n",
    "    print('>> Simulating {}...'.format(name))\n",
    "\n",
    "    cumulative_regret = np.zeros(T)\n",
    "\n",
    "    for simul in tqdm(range(nb_simuls)):\n",
    "        mab.reset()\n",
    "        algorithm(T, mab)\n",
    "        cumulative_regret += np.cumsum(mab.hist_rewards)\n",
    "\n",
    "    expected_cumulative_regret = p_star*np.arange(1, T+1) - cumulative_regret / nb_simuls\n",
    "\n",
    "    plt.plot(expected_cumulative_regret, label=name)\n",
    "\n",
    "plt.legend()\n",
    "plt.title('100 simulations')\n",
    "plt.show()"
   ]
  },
  {
   "cell_type": "markdown",
   "metadata": {},
   "source": [
    "# Q3) "
   ]
  },
  {
   "cell_type": "code",
   "execution_count": 31,
   "metadata": {},
   "outputs": [],
   "source": [
    "from linearmab_models import ColdStartMovieLensModel"
   ]
  },
  {
   "cell_type": "markdown",
   "metadata": {},
   "source": [
    "- Import data and set parameters"
   ]
  },
  {
   "cell_type": "code",
   "execution_count": 32,
   "metadata": {},
   "outputs": [
    {
     "name": "stdout",
     "output_type": "stream",
     "text": [
      "[Errno 2] No such file or directory: 'TP2_python/'\n",
      "/Users/gregoire/Documents/MVA/Reinforcement Learning/TP2/TP2_python\n"
     ]
    }
   ],
   "source": [
    "cd TP2_python/"
   ]
  },
  {
   "cell_type": "code",
   "execution_count": 43,
   "metadata": {},
   "outputs": [],
   "source": [
    "def epsilon_greedy(upper_bounds, eps, n_a):\n",
    "    \n",
    "    if np.random.rand() <= eps:\n",
    "        return random(n_a)\n",
    "    else:\n",
    "        return np.argmax(upper_bounds)"
   ]
  },
  {
   "cell_type": "code",
   "execution_count": 162,
   "metadata": {},
   "outputs": [],
   "source": [
    "random_state = 0#np.random.randint(0, 24532523)\n",
    "\n",
    "'''model = ToyLinearModel(\n",
    "    n_features=8,\n",
    "    n_actions=20,\n",
    "    random_state=random_state,\n",
    "    noise=0.1)\n",
    "'''\n",
    "\n",
    "model = ColdStartMovieLensModel(\n",
    "    random_state=random_state,\n",
    "    noise=0.1\n",
    ")\n",
    "\n",
    "n_a = model.n_actions\n",
    "d = model.n_features\n",
    "V = model.features\n",
    "lmbd = 0.1\n",
    "epsilon = 0.1\n",
    "\n",
    "T = 5000\n",
    "nb_simu = 10 # you may want to change this!\n",
    "\n",
    "alpha = 1000"
   ]
  },
  {
   "cell_type": "code",
   "execution_count": 163,
   "metadata": {
    "scrolled": true
   },
   "outputs": [
    {
     "name": "stderr",
     "output_type": "stream",
     "text": [
      "\n",
      "\n",
      "\n",
      "\n",
      "\n",
      "\n",
      "\n",
      "\n",
      "Simulating LinUCB:   0%|          | 0/10 [00:00<?, ?it/s]\u001b[A\u001b[A\u001b[A\u001b[A\u001b[A\u001b[A\u001b[A\u001b[A"
     ]
    },
    {
     "name": "stdout",
     "output_type": "stream",
     "text": [
      ">> Simulating algorithm LinUCB\n"
     ]
    },
    {
     "name": "stderr",
     "output_type": "stream",
     "text": [
      "\n",
      "\n",
      "\n",
      "\n",
      "\n",
      "\n",
      "\n",
      "\n",
      "Simulating LinUCB:  10%|█         | 1/10 [00:02<00:19,  2.16s/it]\u001b[A\u001b[A\u001b[A\u001b[A\u001b[A\u001b[A\u001b[A\u001b[A\n",
      "\n",
      "\n",
      "\n",
      "\n",
      "\n",
      "\n",
      "\n",
      "Simulating LinUCB:  20%|██        | 2/10 [00:04<00:19,  2.47s/it]\u001b[A\u001b[A\u001b[A\u001b[A\u001b[A\u001b[A\u001b[A\u001b[A\n",
      "\n",
      "\n",
      "\n",
      "\n",
      "\n",
      "\n",
      "\n",
      "Simulating LinUCB:  30%|███       | 3/10 [00:12<00:29,  4.23s/it]\u001b[A\u001b[A\u001b[A\u001b[A\u001b[A\u001b[A\u001b[A\u001b[A\n",
      "\n",
      "\n",
      "\n",
      "\n",
      "\n",
      "\n",
      "\n",
      "Simulating LinUCB:  40%|████      | 4/10 [00:19<00:28,  4.76s/it]\u001b[A\u001b[A\u001b[A\u001b[A\u001b[A\u001b[A\u001b[A\u001b[A\n",
      "\n",
      "\n",
      "\n",
      "\n",
      "\n",
      "\n",
      "\n",
      "Simulating LinUCB:  50%|█████     | 5/10 [00:24<00:24,  4.82s/it]\u001b[A\u001b[A\u001b[A\u001b[A\u001b[A\u001b[A\u001b[A\u001b[A\n",
      "\n",
      "\n",
      "\n",
      "\n",
      "\n",
      "\n",
      "\n",
      "Simulating LinUCB:  60%|██████    | 6/10 [00:26<00:17,  4.34s/it]\u001b[A\u001b[A\u001b[A\u001b[A\u001b[A\u001b[A\u001b[A\u001b[A\n",
      "\n",
      "\n",
      "\n",
      "\n",
      "\n",
      "\n",
      "\n",
      "Simulating LinUCB:  70%|███████   | 7/10 [00:32<00:13,  4.63s/it]\u001b[A\u001b[A\u001b[A\u001b[A\u001b[A\u001b[A\u001b[A\u001b[A\n",
      "\n",
      "\n",
      "\n",
      "\n",
      "\n",
      "\n",
      "\n",
      "Simulating LinUCB:  80%|████████  | 8/10 [00:39<00:09,  4.95s/it]\u001b[A\u001b[A\u001b[A\u001b[A\u001b[A\u001b[A\u001b[A\u001b[A\n",
      "\n",
      "\n",
      "\n",
      "\n",
      "\n",
      "\n",
      "\n",
      "Simulating LinUCB:  90%|█████████ | 9/10 [00:46<00:05,  5.13s/it]\u001b[A\u001b[A\u001b[A\u001b[A\u001b[A\u001b[A\u001b[A\u001b[A\n",
      "\n",
      "\n",
      "\n",
      "\n",
      "\n",
      "\n",
      "\n",
      "Simulating LinUCB: 100%|██████████| 10/10 [00:52<00:00,  5.30s/it]\u001b[A\u001b[A\u001b[A\u001b[A\u001b[A\u001b[A\u001b[A\u001b[A\n",
      "\n",
      "\n",
      "\n",
      "\n",
      "\n",
      "\n",
      "\n",
      "\u001b[A\u001b[A\u001b[A\u001b[A\u001b[A\u001b[A\u001b[A\u001b[A\n",
      "\n",
      "\n",
      "\n",
      "\n",
      "\n",
      "\n",
      "\n",
      "Simulating eps-greedy:   0%|          | 0/10 [00:00<?, ?it/s]\u001b[A\u001b[A\u001b[A\u001b[A\u001b[A\u001b[A\u001b[A\u001b[A"
     ]
    },
    {
     "name": "stdout",
     "output_type": "stream",
     "text": [
      ">> Simulating algorithm eps-greedy\n"
     ]
    },
    {
     "name": "stderr",
     "output_type": "stream",
     "text": [
      "\n",
      "\n",
      "\n",
      "\n",
      "\n",
      "\n",
      "\n",
      "\n",
      "Simulating eps-greedy:  10%|█         | 1/10 [00:07<01:10,  7.81s/it]\u001b[A\u001b[A\u001b[A\u001b[A\u001b[A\u001b[A\u001b[A\u001b[A\n",
      "\n",
      "\n",
      "\n",
      "\n",
      "\n",
      "\n",
      "\n",
      "Simulating eps-greedy:  20%|██        | 2/10 [00:16<01:04,  8.03s/it]\u001b[A\u001b[A\u001b[A\u001b[A\u001b[A\u001b[A\u001b[A\u001b[A\n",
      "\n",
      "\n",
      "\n",
      "\n",
      "\n",
      "\n",
      "\n",
      "Simulating eps-greedy:  30%|███       | 3/10 [00:23<00:54,  7.79s/it]\u001b[A\u001b[A\u001b[A\u001b[A\u001b[A\u001b[A\u001b[A\u001b[A\n",
      "\n",
      "\n",
      "\n",
      "\n",
      "\n",
      "\n",
      "\n",
      "Simulating eps-greedy:  40%|████      | 4/10 [00:32<00:48,  8.16s/it]\u001b[A\u001b[A\u001b[A\u001b[A\u001b[A\u001b[A\u001b[A\u001b[A\n",
      "\n",
      "\n",
      "\n",
      "\n",
      "\n",
      "\n",
      "\n",
      "Simulating eps-greedy:  50%|█████     | 5/10 [00:42<00:42,  8.42s/it]\u001b[A\u001b[A\u001b[A\u001b[A\u001b[A\u001b[A\u001b[A\u001b[A\n",
      "\n",
      "\n",
      "\n",
      "\n",
      "\n",
      "\n",
      "\n",
      "Simulating eps-greedy:  60%|██████    | 6/10 [00:55<00:37,  9.30s/it]\u001b[A\u001b[A\u001b[A\u001b[A\u001b[A\u001b[A\u001b[A\u001b[A\n",
      "\n",
      "\n",
      "\n",
      "\n",
      "\n",
      "\n",
      "\n",
      "Simulating eps-greedy:  70%|███████   | 7/10 [01:05<00:27,  9.31s/it]\u001b[A\u001b[A\u001b[A\u001b[A\u001b[A\u001b[A\u001b[A\u001b[A\n",
      "\n",
      "\n",
      "\n",
      "\n",
      "\n",
      "\n",
      "\n",
      "Simulating eps-greedy:  80%|████████  | 8/10 [01:15<00:18,  9.46s/it]\u001b[A\u001b[A\u001b[A\u001b[A\u001b[A\u001b[A\u001b[A\u001b[A\n",
      "\n",
      "\n",
      "\n",
      "\n",
      "\n",
      "\n",
      "\n",
      "Simulating eps-greedy:  90%|█████████ | 9/10 [01:22<00:09,  9.22s/it]\u001b[A\u001b[A\u001b[A\u001b[A\u001b[A\u001b[A\u001b[A\u001b[A\n",
      "\n",
      "\n",
      "\n",
      "\n",
      "\n",
      "\n",
      "\n",
      "Simulating eps-greedy: 100%|██████████| 10/10 [01:35<00:00,  9.51s/it]\u001b[A\u001b[A\u001b[A\u001b[A\u001b[A\u001b[A\u001b[A\u001b[A\n",
      "\n",
      "\n",
      "\n",
      "\n",
      "\n",
      "\n",
      "\n",
      "\u001b[A\u001b[A\u001b[A\u001b[A\u001b[A\u001b[A\u001b[A\u001b[A\n",
      "\n",
      "\n",
      "\n",
      "\n",
      "\n",
      "\n",
      "\n",
      "Simulating random:   0%|          | 0/10 [00:00<?, ?it/s]\u001b[A\u001b[A\u001b[A\u001b[A\u001b[A\u001b[A\u001b[A\u001b[A"
     ]
    },
    {
     "name": "stdout",
     "output_type": "stream",
     "text": [
      ">> Simulating algorithm random\n"
     ]
    },
    {
     "name": "stderr",
     "output_type": "stream",
     "text": [
      "\n",
      "\n",
      "\n",
      "\n",
      "\n",
      "\n",
      "\n",
      "\n",
      "Simulating random:  10%|█         | 1/10 [00:14<02:13, 14.82s/it]\u001b[A\u001b[A\u001b[A\u001b[A\u001b[A\u001b[A\u001b[A\u001b[A\n",
      "\n",
      "\n",
      "\n",
      "\n",
      "\n",
      "\n",
      "\n",
      "Simulating random:  20%|██        | 2/10 [00:23<01:35, 11.92s/it]\u001b[A\u001b[A\u001b[A\u001b[A\u001b[A\u001b[A\u001b[A\u001b[A\n",
      "\n",
      "\n",
      "\n",
      "\n",
      "\n",
      "\n",
      "\n",
      "Simulating random:  30%|███       | 3/10 [00:30<01:11, 10.23s/it]\u001b[A\u001b[A\u001b[A\u001b[A\u001b[A\u001b[A\u001b[A\u001b[A\n",
      "\n",
      "\n",
      "\n",
      "\n",
      "\n",
      "\n",
      "\n",
      "Simulating random:  40%|████      | 4/10 [00:37<00:56,  9.39s/it]\u001b[A\u001b[A\u001b[A\u001b[A\u001b[A\u001b[A\u001b[A\u001b[A\n",
      "\n",
      "\n",
      "\n",
      "\n",
      "\n",
      "\n",
      "\n",
      "Simulating random:  50%|█████     | 5/10 [00:46<00:46,  9.24s/it]\u001b[A\u001b[A\u001b[A\u001b[A\u001b[A\u001b[A\u001b[A\u001b[A\n",
      "\n",
      "\n",
      "\n",
      "\n",
      "\n",
      "\n",
      "\n",
      "Simulating random:  60%|██████    | 6/10 [00:54<00:36,  9.12s/it]\u001b[A\u001b[A\u001b[A\u001b[A\u001b[A\u001b[A\u001b[A\u001b[A\n",
      "\n",
      "\n",
      "\n",
      "\n",
      "\n",
      "\n",
      "\n",
      "Simulating random:  70%|███████   | 7/10 [01:01<00:26,  8.86s/it]\u001b[A\u001b[A\u001b[A\u001b[A\u001b[A\u001b[A\u001b[A\u001b[A\n",
      "\n",
      "\n",
      "\n",
      "\n",
      "\n",
      "\n",
      "\n",
      "Simulating random:  80%|████████  | 8/10 [01:10<00:17,  8.75s/it]\u001b[A\u001b[A\u001b[A\u001b[A\u001b[A\u001b[A\u001b[A\u001b[A\n",
      "\n",
      "\n",
      "\n",
      "\n",
      "\n",
      "\n",
      "\n",
      "Simulating random:  90%|█████████ | 9/10 [01:18<00:08,  8.70s/it]\u001b[A\u001b[A\u001b[A\u001b[A\u001b[A\u001b[A\u001b[A\u001b[A\n",
      "\n",
      "\n",
      "\n",
      "\n",
      "\n",
      "\n",
      "\n",
      "Simulating random: 100%|██████████| 10/10 [01:30<00:00,  9.04s/it]\u001b[A\u001b[A\u001b[A\u001b[A\u001b[A\u001b[A\u001b[A\u001b[A\n",
      "\n",
      "\n",
      "\n",
      "\n",
      "\n",
      "\n",
      "\n",
      "\u001b[A\u001b[A\u001b[A\u001b[A\u001b[A\u001b[A\u001b[A\u001b[A"
     ]
    },
    {
     "data": {
      "image/png": "[encoded data removed]",
      "text/plain": [
       "<matplotlib.figure.Figure at 0x10e0f93c8>"
      ]
     },
     "metadata": {},
     "output_type": "display_data"
    }
   ],
   "source": [
    "algorithms = [{'name': 'LinUCB', 'eps': 0},\n",
    "              {'name': 'eps-greedy', 'eps': epsilon},\n",
    "              {'name': 'random', 'eps': 1}]\n",
    "\n",
    "p_star = model.best_arm_reward()\n",
    "\n",
    "plt.figure(figsize=(14, 8))\n",
    "\n",
    "\n",
    "for algo in algorithms:\n",
    "    \n",
    "    eps = algo['eps']\n",
    "    name = algo['name']\n",
    "    \n",
    "    print('>> Simulating algorithm {}'.format(name))\n",
    "    \n",
    "    regret = np.zeros((nb_simu, T))\n",
    "    norm_dist = np.zeros((nb_simu, T))\n",
    "\n",
    "    for k in tqdm(range(nb_simu), desc=\"Simulating {}\".format(name)):\n",
    "\n",
    "        # Initialization (the first theta_hat is null)\n",
    "        A = lmbd * np.identity(d)\n",
    "        b = np.zeros(d)\n",
    "\n",
    "        for t in range(T):\n",
    "             \n",
    "            # Estimation of theta_hat\n",
    "            inv = np.linalg.inv(A)\n",
    "            theta_hat = inv.dot(b)\n",
    "\n",
    "            # Optimal arm\n",
    "            beta = alpha * np.sqrt(d*np.log(t+1) + 1) * np.sqrt(np.diagonal(V.dot(inv.dot(V.T))))\n",
    "            \n",
    "            if name == 'LinUCB':\n",
    "                upper_bounds = V.dot(theta_hat) + beta\n",
    "            else:\n",
    "                upper_bounds = V.dot(theta_hat)\n",
    "            \n",
    "            a_t = epsilon_greedy(upper_bounds, eps, n_a)\n",
    "\n",
    "            # Get the observed reward \n",
    "            r_t = model.reward(a_t)\n",
    "\n",
    "            # Update A and b\n",
    "            features_a_t = V[a_t].reshape(-1, 1)\n",
    "            A += features_a_t.dot(features_a_t.T)\n",
    "            b += r_t * features_a_t.flatten()\n",
    "            \n",
    "            # store regret\n",
    "            regret[k, t] = model.best_arm_reward() - r_t\n",
    "            norm_dist[k, t] = np.linalg.norm(theta_hat - model.real_theta, 2)\n",
    "            \n",
    "\n",
    "    # compute average (over sim) of the algorithm performance and plot it\n",
    "    mean_norms = np.mean(norm_dist, axis=0)\n",
    "    mean_regret = np.mean(regret, axis=0)\n",
    "\n",
    "    plt.subplot(121)\n",
    "    plt.plot(mean_norms, label=name)\n",
    "    plt.ylabel('d(theta, theta_hat)')\n",
    "    plt.xlabel('Rounds')\n",
    "    plt.legend()\n",
    "\n",
    "    plt.subplot(122)\n",
    "    plt.plot(np.log(mean_regret.cumsum()), label=name)\n",
    "    plt.ylabel('Cumulative Regret')\n",
    "    plt.yscale('log')\n",
    "    plt.xlabel('Rounds')\n",
    "    plt.legend()\n",
    "\n",
    "plt.show()"
   ]
  },
  {
   "cell_type": "code",
   "execution_count": null,
   "metadata": {},
   "outputs": [],
   "source": []
  }
 ],
 "metadata": {
  "kernelspec": {
   "display_name": "Python 3",
   "language": "python",
   "name": "python3"
  },
  "language_info": {
   "codemirror_mode": {
    "name": "ipython",
    "version": 3
   },
   "file_extension": ".py",
   "mimetype": "text/x-python",
   "name": "python",
   "nbconvert_exporter": "python",
   "pygments_lexer": "ipython3",
   "version": "3.6.4"
  }
 },
 "nbformat": 4,
 "nbformat_minor": 2
}
