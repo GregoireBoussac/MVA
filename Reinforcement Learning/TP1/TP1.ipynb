{
 "cells": [
  {
   "cell_type": "markdown",
   "metadata": {},
   "source": [
    "<h1>TP 1 - Grégoire Boussac</h1>"
   ]
  },
  {
   "cell_type": "code",
   "execution_count": 1,
   "metadata": {},
   "outputs": [],
   "source": [
    "import numpy as np\n",
    "import matplotlib.pyplot as plt\n",
    "import sys\n",
    "import random\n",
    "import time\n",
    "from tqdm import tqdm"
   ]
  },
  {
   "cell_type": "code",
   "execution_count": 2,
   "metadata": {},
   "outputs": [],
   "source": [
    "sys.path.append('TP1_python/')"
   ]
  },
  {
   "cell_type": "code",
   "execution_count": 3,
   "metadata": {},
   "outputs": [],
   "source": [
    "norm_inf = lambda x: np.linalg.norm(x, ord=np.inf)"
   ]
  },
  {
   "cell_type": "markdown",
   "metadata": {},
   "source": [
    "<h2>1 - Dynamic programming</h2>"
   ]
  },
  {
   "cell_type": "code",
   "execution_count": 4,
   "metadata": {},
   "outputs": [],
   "source": [
    "def mdp():\n",
    "    # action, state, state -> probability\n",
    "    P = np.zeros((3, 3, 3))\n",
    "\n",
    "    P[0, 0, 0] = 0.55\n",
    "    P[0, 0, 1] = 0.45\n",
    "    P[0, 0, 2] = 0\n",
    "    P[0, 1, 0] = 1\n",
    "    P[0, 1, 1] = 0\n",
    "    P[0, 1, 2] = 0\n",
    "    P[0, 2, 0] = 0\n",
    "    P[0, 2, 1] = 1\n",
    "    P[0, 2, 2] = 0\n",
    "\n",
    "    P[1, 0, 0] = 0.3\n",
    "    P[1, 0, 1] = 0.7\n",
    "    P[1, 0, 2] = 0\n",
    "    P[1, 1, 0] = 0\n",
    "    P[1, 1, 1] = 0.4\n",
    "    P[1, 1, 2] = 0.6\n",
    "    P[1, 2, 0] = 0\n",
    "    P[1, 2, 1] = 0.6\n",
    "    P[1, 2, 2] = 0.4\n",
    "\n",
    "    P[2, 0, 0] = 1\n",
    "    P[2, 0, 1] = 0\n",
    "    P[2, 0, 2] = 0\n",
    "    P[2, 1, 0] = 0\n",
    "    P[2, 1, 1] = 1\n",
    "    P[2, 1, 2] = 0\n",
    "    P[2, 2, 0] = 0\n",
    "    P[2, 2, 1] = 0\n",
    "    P[2, 2, 2] = 1\n",
    "\n",
    "    # state, action -> reward\n",
    "    R = np.zeros((3, 3))\n",
    "    \n",
    "    R[0, 0] = 0\n",
    "    R[0, 1] = 0\n",
    "    R[0, 2] = 5/100\n",
    "    \n",
    "    R[1, 0] = 0\n",
    "    R[1, 1] = 0\n",
    "    R[1, 2] = 0\n",
    "    \n",
    "    R[2, 0] = 0\n",
    "    R[2, 1] = 1\n",
    "    R[2, 2] = 9/10\n",
    "\n",
    "    return P, R"
   ]
  },
  {
   "cell_type": "code",
   "execution_count": 5,
   "metadata": {},
   "outputs": [],
   "source": [
    "def compute_Q_value_function(Q, R, P):\n",
    "    Q = R + gamma * np.dot(P, Q).T\n",
    "    return Q\n",
    "\n",
    "def compute_optimal_value_function(Q, R, P):\n",
    "    \n",
    "    Q = compute_Q_value_function(Q, R, P)\n",
    "    return np.max(Q, axis=1)\n",
    "\n",
    "def compute_optimal_policy(Q, R, P):\n",
    "    \n",
    "    Q = compute_Q_value_function(Q, R, P)\n",
    "    return np.argmax(Q, axis=1)"
   ]
  },
  {
   "cell_type": "code",
   "execution_count": 6,
   "metadata": {},
   "outputs": [],
   "source": [
    "def value_iteration(V0, R, P, eps):\n",
    "    hist_V = [V0]\n",
    "    stop = False\n",
    "    cpt = 0\n",
    "    \n",
    "    while not stop:\n",
    "        hist_V.append(compute_optimal_value_function(hist_V[-1], R, P))\n",
    "\n",
    "        # Stopping condition\n",
    "        error = norm_inf(hist_V[-1] - hist_V[-2])\n",
    "        if (error < eps or cpt>3000):\n",
    "            stop = True\n",
    "\n",
    "        cpt += 1\n",
    "\n",
    "        if not cpt%10:\n",
    "            print('Iteration {} ; Error = {}'.format(cpt, error))\n",
    "\n",
    "    # Optimal policy\n",
    "    greedy_policy = compute_optimal_policy(hist_V[-1], R, P)\n",
    "\n",
    "    return greedy_policy, hist_V"
   ]
  },
  {
   "cell_type": "markdown",
   "metadata": {},
   "source": [
    "- Q1)"
   ]
  },
  {
   "cell_type": "code",
   "execution_count": 7,
   "metadata": {},
   "outputs": [],
   "source": [
    "nb_states = 3\n",
    "P, R = mdp()\n",
    "gamma = 0.95\n",
    "eps = 0.01"
   ]
  },
  {
   "cell_type": "code",
   "execution_count": 8,
   "metadata": {},
   "outputs": [
    {
     "name": "stdout",
     "output_type": "stream",
     "text": [
      "Iteration 10 ; Error = 0.5323948961094729\n",
      "Iteration 20 ; Error = 0.31876449056272094\n",
      "Iteration 30 ; Error = 0.19085607541740401\n",
      "Iteration 40 ; Error = 0.11427258243046623\n",
      "Iteration 50 ; Error = 0.06841921624328506\n",
      "Iteration 60 ; Error = 0.04096511211859166\n",
      "Iteration 70 ; Error = 0.02452732584544215\n",
      "Iteration 80 ; Error = 0.014685416004404317\n",
      "Elapsed time = 0.007482051849365234 s\n",
      "Optimal policy :  [1 1 2]\n"
     ]
    }
   ],
   "source": [
    "V0 = np.ones(nb_states)\n",
    "t0 = time.time()\n",
    "greedy_policy, hist_V = value_iteration(V0, R, P, eps)\n",
    "print('Elapsed time = {} s'.format(time.time()-t0))\n",
    "print('Optimal policy : ', greedy_policy)"
   ]
  },
  {
   "cell_type": "code",
   "execution_count": 9,
   "metadata": {},
   "outputs": [
    {
     "data": {
      "image/png": "[encoded data removed]",
      "text/plain": [
       "<matplotlib.figure.Figure at 0x112e407b8>"
      ]
     },
     "metadata": {},
     "output_type": "display_data"
    }
   ],
   "source": [
    "v_star = hist_V[-1]\n",
    "errors = [norm_inf(v - v_star) for v in hist_V]\n",
    "\n",
    "plt.figure(figsize=(10,6))\n",
    "plt.plot(errors, label=r'$||x^k - x^{\\ast} ||$')\n",
    "plt.xlabel('Number of iterations')\n",
    "plt.ylabel('Error')\n",
    "plt.legend()\n",
    "plt.show()"
   ]
  },
  {
   "cell_type": "markdown",
   "metadata": {},
   "source": [
    "- Q2)"
   ]
  },
  {
   "cell_type": "code",
   "execution_count": 10,
   "metadata": {},
   "outputs": [],
   "source": [
    "def compute_policy_value(policy, R, P):\n",
    "    P_policy = np.array([P[policy[x], x, :] for x in range(nb_states)])\n",
    "    R_policy = np.array([R[x, policy[x]] for x in range(nb_states)])\n",
    "    \n",
    "    value_policy = np.linalg.solve((np.identity(P_policy.shape[0]) - gamma*P_policy), R_policy)\n",
    "    \n",
    "    return value_policy\n",
    "\n",
    "def exact_policy_iteration(initial_policy, R, P, eps):\n",
    "    hist_V = [compute_policy_value(initial_policy, R, P)]\n",
    "    cpt = 0\n",
    "    stop = False\n",
    "\n",
    "    while not stop:            \n",
    "        greedy_policy = compute_optimal_policy(hist_V[-1], R, P)\n",
    "        hist_V.append(compute_policy_value(greedy_policy, R, P))\n",
    "        \n",
    "        if np.array_equal(hist_V[-1], hist_V[-2]):\n",
    "            stop = True\n",
    "            \n",
    "        cpt += 1\n",
    "\n",
    "    return greedy_policy, hist_V  "
   ]
  },
  {
   "cell_type": "code",
   "execution_count": 11,
   "metadata": {},
   "outputs": [],
   "source": [
    "nb_states = 3\n",
    "P, R = mdp()\n",
    "gamma = 0.95\n",
    "eps = 0.01"
   ]
  },
  {
   "cell_type": "code",
   "execution_count": 12,
   "metadata": {},
   "outputs": [
    {
     "name": "stdout",
     "output_type": "stream",
     "text": [
      "Elapsed time = 0.0009920597076416016 s\n",
      "Optimal policy :  [1 1 2]\n"
     ]
    }
   ],
   "source": [
    "initial_policy = [0, 0, 0]\n",
    "t0 = time.time()\n",
    "greedy_policy, hist_V = exact_policy_iteration(initial_policy, R, P, eps)\n",
    "print('Elapsed time = {} s'.format(time.time()-t0))\n",
    "print('Optimal policy : ', greedy_policy)"
   ]
  },
  {
   "cell_type": "code",
   "execution_count": 13,
   "metadata": {},
   "outputs": [
    {
     "data": {
      "image/png": "[encoded data removed]",
      "text/plain": [
       "<matplotlib.figure.Figure at 0x1130d1780>"
      ]
     },
     "metadata": {},
     "output_type": "display_data"
    }
   ],
   "source": [
    "v_star = hist_V[-1]\n",
    "errors = [np.linalg.norm(v - v_star, np.inf) for v in hist_V]\n",
    "\n",
    "plt.figure(figsize=(10,6))\n",
    "plt.plot(errors, label=r'$||x^k - x^{\\ast} ||$')\n",
    "plt.xlabel('Number of iterations')\n",
    "plt.ylabel('Error')\n",
    "plt.legend()\n",
    "plt.show()"
   ]
  },
  {
   "cell_type": "markdown",
   "metadata": {},
   "source": [
    "<h2>2 - Reinforcement Learning</h2>"
   ]
  },
  {
   "cell_type": "markdown",
   "metadata": {},
   "source": [
    "- Q4)"
   ]
  },
  {
   "cell_type": "code",
   "execution_count": 14,
   "metadata": {},
   "outputs": [],
   "source": [
    "v_q4 = [0.87691855, 0.92820033, 0.98817903, 0.00000000, 0.67106071, -0.99447514, 0.00000000, -0.82847001, -0.87691855,\n",
    "        -0.93358351, -0.99447514]"
   ]
  },
  {
   "cell_type": "code",
   "execution_count": 15,
   "metadata": {},
   "outputs": [],
   "source": [
    "from gridworld import *"
   ]
  },
  {
   "cell_type": "code",
   "execution_count": 16,
   "metadata": {},
   "outputs": [],
   "source": [
    "# Define the grid world\n",
    "grid = [\n",
    "    ['', '', '', 1],\n",
    "    ['', 'x', '', -1],\n",
    "    ['', '', '', '']\n",
    "]\n",
    "env = GridWorld(gamma=0.95, grid=grid)"
   ]
  },
  {
   "cell_type": "code",
   "execution_count": 17,
   "metadata": {},
   "outputs": [],
   "source": [
    "# Define the determinictic policy \"right when available, otherwise up.\"\n",
    "initial_policy = [0, 0, 0, 0, 3, 0, 0, 0, 0, 0, 3]"
   ]
  },
  {
   "cell_type": "code",
   "execution_count": 18,
   "metadata": {},
   "outputs": [],
   "source": [
    "delta = 1e-1\n",
    "gamma = 0.95\n",
    "Tmax = int(round(-np.log10(delta/1) / (1-gamma))) # R_Max = 1\n",
    "n = int(1e4) # Total number of trajectories"
   ]
  },
  {
   "cell_type": "code",
   "execution_count": 22,
   "metadata": {},
   "outputs": [],
   "source": [
    "def compute_Vn(env, n, normalize=True):\n",
    "    \n",
    "    n_states = env.n_states\n",
    "    n_actions = len(env.action_names)\n",
    "    available_actions = env.state_actions\n",
    "    \n",
    "    N = np.zeros((n_states, n_actions))\n",
    "    Vk = np.zeros((n_states, n_actions))\n",
    "\n",
    "    # n trajectories in total\n",
    "    for k in range(n):\n",
    "\n",
    "        t=1\n",
    "        s1 = env.reset()\n",
    "        a1 = np.random.choice(available_actions[s1])\n",
    "        N[s1, a1] += 1\n",
    "\n",
    "        next_state = s1\n",
    "        absorb = False\n",
    "\n",
    "        while not absorb and t < Tmax:\n",
    "\n",
    "            action = initial_policy[next_state]\n",
    "            next_state, reward, absorb = env.step(next_state, action)\n",
    "            Vk[s1, a1] +=  reward * ( env.gamma**(t-1) )\n",
    "\n",
    "            t+=1\n",
    "            \n",
    "    if normalize:\n",
    "        Vn = np.nanmax(Vk / N, axis=1)\n",
    "    else:\n",
    "        Vn = Vk\n",
    "        \n",
    "    return Vn, N"
   ]
  },
  {
   "cell_type": "code",
   "execution_count": 23,
   "metadata": {},
   "outputs": [],
   "source": [
    "def policy_evaluation(env):\n",
    "    env.render = False\n",
    "\n",
    "    hist_V = []\n",
    "\n",
    "    Nmax = 2000\n",
    "\n",
    "    for n in range(1, Nmax, 10):\n",
    "        if not (n-1)%200:\n",
    "            print('>> Iteration {}/{}'.format(n-1, Nmax))\n",
    "        \n",
    "        Vn, N = compute_Vn(env, n, False)\n",
    "        \n",
    "        # Memorize this approximation\n",
    "        hist_V.append(np.nanmax(Vn / N, axis=1))\n",
    "    \n",
    "    print('... Done')\n",
    "    \n",
    "    return hist_V, N"
   ]
  },
  {
   "cell_type": "code",
   "execution_count": 24,
   "metadata": {},
   "outputs": [
    {
     "name": "stdout",
     "output_type": "stream",
     "text": [
      ">> Iteration 0/2000\n"
     ]
    },
    {
     "name": "stderr",
     "output_type": "stream",
     "text": [
      "/anaconda3/lib/python3.6/site-packages/ipykernel_launcher.py:15: RuntimeWarning: invalid value encountered in true_divide\n",
      "  from ipykernel import kernelapp as app\n",
      "/anaconda3/lib/python3.6/site-packages/ipykernel_launcher.py:15: RuntimeWarning: All-NaN slice encountered\n",
      "  from ipykernel import kernelapp as app\n"
     ]
    },
    {
     "name": "stdout",
     "output_type": "stream",
     "text": [
      ">> Iteration 200/2000\n",
      ">> Iteration 400/2000\n",
      ">> Iteration 600/2000\n",
      ">> Iteration 800/2000\n",
      ">> Iteration 1000/2000\n",
      ">> Iteration 1200/2000\n",
      ">> Iteration 1400/2000\n",
      ">> Iteration 1600/2000\n",
      ">> Iteration 1800/2000\n",
      "... Done\n"
     ]
    }
   ],
   "source": [
    "hist_V, N = policy_evaluation(env)"
   ]
  },
  {
   "cell_type": "code",
   "execution_count": 25,
   "metadata": {},
   "outputs": [
    {
     "name": "stderr",
     "output_type": "stream",
     "text": [
      "/anaconda3/lib/python3.6/site-packages/ipykernel_launcher.py:30: RuntimeWarning: invalid value encountered in true_divide\n"
     ]
    }
   ],
   "source": [
    "# Compute N with a large value of n, for more accuracy\n",
    "V_large, N_large = compute_Vn(env, 10000, True)"
   ]
  },
  {
   "cell_type": "markdown",
   "metadata": {},
   "source": [
    "- Approximation of $\\mu_0$ :"
   ]
  },
  {
   "cell_type": "code",
   "execution_count": 26,
   "metadata": {},
   "outputs": [],
   "source": [
    "def compute_mu0(N):\n",
    "    return [np.sum(N[i,:])/n for i in range(n_states)]"
   ]
  },
  {
   "cell_type": "code",
   "execution_count": 27,
   "metadata": {},
   "outputs": [],
   "source": [
    "def compute_J(V, mu0):\n",
    "    return np.sum(mu0_approx[s]*V[s] for s in range(n_states))"
   ]
  },
  {
   "cell_type": "code",
   "execution_count": 30,
   "metadata": {},
   "outputs": [],
   "source": [
    "n_states = env.n_states\n",
    "n_actions = len(env.action_names)\n",
    "available_actions = env.state_actions"
   ]
  },
  {
   "cell_type": "code",
   "execution_count": 31,
   "metadata": {},
   "outputs": [],
   "source": [
    "# Estimate mu0 via Monte-carlo, based on the last estimation of the matrix N\n",
    "mu0_approx = compute_mu0(N_large)\n",
    "\n",
    "J_pi = compute_J(v_q4, mu0_approx)\n",
    "\n",
    "gaps = []\n",
    "\n",
    "for Vk in hist_V:\n",
    "    gaps.append(compute_J(Vk, mu0_approx)-J_pi)"
   ]
  },
  {
   "cell_type": "code",
   "execution_count": 32,
   "metadata": {},
   "outputs": [
    {
     "data": {
      "image/png": "[encoded data removed]",
      "text/plain": [
       "<matplotlib.figure.Figure at 0x11370b438>"
      ]
     },
     "metadata": {},
     "output_type": "display_data"
    }
   ],
   "source": [
    "plt.figure(figsize=(10,6))\n",
    "plt.plot(gaps, label=r'$J_n-J^{\\pi}$')\n",
    "plt.xlabel('Number n of trajectories')\n",
    "plt.ylabel('Gap')\n",
    "plt.legend()\n",
    "plt.show()"
   ]
  },
  {
   "cell_type": "markdown",
   "metadata": {},
   "source": [
    "- Q5)"
   ]
  },
  {
   "cell_type": "code",
   "execution_count": 33,
   "metadata": {},
   "outputs": [],
   "source": [
    "v_opt = [0.87691855, 0.92820033, 0.98817903, 0.00000000, 0.82369294, 0.92820033, 0.00000000, 0.77818504, 0.82369294,\n",
    "         0.87691855, 0.82847001]"
   ]
  },
  {
   "cell_type": "code",
   "execution_count": 38,
   "metadata": {},
   "outputs": [],
   "source": [
    "def get_greedy_action(env, Q, state, eps):\n",
    "    \n",
    "    if random.random() < eps:\n",
    "        state_available_actions = env.state_actions[state]\n",
    "        action = np.random.choice(state_available_actions)\n",
    "    else:\n",
    "        action = np.nanargmax(Q[state])\n",
    "        \n",
    "    return action\n",
    "\n",
    "\n",
    "\n",
    "def Q_learning(env, n, Tmax, eps, alpha):\n",
    "    \n",
    "    env.render = False    \n",
    "\n",
    "    hist_greedy_policy = []\n",
    "    hist_V = []\n",
    "    hist_cumulated_reward = []\n",
    "    cumulated_reward = 0\n",
    "\n",
    "    n_actions = len(env.action_names)\n",
    "    n_states = env.n_states\n",
    "    \n",
    "    # Initialize Q to zero\n",
    "    Q = np.zeros((n_states, n_actions))\n",
    "    \n",
    "    # Set value of non-feasible states with np.nan\n",
    "    for s in range(n_states):\n",
    "        forbidden_actions = [i for i in range(n_actions) if i not in env.state_actions[s]]\n",
    "        Q[s, forbidden_actions] = np.nan\n",
    "    \n",
    "    # Loop over trajectories\n",
    "    for i in range(n):\n",
    "        \n",
    "        current_state = env.reset()\n",
    "        \n",
    "        absorb = False\n",
    "        stop = False\n",
    "        t = 1\n",
    "        \n",
    "        while t < Tmax and not stop:\n",
    "            if absorb:\n",
    "\n",
    "                hist_V.append(np.nanmax(Q, axis=1))\n",
    "                \n",
    "                \n",
    "                hist_greedy_policy.append(np.nanargmax(Q, axis=1))\n",
    "                \n",
    "                hist_cumulated_reward.append(cumulated_reward)\n",
    "                \n",
    "                stop = True\n",
    "            \n",
    "            else:\n",
    "                action = get_greedy_action(env, Q, current_state, eps)  \n",
    "                \n",
    "                next_state, reward, absorb = env.step(current_state, action)\n",
    "                \n",
    "                update = reward + env.gamma * np.nanmax(Q[next_state]) - Q[current_state][action]\n",
    "                \n",
    "                cumulated_reward += reward\n",
    "                \n",
    "                Q[current_state][action] += alpha * update\n",
    "                \n",
    "                current_state = next_state\n",
    "            t+=1\n",
    "\n",
    "    return Q, hist_V, hist_greedy_policy, hist_cumulated_reward"
   ]
  },
  {
   "cell_type": "markdown",
   "metadata": {},
   "source": [
    "<h2>Experiments</h2>"
   ]
  },
  {
   "cell_type": "markdown",
   "metadata": {},
   "source": [
    "- Influence of epsilon on the cumulated rewards"
   ]
  },
  {
   "cell_type": "code",
   "execution_count": 43,
   "metadata": {},
   "outputs": [
    {
     "name": "stdout",
     "output_type": "stream",
     "text": [
      ">> Running Q-learning algorithm for different values of epsilon\n",
      "... Done\n"
     ]
    }
   ],
   "source": [
    "# Run the Q learning algorithm for different values of epsilon\n",
    "n = 5000\n",
    "alpha = 0.1\n",
    "\n",
    "values_eps = 0.05 * np.array(range(21))\n",
    "\n",
    "best_cumulated_rewards = []\n",
    "best_value_functions = []\n",
    "\n",
    "print('>> Running Q-learning algorithm for different values of epsilon')\n",
    "\n",
    "for eps in values_eps:\n",
    "    _, hist_V, _, hist_cumulated_reward = Q_learning(env, n, Tmax, eps, alpha)\n",
    "    \n",
    "    best_cumulated_rewards.append(hist_cumulated_reward[-1])\n",
    "    best_value_functions.append(hist_V[-1])\n",
    "    \n",
    "print('... Done')"
   ]
  },
  {
   "cell_type": "code",
   "execution_count": 44,
   "metadata": {},
   "outputs": [
    {
     "data": {
      "image/png": "[encoded data removed]",
      "text/plain": [
       "<matplotlib.figure.Figure at 0x11417ab70>"
      ]
     },
     "metadata": {},
     "output_type": "display_data"
    }
   ],
   "source": [
    "# Plot the convergence of the Q learning algorithm\n",
    "plt.figure(figsize=(10,6))\n",
    "plt.plot(values_eps, best_cumulated_rewards, label='Cumulated rewards')\n",
    "plt.xlabel(\"Epsilon\")\n",
    "plt.legend()\n",
    "plt.show()"
   ]
  },
  {
   "cell_type": "markdown",
   "metadata": {},
   "source": [
    "- Influence of alpha on the cumulated rewards"
   ]
  },
  {
   "cell_type": "code",
   "execution_count": 45,
   "metadata": {},
   "outputs": [
    {
     "name": "stdout",
     "output_type": "stream",
     "text": [
      ">> Running Q-learning algorithm for different values of epsilon\n",
      "... Done\n"
     ]
    }
   ],
   "source": [
    "n = 5000\n",
    "eps = 0.1\n",
    "\n",
    "values_alpha = 0.1 * np.array(range(11))\n",
    "\n",
    "best_cumulated_rewards = []\n",
    "best_value_functions = []\n",
    "\n",
    "print('>> Running Q-learning algorithm for different values of epsilon')\n",
    "\n",
    "for alpha in values_alpha:\n",
    "    _, hist_V, _, hist_cumulated_reward = Q_learning(env, n, Tmax, eps, alpha)\n",
    "    \n",
    "    best_cumulated_rewards.append(hist_cumulated_reward[-1])\n",
    "    best_value_functions.append(hist_V[-1])\n",
    "    \n",
    "print('... Done')"
   ]
  },
  {
   "cell_type": "code",
   "execution_count": 46,
   "metadata": {},
   "outputs": [
    {
     "data": {
      "image/png": "[encoded data removed]",
      "text/plain": [
       "<matplotlib.figure.Figure at 0x11417aa20>"
      ]
     },
     "metadata": {},
     "output_type": "display_data"
    }
   ],
   "source": [
    "# Plot the convergence of the Q learning algorithm\n",
    "plt.figure(figsize=(10,6))\n",
    "plt.step(values_alpha, best_cumulated_rewards, label='Cumulated rewards')\n",
    "plt.xlabel(\"Alpha\")\n",
    "plt.title('5000 trajectories ; epsilon = 0.1')\n",
    "plt.legend()\n",
    "plt.show()"
   ]
  },
  {
   "cell_type": "markdown",
   "metadata": {},
   "source": [
    "* Plot convergence of the algorithm"
   ]
  },
  {
   "cell_type": "code",
   "execution_count": 47,
   "metadata": {},
   "outputs": [
    {
     "name": "stdout",
     "output_type": "stream",
     "text": [
      "... Done\n"
     ]
    }
   ],
   "source": [
    "n = 10000\n",
    "eps = 0.1\n",
    "alpha = 1e-2\n",
    "_, hist_V, _, _ = Q_learning(env, n, Tmax, eps, alpha)\n",
    "print('... Done')"
   ]
  },
  {
   "cell_type": "code",
   "execution_count": 48,
   "metadata": {},
   "outputs": [
    {
     "data": {
      "image/png": "[encoded data removed]",
      "text/plain": [
       "<matplotlib.figure.Figure at 0x112f8b470>"
      ]
     },
     "metadata": {},
     "output_type": "display_data"
    }
   ],
   "source": [
    "# Plot the convergence of the Q learning algorithm\n",
    "plt.figure(figsize=(10,6))\n",
    "gaps = [norm_inf(V-v_opt) for V in hist_V]\n",
    "plt.plot(gaps, label=r'$||v^k - v^{\\ast}||_{\\infty}$')\n",
    "plt.xlabel(\"Number of iterations\")\n",
    "plt.legend()\n",
    "plt.show()"
   ]
  }
 ],
 "metadata": {
  "kernelspec": {
   "display_name": "Python 3",
   "language": "python",
   "name": "python3"
  },
  "language_info": {
   "codemirror_mode": {
    "name": "ipython",
    "version": 3
   },
   "file_extension": ".py",
   "mimetype": "text/x-python",
   "name": "python",
   "nbconvert_exporter": "python",
   "pygments_lexer": "ipython3",
   "version": "3.6.4"
  }
 },
 "nbformat": 4,
 "nbformat_minor": 2
}
